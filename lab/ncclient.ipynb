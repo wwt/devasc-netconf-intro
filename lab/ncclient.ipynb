{
 "cells": [
  {
   "cell_type": "markdown",
   "metadata": {},
   "source": [
    "# [DevNet Associate Model-Driven Programmability - NETCONF](https://learningnetwork.cisco.com/s/devnet-associate-exam-topics)\n",
    "## Exam Topics:\n",
    "### 3.8 Apply concepts of model driven programmability (YANG, RESTCONF, and NETCONF) in a Cisco environment\n",
    "### 5.1 Describe the value of model driven programmability for infrastructure automation\n",
    "### 5.10 Interpret the results of a RESTCONF or NETCONF query\n",
    "### 5.11 Interpret basic YANG models\n",
    "\n",
    "---\n",
    "\n",
    "### Tasks:\n",
    "1. Lab Environment Overview.\n",
    "2. Explore YANG Models with [**YANG Suite**](https://developer.cisco.com/yangsuite/).\n",
    "3. Interact with IOS-XE YANG Modules Using Python [**ncclient**](https://developer.cisco.com/codeexchange/github/repo/ncclient/ncclient/).\n",
    "\n",
    "---"
   ]
  },
  {
   "cell_type": "markdown",
   "metadata": {},
   "source": [
    "### Lab Environment Overview\n",
    "The Programmability Foundations Lab has two CSR1000v devices which run IOS-XE 16.2(2s). Access information for these devices is as follows:\n",
    "1. **Router 1 (R1)** - r1.lab.local (192.168.2.161)\n",
    "2. **Router 2 (R2)** - r2.lab.local (192.168.2.162)\n",
    "3. **Username** - wwt\n",
    "4. **Password** - WWTwwt1!\n",
    " \n",
    " \n",
    "The [Programmability Foundations Lab Guide](https://labs.wwtatc.com/lab-guides/programmability_foundations_lab/index.html) has complete lab topology information."
   ]
  },
  {
   "cell_type": "markdown",
   "metadata": {},
   "source": [
    "#### Connect to R1 & R2\n",
    "1. Click the **MTPuTTY** icon in the taskbar.\n",
    "2. Expand the **PuTTY Sessions** folder.\n",
    "3. Double-click on each **r1.lab.local** and **r2.lab.local** to establish SSH sessions.\n",
    "4. When prompted, log on to both routers.\n",
    "\n",
    "![1_mtputty.png](_images/1_mtputty.png)"
   ]
  },
  {
   "cell_type": "markdown",
   "metadata": {},
   "source": [
    "#### Disable Session Timeout on R2\n",
    "SSH sessions to **R1** have no time limit although SSH sessions to **R2** expire after 10 minutes of inactivity.\n",
    "\n",
    "##### Enter the following CLI commands on **R2** to disable VTY session timeout:\n",
    "```\n",
    "configure terminal\n",
    "!\n",
    "line vty 0 15\n",
    " exec-timeout 0\n",
    " end\n",
    "wr mem\n",
    "```"
   ]
  },
  {
   "cell_type": "markdown",
   "metadata": {},
   "source": [
    "#### Review R1 NETCONF Configuration\n",
    "\n",
    "##### Enter the following CLI command to review information about the NETCONF configuration on **R1**:\n",
    "```\n",
    "show run | include netconf\n",
    "```\n",
    "\n",
    "* The result of this command shows the single IOS-XE configuration line **netconf-yang** which enables NETCONF on the device.\n",
    "* The command **no netconf-yang**, in global configuration mode (configure terminal) will disable NETCONF, platform-wide.\n",
    "\n",
    "##### Next, enter the following commands on **R1**:\n",
    "```\n",
    "show netconf-yang datastores\n",
    "show netconf-yang status\n",
    "```\n",
    "\n",
    "The results of these commands show that:\n",
    "* The NETCONF **running** datastore is available.\n",
    "* NETCONF is enabled on the default port, 830.\n",
    "* The NETCONF **candidate** datastore is disabled.\n",
    "\n",
    "##### Finally, enter the following command on **R1**:\n",
    "```\n",
    "show netconf schema\n",
    "```\n",
    "\n",
    "This command displays the NETCONF XML RPC schema for the device which allows you to view a hierarchical representation of the available NETCONF RPCs and their paramaters."
   ]
  },
  {
   "cell_type": "markdown",
   "metadata": {},
   "source": [
    "#### Review R2 NETCONF Configuration\n",
    "\n",
    "##### Enter the following CLI command to review information about the NETCONF configuration on **R1**:\n",
    "```\n",
    "show run | include netconf\n",
    "```\n",
    "\n",
    "* The result of this command shows a line of configuration that is not in the R1 config:\n",
    "\n",
    "**netconf-yang feature candidate-datastore**.\n",
    "\n",
    "* As the syntax implies, this command enables the NETCONF **candidate** datastore.\n",
    "\n",
    "##### Enter the following commands to review the status of the NETCONF **candidate** datastore:\n",
    "```\n",
    "show netconf-yang datastores\n",
    "show netconf-yang status\n",
    "```\n",
    "\n",
    "The results of these commands show that:\n",
    "* The NETCONF **running** and **candidate** datastores are available.\n",
    "* NETCONF is enabled on the default port, 830.\n",
    "* The NETCONF **candidate** datastore is enabled.\n",
    "---"
   ]
  },
  {
   "cell_type": "markdown",
   "metadata": {},
   "source": [
    "### Explore YANG Models Using Advanced YANG Suite\n",
    "YANG Suite allows you to:\n",
    "* Explore the YANG models of compatible devices.\n",
    "* Create NETCONF payloads and filters.\n",
    "* Send and receive NETCONF RPCs."
   ]
  },
  {
   "cell_type": "markdown",
   "metadata": {},
   "source": [
    "#### Connect to R1 with YANG Suite\n",
    "* The lab setup process should have opened a second Chrome browser tab for YANG Suite.\n",
    "* If not, use the **YANG Suite** desktop shortcut to open a new tab to ANX or manually browse to [https://localhost](https://localhost).\n",
    "\n",
    "To log on to YANG Suite:\n",
    "1. Set the **Username** to **admin**.\n",
    "2. Set the **Password** to **WWTwwt1!**.\n",
    "3. Click the **Login** button.\n",
    "\n",
    "![2_anx_login.png](_images/2_anx_login.png)"
   ]
  },
  {
   "cell_type": "markdown",
   "metadata": {},
   "source": [
    "#### Wait for ANX to Download YANG Models\n",
    "* ANX will load all of the YANG models from R1 which will take 5-7 minutes.\n",
    "* The ANX main view will load as soon as the YANG model download completes.\n",
    "\n",
    "![3_anx_overview.png](_images/3_anx_overview.png)"
   ]
  },
  {
   "cell_type": "markdown",
   "metadata": {},
   "source": [
    "#### Search for YANG Models\n",
    "* Type **interfaces** in the **Search Models** field and press your **Enter** or **Return** key.\n",
    "* Notice the search results display all available YANG models which contain the word **interface**, including:\n",
    " * Cisco IOS-XE **Native** Operational model.\n",
    " * **IETF** Configuration & Operational models.\n",
    " * **OpenConfig** models.\n",
    "* To locate the Cisco IOS-XE **Native** Configuration model, search instead for **native**.\n",
    "\n",
    "![4_anx_interfaces.png](_images/4_anx_interfaces.png)"
   ]
  },
  {
   "cell_type": "markdown",
   "metadata": {},
   "source": [
    "#### Explore YANG Models\n",
    "* Click on the **ietf-interfaces** model and notice the ANX interface updates to show you details about this specific YANG element.\n",
    " * Since we selected a top-level module, ANX displays data for the first container in the hierarcchy.\n",
    "* Notice details including:\n",
    " * The element **type**.\n",
    " * The **XPath**.\n",
    " * The **Subtree Filter** - **\\*\\* *this very useful data for Python interactions* \\*\\***\n",
    "* These values will update as you navigate YANG models.\n",
    "\n",
    "![5_anx_parameters.png](_images/5_anx_parameters.png)"
   ]
  },
  {
   "cell_type": "markdown",
   "metadata": {},
   "source": [
    "#### Explore Device Data\n",
    "* ANX will show you configuration and state data for a device within the YANG model hierarchy.\n",
    "* Click the **Show Data** button and choose the **Running** datastore from the menu.\n",
    "* Expand the **ietf-interfaces** hierarchy including:\n",
    " * The **interface** list.\n",
    " * The **ipv4** container.\n",
    " * The **address** list.\n",
    "* Notice the configuration data from R1 in the hierarchy.\n",
    "* Click on the **address** element and notice the ANX display update to show, among other things, the **ietf-ip** namespace.\n",
    "\n",
    "![6_anx_data_browse_1.png](_images/6_anx_data_browse_1.png)\n",
    "\n",
    "![7_anx_data_browse_2.png](_images/7_anx_data_browse_2.png)"
   ]
  },
  {
   "cell_type": "markdown",
   "metadata": {},
   "source": [
    "#### Explore the NETCONF Console\n",
    "* ANX allows you to send and receive NETCONF payloads directly.\n",
    "* Click the **ipv4** container in the hierarchy and then click the **NETCONF Console** button.\n",
    "* In the NETCONF Console view, click the **\\<get\\>** button and then click the **Send Request** button.\n",
    "* Notice how the NETCONF Console:\n",
    " * Creates a NETCONF XML payload.\n",
    " * Sends the payload to the device in an **\\<rpc\\>** message.\n",
    " * Displays the body of the **\\<rpc-reply\\>** message.\n",
    "* The NETCONF Console allows you to manually edit XML payloads and choose between **\\<get\\>**, **\\<edit-config\\> merge**, **\\<edit-config\\> delete**, and **\\<commit\\>** operations.\n",
    " * **\\*\\* *This is another very useful way to build XML payloads for Python interactions* \\*\\***\n",
    "\n",
    "![8_anx_netconf_console_1.png](_images/8_anx_netconf_console_1.png)\n",
    "\n",
    "![9_anx_netconf_console_2.png](_images/9_anx_netconf_console_2.png)\n",
    "---"
   ]
  },
  {
   "cell_type": "markdown",
   "metadata": {},
   "source": [
    "### Interact with IOS-XE YANG Modules Using Python ncclient.\n",
    "**ncclient** is a Python NETCONF manager (client) module available on [PyPI](https://pypi.org/project/ncclient/) and is pre-installed in this environment.  **ncclient** allows you to write Python code which can interact with network devices using the NETCONF protocol.  The [**manager**](https://ncclient.readthedocs.io/en/latest/manager.html) class in the **ncclient** module contains the core methods that we will use for NETCONF interactions with network devices.\n",
    "\n",
    "The following tasks walk you through:\n",
    "* Creating NETCONF sessions to R1 & R2.\n",
    "* Using YANG Suite to build RPC payloads.\n",
    "* Sending **\\<rpc\\>** messages to R1 & R2.\n",
    "* Displaying data from **\\<rpc\\>** reply messages.\n",
    "\n",
    "The tasks rely heavily on the use of the **xmltodict** Python module, also pre-installed in this environment and available on [PyPi](https://pypi.org/project/xmltodict/).  **xmltodict** allows you to convert data between the XML and Python Dictionary encoding formats and you will see example conversions in both directions."
   ]
  },
  {
   "cell_type": "markdown",
   "metadata": {},
   "source": [
    "---\n",
    "#### Import Modules\n",
    "\n",
    "Import the following Python modules:\n",
    "* **ncclient** - NETCONF manager (client) to connect to NETCONF agents (network devices).\n",
    "* **pprint.pprint** - Method to print output in a more friendly format than the standard Python print() function.\n",
    "* **xmltodict** - Module to convert between XML and Python Dictionary encoding formats, bidirectionally."
   ]
  },
  {
   "cell_type": "code",
   "execution_count": 2,
   "metadata": {},
   "outputs": [],
   "source": [
    "from ncclient import manager\n",
    "from pprint import pprint\n",
    "import xmltodict"
   ]
  },
  {
   "cell_type": "markdown",
   "metadata": {},
   "source": [
    "---\n",
    "#### Create Dictionaries for Device Connection Properties\n",
    "\n",
    "* Create dictionary objects for **R1** and **R2** which contain the connection paramaters specified by the **manager** class of the **ncclient** module.\n",
    "  * We will use these dictionaries to connect to and authenticate with both **R1** and **R2**.\n",
    "* Verify the dictionary data by Pretty Printing the contents of each dictionary."
   ]
  },
  {
   "cell_type": "code",
   "execution_count": 3,
   "metadata": {},
   "outputs": [
    {
     "name": "stdout",
     "output_type": "stream",
     "text": [
      "{'device_params': {'name': 'csr'},\n",
      " 'host': 'r1.lab.local',\n",
      " 'hostkey_verify': False,\n",
      " 'password': 'WWTwwt1!',\n",
      " 'username': 'wwt'}\n"
     ]
    }
   ],
   "source": [
    "r1 = {\n",
    "    'host': 'r1.lab.local',\n",
    "    'username': 'wwt',\n",
    "    'password': 'WWTwwt1!',\n",
    "    'hostkey_verify': False,\n",
    "    'device_params': {\n",
    "        'name':'csr'\n",
    "    }\n",
    "}\n",
    "pprint(r1)"
   ]
  },
  {
   "cell_type": "code",
   "execution_count": 4,
   "metadata": {},
   "outputs": [
    {
     "name": "stdout",
     "output_type": "stream",
     "text": [
      "{'device_params': {'name': 'csr'},\n",
      " 'host': 'r2.lab.local',\n",
      " 'hostkey_verify': False,\n",
      " 'password': 'WWTwwt1!',\n",
      " 'username': 'wwt'}\n"
     ]
    }
   ],
   "source": [
    "r2 = {\n",
    "    'host': 'r2.lab.local',\n",
    "    'username': 'wwt',\n",
    "    'password': 'WWTwwt1!',\n",
    "    'hostkey_verify': False,\n",
    "    'device_params': {\n",
    "        'name':'csr'\n",
    "    }\n",
    "}\n",
    "pprint(r2)"
   ]
  },
  {
   "cell_type": "markdown",
   "metadata": {},
   "source": [
    "---\n",
    "#### Retreive NETCONF Agent Capabilities from R1\n",
    "\n",
    "* Use the **with** keyword in order to allow the Python *Context Manager* to automatically close the NETCONF session, after the code runs.\n",
    "  * The alternative is to manually close a NETCONF session.\n",
    "* Use the **connect** method of the **ncclient manager** class to initiate a connection to **R1**.\n",
    "  * Pass the **r1** dictionary as an argument to the **connect** method with the syntax **\\*\\*r1**.\n",
    "    * This technique is caled *Dictionary Unpacking* and converts each dictionary key to a keyword argument, with their corresponding values.\n",
    "* Assign the result of the **connect** method to the variable **conn** (short for 'connection').\n",
    "* Assign the value of the **conn.server_capabilities** attribute to the variable **caps** (short for 'capabilities')\n",
    "* Use the **len** function to determine the total number of NETCONF capabilities that **R1** reports."
   ]
  },
  {
   "cell_type": "code",
   "execution_count": 5,
   "metadata": {},
   "outputs": [
    {
     "name": "stdout",
     "output_type": "stream",
     "text": [
      "** 480 Total NETCONF Capabilities **\n"
     ]
    }
   ],
   "source": [
    "# Use a Context Manager with the \"manager\" class to handle session cleanup.\n",
    "with manager.connect(**r1) as conn:\n",
    "    caps = conn.server_capabilities\n",
    "\n",
    "print(f'** {len(caps)} Total NETCONF Capabilities **')"
   ]
  },
  {
   "cell_type": "markdown",
   "metadata": {},
   "source": [
    "---\n",
    "#### Display the First 25 Capabilities\n",
    "\n",
    "* To view a sample of **R1's** NETCONF capabilities, use a **for** loop to print the first 25 capabilities in the **caps** object.\n",
    "  * Observe the types of capabilities that **R1** reports."
   ]
  },
  {
   "cell_type": "code",
   "execution_count": 8,
   "metadata": {},
   "outputs": [
    {
     "name": "stdout",
     "output_type": "stream",
     "text": [
      "1. urn:ietf:params:netconf:base:1.0\n",
      "2. urn:ietf:params:netconf:base:1.1\n",
      "3. urn:ietf:params:netconf:capability:writable-running:1.0\n",
      "4. urn:ietf:params:netconf:capability:xpath:1.0\n",
      "5. urn:ietf:params:netconf:capability:validate:1.0\n",
      "6. urn:ietf:params:netconf:capability:validate:1.1\n",
      "7. urn:ietf:params:netconf:capability:rollback-on-error:1.0\n",
      "8. urn:ietf:params:netconf:capability:notification:1.0\n",
      "9. urn:ietf:params:netconf:capability:interleave:1.0\n",
      "10. urn:ietf:params:netconf:capability:with-defaults:1.0?basic-mode=explicit&also-supported=report-all-tagged\n",
      "11. urn:ietf:params:netconf:capability:yang-library:1.0?revision=2016-06-21&module-set-id=17215ced51adcf878cd3b5af2bbb6a8c\n",
      "12. http://tail-f.com/ns/netconf/actions/1.0\n",
      "13. http://tail-f.com/ns/netconf/extensions\n",
      "14. http://cisco.com/ns/cisco-xe-ietf-ip-deviation?module=cisco-xe-ietf-ip-deviation&revision=2016-08-10\n",
      "15. http://cisco.com/ns/cisco-xe-ietf-ipv4-unicast-routing-deviation?module=cisco-xe-ietf-ipv4-unicast-routing-deviation&revision=2015-09-11\n",
      "16. http://cisco.com/ns/cisco-xe-ietf-ipv6-unicast-routing-deviation?module=cisco-xe-ietf-ipv6-unicast-routing-deviation&revision=2015-09-11\n",
      "17. http://cisco.com/ns/cisco-xe-ietf-ospf-deviation?module=cisco-xe-ietf-ospf-deviation&revision=2018-02-09\n",
      "18. http://cisco.com/ns/cisco-xe-ietf-routing-deviation?module=cisco-xe-ietf-routing-deviation&revision=2016-07-09\n",
      "19. http://cisco.com/ns/cisco-xe-openconfig-acl-deviation?module=cisco-xe-openconfig-acl-deviation&revision=2017-08-25\n",
      "20. http://cisco.com/ns/cisco-xe-openconfig-aft-deviation?module=cisco-xe-openconfig-aft-deviation&revision=2018-12-05\n",
      "21. http://cisco.com/ns/cisco-xe-openconfig-isis-deviation?module=cisco-xe-openconfig-isis-deviation&revision=2018-12-05\n",
      "22. http://cisco.com/ns/cisco-xe-openconfig-lldp-deviation?module=cisco-xe-openconfig-lldp-deviation&revision=2018-07-25\n",
      "23. http://cisco.com/ns/cisco-xe-openconfig-mpls-deviation?module=cisco-xe-openconfig-mpls-deviation&revision=2019-06-27\n",
      "24. http://cisco.com/ns/cisco-xe-openconfig-segment-routing-deviation?module=cisco-xe-openconfig-segment-routing-deviation&revision=2018-12-05\n",
      "25. http://cisco.com/ns/mpls-static/devs?module=common-mpls-static-devs&revision=2015-09-11\n"
     ]
    }
   ],
   "source": [
    "for i in range(25):\n",
    "    print(f'{i + 1}. {list(caps)[i]}')"
   ]
  },
  {
   "cell_type": "markdown",
   "metadata": {},
   "source": [
    "---\n",
    "#### Get Interface Operational Data\n",
    "\n",
    "*Operational data* is information about the *state* of a device.  In this case, we will look at state data for one of the interfaces on **R1**.\n",
    "\n",
    "* NETCONF managers (clients) require an RPC payload to declare the type of NETCONF request (get, get-config, edit-config, etc.), the target datastore (running, candidate, etc.) plus a *filter* to specify the scope of the request.\n",
    "* **ncclient** uses a combination of methods and arguments to create a full, XML-encoded RPC.\n",
    "  * The method (get, get-config, etc.) creates the XML payload for the RPC.\n",
    "  * The **filter** keyword argument requires a properly-formatted XML payload to target the required object.\n",
    "\n",
    "\n",
    "* Use YANG Suite to build a filter as follows:\n",
    "  * YANG Model - **Cisco-IOS-XE-interfaces-oper**\n",
    "  * XPath - **/interfaces-ios-xe-oper:interfaces/interface/v4-protocol-stats**\n",
    "    * Optional - filter on interface **GigabitEthernet1**\n",
    "  * Copy and paste the data in the **\\<filter\\>** tag from YANG Suite to the **payload** variable (multiline string) below."
   ]
  },
  {
   "cell_type": "code",
   "execution_count": 47,
   "metadata": {},
   "outputs": [],
   "source": [
    "# Create a multi-line with an XML payload from YANG Suite\n",
    "payload = '''\n",
    "<filter>\n",
    " <interfaces xmlns=\"http://cisco.com/ns/yang/Cisco-IOS-XE-interfaces-oper\">\n",
    "  <interface>\n",
    "    <v4-protocol-stats/>\n",
    "    <name/>\n",
    "  </interface>\n",
    " </interfaces>\n",
    "</filter>\n",
    "'''"
   ]
  },
  {
   "cell_type": "code",
   "execution_count": 48,
   "metadata": {},
   "outputs": [],
   "source": [
    "# Create a <get> RPC message with ncclient\n",
    "with manager.connect(**r1) as conn:\n",
    "    # Use the \"get\" method and set the \"filter\" keyword argument to add the XML payload to the RPC\n",
    "    response = conn.get(filter=payload)"
   ]
  },
  {
   "cell_type": "code",
   "execution_count": 49,
   "metadata": {},
   "outputs": [
    {
     "name": "stdout",
     "output_type": "stream",
     "text": [
      "<class 'ncclient.operations.retrieve.GetReply'>\n"
     ]
    }
   ],
   "source": [
    "# Display the type for the response object\n",
    "print(type(response))"
   ]
  },
  {
   "cell_type": "code",
   "execution_count": 50,
   "metadata": {},
   "outputs": [
    {
     "name": "stdout",
     "output_type": "stream",
     "text": [
      "['ERROR_CLS', 'data', 'data_ele', 'data_xml', 'error', 'errors', 'ok', 'parse', 'xml']\n"
     ]
    }
   ],
   "source": [
    "# Display the properties of the response object\n",
    "properties = [prop for prop in dir(response) if prop[0] != '_' ]\n",
    "print(properties)"
   ]
  },
  {
   "cell_type": "code",
   "execution_count": 51,
   "metadata": {},
   "outputs": [
    {
     "name": "stdout",
     "output_type": "stream",
     "text": [
      "<?xml version=\"1.0\" encoding=\"UTF-8\"?>\n",
      "<rpc-reply xmlns=\"urn:ietf:params:xml:ns:netconf:base:1.0\" message-id=\"urn:uuid:47860c1a-2e34-4224-bb25-e8cebabfc0c5\" xmlns:nc=\"urn:ietf:params:xml:ns:netconf:base:1.0\"><data><interfaces xmlns=\"http://cisco.com/ns/yang/Cisco-IOS-XE-interfaces-oper\"><interface><name>Control Plane</name><v4-protocol-stats><in-pkts>0</in-pkts><in-octets>0</in-octets><in-error-pkts>0</in-error-pkts><in-forwarded-pkts>0</in-forwarded-pkts><in-forwarded-octets>0</in-forwarded-octets><in-discarded-pkts>0</in-discarded-pkts><out-pkts>0</out-pkts><out-octets>0</out-octets><out-error-pkts>0</out-error-pkts><out-forwarded-pkts>0</out-forwarded-pkts><out-forwarded-octets>0</out-forwarded-octets><out-discarded-pkts>0</out-discarded-pkts></v4-protocol-stats></interface><interface><name>GigabitEthernet1</name><v4-protocol-stats><in-pkts>11151</in-pkts><in-octets>1344885</in-octets><in-error-pkts>0</in-error-pkts><in-forwarded-pkts>0</in-forwarded-pkts><in-forwarded-octets>0</in-forwarded-octets><in-discarded-pkts>0</in-discarded-pkts><out-pkts>20352</out-pkts><out-octets>23289178</out-octets><out-error-pkts>0</out-error-pkts><out-forwarded-pkts>20351</out-forwarded-pkts><out-forwarded-octets>0</out-forwarded-octets><out-discarded-pkts>0</out-discarded-pkts></v4-protocol-stats></interface><interface><name>GigabitEthernet2</name><v4-protocol-stats><in-pkts>3</in-pkts><in-octets>218</in-octets><in-error-pkts>0</in-error-pkts><in-forwarded-pkts>0</in-forwarded-pkts><in-forwarded-octets>0</in-forwarded-octets><in-discarded-pkts>0</in-discarded-pkts><out-pkts>1</out-pkts><out-octets>72</out-octets><out-error-pkts>0</out-error-pkts><out-forwarded-pkts>0</out-forwarded-pkts><out-forwarded-octets>0</out-forwarded-octets><out-discarded-pkts>0</out-discarded-pkts></v4-protocol-stats></interface></interfaces></data></rpc-reply>\n"
     ]
    }
   ],
   "source": [
    "# Display the raw XML response, in the 'xml' property of the \"response\" object\n",
    "print(response.xml)"
   ]
  },
  {
   "cell_type": "code",
   "execution_count": 52,
   "metadata": {},
   "outputs": [
    {
     "name": "stdout",
     "output_type": "stream",
     "text": [
      "<?xml version=\"1.0\" encoding=\"UTF-8\"?><data xmlns=\"urn:ietf:params:xml:ns:netconf:base:1.0\" xmlns:nc=\"urn:ietf:params:xml:ns:netconf:base:1.0\"><interfaces xmlns=\"http://cisco.com/ns/yang/Cisco-IOS-XE-interfaces-oper\"><interface><name>Control Plane</name><v4-protocol-stats><in-pkts>0</in-pkts><in-octets>0</in-octets><in-error-pkts>0</in-error-pkts><in-forwarded-pkts>0</in-forwarded-pkts><in-forwarded-octets>0</in-forwarded-octets><in-discarded-pkts>0</in-discarded-pkts><out-pkts>0</out-pkts><out-octets>0</out-octets><out-error-pkts>0</out-error-pkts><out-forwarded-pkts>0</out-forwarded-pkts><out-forwarded-octets>0</out-forwarded-octets><out-discarded-pkts>0</out-discarded-pkts></v4-protocol-stats></interface><interface><name>GigabitEthernet1</name><v4-protocol-stats><in-pkts>11151</in-pkts><in-octets>1344885</in-octets><in-error-pkts>0</in-error-pkts><in-forwarded-pkts>0</in-forwarded-pkts><in-forwarded-octets>0</in-forwarded-octets><in-discarded-pkts>0</in-discarded-pkts><out-pkts>20352</out-pkts><out-octets>23289178</out-octets><out-error-pkts>0</out-error-pkts><out-forwarded-pkts>20351</out-forwarded-pkts><out-forwarded-octets>0</out-forwarded-octets><out-discarded-pkts>0</out-discarded-pkts></v4-protocol-stats></interface><interface><name>GigabitEthernet2</name><v4-protocol-stats><in-pkts>3</in-pkts><in-octets>218</in-octets><in-error-pkts>0</in-error-pkts><in-forwarded-pkts>0</in-forwarded-pkts><in-forwarded-octets>0</in-forwarded-octets><in-discarded-pkts>0</in-discarded-pkts><out-pkts>1</out-pkts><out-octets>72</out-octets><out-error-pkts>0</out-error-pkts><out-forwarded-pkts>0</out-forwarded-pkts><out-forwarded-octets>0</out-forwarded-octets><out-discarded-pkts>0</out-discarded-pkts></v4-protocol-stats></interface></interfaces></data>\n"
     ]
    }
   ],
   "source": [
    "# Display the 'data_xml' property of the \"response\" object\n",
    "print(response.data_xml)"
   ]
  },
  {
   "cell_type": "code",
   "execution_count": 53,
   "metadata": {},
   "outputs": [
    {
     "name": "stdout",
     "output_type": "stream",
     "text": [
      "{'data': {'@xmlns': 'urn:ietf:params:xml:ns:netconf:base:1.0',\n",
      "          '@xmlns:nc': 'urn:ietf:params:xml:ns:netconf:base:1.0',\n",
      "          'interfaces': {'@xmlns': 'http://cisco.com/ns/yang/Cisco-IOS-XE-interfaces-oper',\n",
      "                         'interface': [{'name': 'Control Plane',\n",
      "                                        'v4-protocol-stats': {'in-discarded-pkts': '0',\n",
      "                                                              'in-error-pkts': '0',\n",
      "                                                              'in-forwarded-octets': '0',\n",
      "                                                              'in-forwarded-pkts': '0',\n",
      "                                                              'in-octets': '0',\n",
      "                                                              'in-pkts': '0',\n",
      "                                                              'out-discarded-pkts': '0',\n",
      "                                                              'out-error-pkts': '0',\n",
      "                                                              'out-forwarded-octets': '0',\n",
      "                                                              'out-forwarded-pkts': '0',\n",
      "                                                              'out-octets': '0',\n",
      "                                                              'out-pkts': '0'}},\n",
      "                                       {'name': 'GigabitEthernet1',\n",
      "                                        'v4-protocol-stats': {'in-discarded-pkts': '0',\n",
      "                                                              'in-error-pkts': '0',\n",
      "                                                              'in-forwarded-octets': '0',\n",
      "                                                              'in-forwarded-pkts': '0',\n",
      "                                                              'in-octets': '1344885',\n",
      "                                                              'in-pkts': '11151',\n",
      "                                                              'out-discarded-pkts': '0',\n",
      "                                                              'out-error-pkts': '0',\n",
      "                                                              'out-forwarded-octets': '0',\n",
      "                                                              'out-forwarded-pkts': '20351',\n",
      "                                                              'out-octets': '23289178',\n",
      "                                                              'out-pkts': '20352'}},\n",
      "                                       {'name': 'GigabitEthernet2',\n",
      "                                        'v4-protocol-stats': {'in-discarded-pkts': '0',\n",
      "                                                              'in-error-pkts': '0',\n",
      "                                                              'in-forwarded-octets': '0',\n",
      "                                                              'in-forwarded-pkts': '0',\n",
      "                                                              'in-octets': '218',\n",
      "                                                              'in-pkts': '3',\n",
      "                                                              'out-discarded-pkts': '0',\n",
      "                                                              'out-error-pkts': '0',\n",
      "                                                              'out-forwarded-octets': '0',\n",
      "                                                              'out-forwarded-pkts': '0',\n",
      "                                                              'out-octets': '72',\n",
      "                                                              'out-pkts': '1'}}]}}}\n"
     ]
    }
   ],
   "source": [
    "# Convert the 'response.data_xml' property to a Python dictionary\n",
    "py_response = xmltodict.parse(\n",
    "    response.data_xml,\n",
    "    dict_constructor=dict\n",
    ")\n",
    "\n",
    "pprint(py_response)"
   ]
  },
  {
   "cell_type": "code",
   "execution_count": 54,
   "metadata": {},
   "outputs": [
    {
     "name": "stdout",
     "output_type": "stream",
     "text": [
      "Interface: Control Plane\n",
      "\tPackets in: 0\n",
      "\tPackets out: 0\n",
      "\n",
      "Interface: GigabitEthernet1\n",
      "\tPackets in: 11151\n",
      "\tPackets out: 20352\n",
      "\n",
      "Interface: GigabitEthernet2\n",
      "\tPackets in: 3\n",
      "\tPackets out: 1\n",
      "\n"
     ]
    }
   ],
   "source": [
    "# Display state information in a more readable format\n",
    "interface_data = py_response['data']['interfaces']['interface']\n",
    "\n",
    "# Data for multiple interfaces returns as a list of dictionaries\n",
    "if type(interface_data) is list:\n",
    "    # Loop over the list and display data for each interface\n",
    "    for inter in interface_data:\n",
    "        print(f'Interface: {inter[\"name\"]}')\n",
    "        print(f'\\tPackets in: {inter[\"v4-protocol-stats\"][\"in-pkts\"]}')\n",
    "        print(f'\\tPackets out: {inter[\"v4-protocol-stats\"][\"out-pkts\"]}\\n')\n",
    "\n",
    "# Data for a single interface returns as a dictionary\n",
    "else:\n",
    "    # Display the data for the single interface\n",
    "    print(f'Interface: {interface_data[\"name\"][\"#text\"]}')\n",
    "    print(f'\\tPackets in: {inter[\"v4-protocol-stats\"][\"in-pkts\"]}')\n",
    "    print(f'\\tPackets out: {inter[\"v4-protocol-stats\"][\"out-pkts\"]}\\n')"
   ]
  },
  {
   "cell_type": "markdown",
   "metadata": {},
   "source": [
    "---\n",
    "#### Get Interface Configuration Data\n",
    "* Use ANX to build a filter as follows:\n",
    " * YANG Model - **ietf-interfaces**\n",
    " * XPath - **/if:interfaces/interface/ip:ipv4**\n",
    " * Optional - filter on interface **GigabitEthernet1**"
   ]
  },
  {
   "cell_type": "code",
   "execution_count": null,
   "metadata": {},
   "outputs": [],
   "source": [
    "# Create a multi-line with an XML payload from ANX\n",
    "payload = '''\n",
    "<filter>\n",
    " <interfaces xmlns=\"urn:ietf:params:xml:ns:yang:ietf-interfaces\">\n",
    "  <interface>\n",
    "    <ipv4 xmlns=\"urn:ietf:params:xml:ns:yang:ietf-ip\"/>\n",
    "    <name/>\n",
    "  </interface>\n",
    " </interfaces>\n",
    "</filter>\n",
    "'''"
   ]
  },
  {
   "cell_type": "code",
   "execution_count": null,
   "metadata": {},
   "outputs": [],
   "source": [
    "# Create a <get-config> RPC message with ncclient\n",
    "with manager.connect(**r1) as conn:\n",
    "    # Use the \"get_config\" method, set the \"source\" keyword argument to \"running\", and set the \"filter\" keyword argument to add the XML payload to the RPC\n",
    "    response = conn.get_config(source='running', filter=payload)"
   ]
  },
  {
   "cell_type": "code",
   "execution_count": null,
   "metadata": {},
   "outputs": [],
   "source": [
    "# Display the type for the response object\n",
    "print(type(response))"
   ]
  },
  {
   "cell_type": "code",
   "execution_count": null,
   "metadata": {},
   "outputs": [],
   "source": [
    "# Display the 'data_xml' property of the \"response\" object\n",
    "print(response.data_xml)"
   ]
  },
  {
   "cell_type": "code",
   "execution_count": null,
   "metadata": {},
   "outputs": [],
   "source": [
    "# Convert the 'response.data_xml' property to a Python dictionary\n",
    "py_response = xmltodict.parse(\n",
    "    response.data_xml,\n",
    "    dict_constructor=dict\n",
    ")\n",
    "\n",
    "pprint(py_response)"
   ]
  },
  {
   "cell_type": "code",
   "execution_count": null,
   "metadata": {},
   "outputs": [],
   "source": [
    "# Display configuration information in a more readable format\n",
    "header_msg = '** Interface List **'\n",
    "print(f'\\n{\"-\" * len(header_msg)}')\n",
    "print(header_msg)\n",
    "print(f'{\"-\" * len(header_msg)}\\n')\n",
    "interface_config = py_response['data']['interfaces']['interface']\n",
    "for inter in interface_config:\n",
    "    print(f'Interface: {inter[\"name\"]}')\n",
    "    print(f'\\tIP Address: {inter[\"ipv4\"][\"address\"][\"ip\"]}')\n",
    "    print(f'\\tSubnet Mask: {inter[\"ipv4\"][\"address\"][\"netmask\"]}\\n')"
   ]
  },
  {
   "cell_type": "markdown",
   "metadata": {},
   "source": [
    "---\n",
    "#### Create a New Interface\n",
    "* Use ANX to build a configuration for a new Loopback interrface as follows:\n",
    " * YANG Model - **Cisco-IOS-XE-native**\n",
    " * XPath - **/ios:native/interface/Loopback/name**\n",
    " * Interface Name - **0**"
   ]
  },
  {
   "cell_type": "code",
   "execution_count": null,
   "metadata": {},
   "outputs": [],
   "source": [
    "# Create a multi-line with an XML payload from ANX\n",
    "payload = '''\n",
    "<config>\n",
    " <native xmlns=\"http://cisco.com/ns/yang/Cisco-IOS-XE-native\">\n",
    "  <interface>\n",
    "    <Loopback>\n",
    "      <name>0</name>\n",
    "    </Loopback>\n",
    "  </interface>\n",
    " </native>\n",
    "</config>\n",
    "'''"
   ]
  },
  {
   "cell_type": "code",
   "execution_count": null,
   "metadata": {},
   "outputs": [],
   "source": [
    "# Create an <edit-config> RPC message with ncclient\n",
    "with manager.connect(**r1) as conn:\n",
    "    # Use the \"edit_config\" method, set the \"target\" keyword argument to \"running\", and set the \"config\" keyword argument to add the XML payload to the RPC\n",
    "    response = conn.edit_config(target='running', config=payload)"
   ]
  },
  {
   "cell_type": "code",
   "execution_count": null,
   "metadata": {},
   "outputs": [],
   "source": [
    "# Display the properties of the response object\n",
    "properties = [prop for prop in dir(response) if prop[0] != '_' ]\n",
    "print(properties)"
   ]
  },
  {
   "cell_type": "code",
   "execution_count": null,
   "metadata": {
    "jupyter": {
     "source_hidden": true
    }
   },
   "outputs": [],
   "source": [
    "# Display the 'xml' property of the \"response\" object\n",
    "pprint(response.xml)"
   ]
  },
  {
   "cell_type": "markdown",
   "metadata": {},
   "source": [
    "---\n",
    "#### Verify Configuration Change"
   ]
  },
  {
   "cell_type": "code",
   "execution_count": null,
   "metadata": {},
   "outputs": [],
   "source": [
    "# Create a multi-line with an XML payload from ANX\n",
    "payload = '''\n",
    "<filter>\n",
    " <native xmlns=\"http://cisco.com/ns/yang/Cisco-IOS-XE-native\">\n",
    "  <interface/>\n",
    " </native>\n",
    "</filter>\n",
    "'''"
   ]
  },
  {
   "cell_type": "code",
   "execution_count": null,
   "metadata": {},
   "outputs": [],
   "source": [
    "# Create a <get-config> RPC message with ncclient\n",
    "with manager.connect(**r1) as conn:\n",
    "    # Use the \"get_config\" method, set the \"source\" keyword argument to \"running\", and set the \"filter\" keyword argument to add the XML payload to the RPC\n",
    "    response = conn.get_config(source='running', filter=payload)"
   ]
  },
  {
   "cell_type": "code",
   "execution_count": null,
   "metadata": {},
   "outputs": [],
   "source": [
    "# Convert the 'response.data_xml' property to a Python dictionary\n",
    "py_response = xmltodict.parse(\n",
    "    response.data_xml,\n",
    "    dict_constructor=dict\n",
    ")\n",
    "\n",
    "pprint(py_response)"
   ]
  },
  {
   "cell_type": "code",
   "execution_count": null,
   "metadata": {},
   "outputs": [],
   "source": [
    "# Display configuration information in a more readable format\n",
    "header_msg = '** Interface List **'\n",
    "print(f'\\n{\"-\" * len(header_msg)}')\n",
    "print(header_msg)\n",
    "print(f'{\"-\" * len(header_msg)}\\n')\n",
    "interface_config = py_response['data']['native']['interface']\n",
    "for key, value in interface_config.items():\n",
    "    if type(value) == list:\n",
    "        print(f'Interface: {key}{value[0][\"name\"]}')\n",
    "        print(f'\\tIP Address: {value[0][\"ip\"][\"address\"][\"primary\"][\"address\"]}\\n')\n",
    "    else:\n",
    "        print(f'Interface: {key}{value[\"name\"]}')\n",
    "        if value.get('ip'):\n",
    "            print(f'\\tIP Address: {value[\"ip\"][\"address\"][\"primary\"][\"address\"]}\\n')\n",
    "        else:\n",
    "            print('\\tIP Address: Not assigned')"
   ]
  },
  {
   "cell_type": "markdown",
   "metadata": {},
   "source": [
    "---\n",
    "#### Update Interface Configuration Details\n",
    "* Use ANX to add an IP address, description, and load interval to the new Loopback interface:\n",
    " * YANG Model - **Cisco-IOS-XE-native**\n",
    " * XPath - **/ios:native/interface/Loopback/ip/address/primary**\n",
    " * IPv4 Address - **172.16.10.10**\n",
    " * Subnet Mask - **255.255.255.255**"
   ]
  },
  {
   "cell_type": "code",
   "execution_count": null,
   "metadata": {},
   "outputs": [],
   "source": [
    "# Create a multi-line with an XML payload from ANX\n",
    "payload = '''\n",
    "<config>\n",
    " <native xmlns=\"http://cisco.com/ns/yang/Cisco-IOS-XE-native\">\n",
    "  <interface>\n",
    "    <Loopback>\n",
    "     <name>0</name>\n",
    "     <description>Added by NETCONF</description>\n",
    "     <load-interval>30</load-interval>\n",
    "     <ip>\n",
    "      <address>\n",
    "        <primary>\n",
    "          <address>172.16.10.10</address>\n",
    "          <mask>255.255.255.255</mask>\n",
    "        </primary>\n",
    "      </address>\n",
    "     </ip>\n",
    "    </Loopback>\n",
    "  </interface>\n",
    " </native>\n",
    "</config>\n",
    "'''"
   ]
  },
  {
   "cell_type": "code",
   "execution_count": null,
   "metadata": {},
   "outputs": [],
   "source": [
    "# Create an <edit-config> RPC message with ncclient\n",
    "with manager.connect(**r1) as conn:\n",
    "    # Use the \"edit_config\" method, set the \"target\" keyword argument to \"running\", and set the \"config\" keyword argument to add the XML payload to the RPC\n",
    "    response = conn.edit_config(target='running', config=payload)"
   ]
  },
  {
   "cell_type": "code",
   "execution_count": null,
   "metadata": {},
   "outputs": [],
   "source": [
    "# Display the 'xml' property of the \"response\" object\n",
    "pprint(response.xml)"
   ]
  },
  {
   "cell_type": "markdown",
   "metadata": {},
   "source": [
    "---\n",
    "#### Verify Configuration Change"
   ]
  },
  {
   "cell_type": "code",
   "execution_count": null,
   "metadata": {},
   "outputs": [],
   "source": [
    "# Create a multi-line with an XML payload from ANX\n",
    "payload = '''\n",
    "<filter>\n",
    " <native xmlns=\"http://cisco.com/ns/yang/Cisco-IOS-XE-native\">\n",
    "  <interface/>\n",
    " </native>\n",
    "</filter>\n",
    "'''"
   ]
  },
  {
   "cell_type": "code",
   "execution_count": null,
   "metadata": {},
   "outputs": [],
   "source": [
    "# Create a <get-config> RPC message with ncclient\n",
    "with manager.connect(**r1) as conn:\n",
    "    # Use the \"get_config\" method, set the \"source\" keyword argument to \"running\", and set the \"filter\" keyword argument to add the XML payload to the RPC\n",
    "    response = conn.get_config(source='running', filter=payload)"
   ]
  },
  {
   "cell_type": "code",
   "execution_count": null,
   "metadata": {},
   "outputs": [],
   "source": [
    "# Convert the 'response.data_xml' property to a Python dictionary\n",
    "py_response = xmltodict.parse(\n",
    "    response.data_xml,\n",
    "    dict_constructor=dict\n",
    ")\n",
    "\n",
    "pprint(py_response)"
   ]
  },
  {
   "cell_type": "code",
   "execution_count": null,
   "metadata": {},
   "outputs": [],
   "source": [
    "# Display configuration information in a more readable format\n",
    "header_msg = '** Interface List **'\n",
    "print(f'\\n{\"-\" * len(header_msg)}')\n",
    "print(header_msg)\n",
    "print(f'{\"-\" * len(header_msg)}\\n')\n",
    "interface_config = py_response['data']['native']['interface']\n",
    "for key, value in interface_config.items():\n",
    "    if type(value) == list:\n",
    "        print(f'Interface: {key}{value[0][\"name\"]}')\n",
    "        print(f'\\tIP Address: {value[0][\"ip\"][\"address\"][\"primary\"][\"address\"]}\\n')\n",
    "    else:\n",
    "        print(f'Interface: {key}{value[\"name\"]}')\n",
    "        print(f'\\tDescription: {value.get(\"description\", \"None\")}')\n",
    "        if value.get('ip'):\n",
    "            print(f'\\tIP Address: {value[\"ip\"][\"address\"][\"primary\"][\"address\"]}')\n",
    "            print(f'\\tSubnet Mask: {value[\"ip\"][\"address\"][\"primary\"][\"mask\"]}\\n')\n",
    "        else:\n",
    "            print('\\tIP Address: Not assigned')"
   ]
  },
  {
   "cell_type": "markdown",
   "metadata": {},
   "source": [
    "---\n",
    "#### Delete the New Interface\n",
    "* Use ANX to delete the new Loopback interface:\n",
    " * YANG Model - **Cisco-IOS-XE-native**\n",
    " * XPath - **/ios:native/interface/Loopback**\n",
    " * Interface Name - **0**"
   ]
  },
  {
   "cell_type": "code",
   "execution_count": null,
   "metadata": {},
   "outputs": [],
   "source": [
    "# Create a multi-line with an XML payload from ANX\n",
    "payload = '''\n",
    "<config>\n",
    " <native xmlns=\"http://cisco.com/ns/yang/Cisco-IOS-XE-native\">\n",
    "  <interface>\n",
    "    <Loopback operation=\"delete\">\n",
    "     <name>0</name>\n",
    "    </Loopback>\n",
    "  </interface>\n",
    " </native>\n",
    "</config>\n",
    "'''"
   ]
  },
  {
   "cell_type": "code",
   "execution_count": null,
   "metadata": {},
   "outputs": [],
   "source": [
    "# Create an <edit-config> RPC message with ncclient\n",
    "with manager.connect(**r1) as conn:\n",
    "    # Use the \"edit_config\" method, set the \"target\" keyword argument to \"running\", and set the \"config\" keyword argument to add the XML payload to the RPC\n",
    "    response = conn.edit_config(target='running', config=payload)"
   ]
  },
  {
   "cell_type": "code",
   "execution_count": null,
   "metadata": {},
   "outputs": [],
   "source": [
    "# Display the 'xml' property of the \"response\" object\n",
    "pprint(response.xml)"
   ]
  },
  {
   "cell_type": "markdown",
   "metadata": {},
   "source": [
    "---\n",
    "#### Verify Configuration Change"
   ]
  },
  {
   "cell_type": "code",
   "execution_count": null,
   "metadata": {},
   "outputs": [],
   "source": [
    "# Create a multi-line with an XML payload from ANX\n",
    "payload = '''\n",
    "<filter>\n",
    " <native xmlns=\"http://cisco.com/ns/yang/Cisco-IOS-XE-native\">\n",
    "  <interface/>\n",
    " </native>\n",
    "</filter>\n",
    "'''"
   ]
  },
  {
   "cell_type": "code",
   "execution_count": null,
   "metadata": {},
   "outputs": [],
   "source": [
    "# Create a <get-config> RPC message with ncclient\n",
    "with manager.connect(**r1) as conn:\n",
    "    # Use the \"get_config\" method, set the \"source\" keyword argument to \"running\", and set the \"filter\" keyword argument to add the XML payload to the RPC\n",
    "    response = conn.get_config(source='running', filter=payload)"
   ]
  },
  {
   "cell_type": "code",
   "execution_count": null,
   "metadata": {},
   "outputs": [],
   "source": [
    "# Convert the 'response.data_xml' property to a Python dictionary\n",
    "py_response = xmltodict.parse(\n",
    "    response.data_xml,\n",
    "    dict_constructor=dict\n",
    ")\n",
    "\n",
    "pprint(py_response)"
   ]
  },
  {
   "cell_type": "code",
   "execution_count": null,
   "metadata": {},
   "outputs": [],
   "source": [
    "# Display configuration information in a more readable format\n",
    "header_msg = '** Interface List **'\n",
    "print(f'\\n{\"-\" * len(header_msg)}')\n",
    "print(header_msg)\n",
    "print(f'{\"-\" * len(header_msg)}\\n')\n",
    "interface_config = py_response['data']['native']['interface']\n",
    "for key, value in interface_config.items():\n",
    "    if type(value) == list:\n",
    "        print(f'Interface: {key}{value[0][\"name\"]}')\n",
    "        print(f'\\tIP Address: {value[0][\"ip\"][\"address\"][\"primary\"][\"address\"]}\\n')\n",
    "    else:\n",
    "        print(f'Interface: {key}{value[\"name\"]}')\n",
    "        print(f'\\tDescription: {value.get(\"description\", \"None\")}')\n",
    "        if value.get('ip'):\n",
    "            print(f'\\tIP Address: {value[\"ip\"][\"address\"][\"primary\"][\"address\"]}')\n",
    "            print(f'\\tSubnet Mask: {value[\"ip\"][\"address\"][\"primary\"][\"mask\"]}\\n')\n",
    "        else:\n",
    "            print('\\tIP Address: Not assigned')"
   ]
  },
  {
   "cell_type": "markdown",
   "metadata": {},
   "source": [
    "---\n",
    "#### Edit the Candidate Datastore on R2\n",
    "* IOS-XE blocks configuration changes to the **running** datastore when the **candidate** datastore is enabled. \n",
    "* Use ANX to build a configuration for a new Loopback interrface as follows:\n",
    " * YANG Model - **Cisco-IOS-XE-native**\n",
    " * XPath - **/ios:native/interface/Loopback/name**\n",
    " * Interface Name - **10**"
   ]
  },
  {
   "cell_type": "code",
   "execution_count": null,
   "metadata": {},
   "outputs": [],
   "source": [
    "# Create a multi-line with an XML payload from ANX\n",
    "payload = '''\n",
    "<config>\n",
    " <native xmlns=\"http://cisco.com/ns/yang/Cisco-IOS-XE-native\">\n",
    "  <interface>\n",
    "    <Loopback>\n",
    "      <name>10</name>\n",
    "    </Loopback>\n",
    "  </interface>\n",
    " </native>\n",
    "</config>\n",
    "'''"
   ]
  },
  {
   "cell_type": "code",
   "execution_count": null,
   "metadata": {},
   "outputs": [],
   "source": [
    "# Try to create an <edit-config> RPC message with ncclient that targets the \"running\" datastore\n",
    "from ncclient.operations.rpc import RPCError\n",
    "with manager.connect(**r2) as conn:\n",
    "    try:\n",
    "        # Use the \"edit_config\" method, set the \"target\" keyword argument to \"running\", and set the \"config\" keyword argument to add the XML payload to the RPC\n",
    "        response = conn.edit_config(target='running', config=payload)\n",
    "    except RPCError as e:\n",
    "        print(repr(e))\n",
    "    "
   ]
  },
  {
   "cell_type": "code",
   "execution_count": null,
   "metadata": {},
   "outputs": [],
   "source": [
    "# Try the same <edit-config> RPC message again but target the \"candidate\" datastore instead\n",
    "# Don't use the context manager for this exercise, in order to keep the NETCONF session open for multiple operations\n",
    "conn = manager.connect(**r2)\n",
    "# Use the \"edit_config\" method, set the \"target\" keyword argument to \"candidate\", and set the \"config\" keyword argument to add the XML payload to the RPC\n",
    "response = conn.edit_config(target='candidate', config=payload)  "
   ]
  },
  {
   "cell_type": "code",
   "execution_count": null,
   "metadata": {},
   "outputs": [],
   "source": [
    "# Display the properties of the response object\n",
    "properties = [prop for prop in dir(response) if prop[0] != '_' ]\n",
    "print(properties)"
   ]
  },
  {
   "cell_type": "code",
   "execution_count": null,
   "metadata": {},
   "outputs": [],
   "source": [
    "# Display the 'xml' property of the \"response\" object\n",
    "pprint(response.xml)"
   ]
  },
  {
   "cell_type": "markdown",
   "metadata": {},
   "source": [
    "---\n",
    "#### Verify Configuration Change\n",
    "* Confirm the change to the **candidate** datastore does not appear in the **running** datastore, yet."
   ]
  },
  {
   "cell_type": "code",
   "execution_count": null,
   "metadata": {},
   "outputs": [],
   "source": [
    "# Create a multi-line with an XML payload from ANX\n",
    "payload = '''\n",
    "<filter>\n",
    " <native xmlns=\"http://cisco.com/ns/yang/Cisco-IOS-XE-native\">\n",
    "  <interface/>\n",
    " </native>\n",
    "</filter>\n",
    "'''"
   ]
  },
  {
   "cell_type": "code",
   "execution_count": null,
   "metadata": {},
   "outputs": [],
   "source": [
    "# Create a <get-config> RPC message with ncclient\n",
    "# Use the \"get_config\" method, set the \"source\" keyword argument to \"running\", and set the \"filter\" keyword argument to add the XML payload to the RPC\n",
    "response = conn.get_config(source='running', filter=payload)"
   ]
  },
  {
   "cell_type": "code",
   "execution_count": null,
   "metadata": {},
   "outputs": [],
   "source": [
    "# Convert the 'response.data_xml' property to a Python dictionary\n",
    "py_response = xmltodict.parse(\n",
    "    response.data_xml,\n",
    "    dict_constructor=dict\n",
    ")\n",
    "\n",
    "pprint(py_response)"
   ]
  },
  {
   "cell_type": "code",
   "execution_count": null,
   "metadata": {},
   "outputs": [],
   "source": [
    "# Display configuration information in a more readable format\n",
    "header_msg = '** Interface List **'\n",
    "print(f'\\n{\"-\" * len(header_msg)}')\n",
    "print(header_msg)\n",
    "print(f'{\"-\" * len(header_msg)}\\n')\n",
    "interface_config = py_response['data']['native']['interface']\n",
    "for key, value in interface_config.items():\n",
    "    if type(value) == list:\n",
    "        print(f'Interface: {key}{value[0][\"name\"]}')\n",
    "        print(f'\\tIP Address: {value[0][\"ip\"][\"address\"][\"primary\"][\"address\"]}\\n')\n",
    "    else:\n",
    "        print(f'Interface: {key}{value[\"name\"]}')\n",
    "        if value.get('ip'):\n",
    "            print(f'\\tIP Address: {value[\"ip\"][\"address\"][\"primary\"][\"address\"]}\\n')\n",
    "        else:\n",
    "            print('\\tIP Address: Not assigned')"
   ]
  },
  {
   "cell_type": "markdown",
   "metadata": {},
   "source": [
    "---\n",
    "#### Copy the Candidate Datastore on R2 to the Running Datastore"
   ]
  },
  {
   "cell_type": "code",
   "execution_count": null,
   "metadata": {},
   "outputs": [],
   "source": [
    "# Create a <commit> RPC message with ncclient, to commit \"candidate\" datastore changes to the \"running\" datastore\n",
    "# Use the \"commit\" method\n",
    "response = conn.commit()"
   ]
  },
  {
   "cell_type": "code",
   "execution_count": null,
   "metadata": {},
   "outputs": [],
   "source": [
    "# Display the properties of the response object\n",
    "properties = [prop for prop in dir(response) if prop[0] != '_' ]\n",
    "print(properties)"
   ]
  },
  {
   "cell_type": "code",
   "execution_count": null,
   "metadata": {},
   "outputs": [],
   "source": [
    "# Display the 'xml' property of the \"response\" object\n",
    "pprint(response.xml)"
   ]
  },
  {
   "cell_type": "markdown",
   "metadata": {},
   "source": [
    "---\n",
    "#### Verify Configuration Change\n",
    "* Commit the Commit to the Running Datastore on R2 is Successful."
   ]
  },
  {
   "cell_type": "code",
   "execution_count": null,
   "metadata": {},
   "outputs": [],
   "source": [
    "# Create a multi-line with an XML payload from ANX\n",
    "payload = '''\n",
    "<filter>\n",
    " <native xmlns=\"http://cisco.com/ns/yang/Cisco-IOS-XE-native\">\n",
    "  <interface/>\n",
    " </native>\n",
    "</filter>\n",
    "'''"
   ]
  },
  {
   "cell_type": "code",
   "execution_count": null,
   "metadata": {},
   "outputs": [],
   "source": [
    "# Create a <get-config> RPC message with ncclient\n",
    "# Use the \"get_config\" method, set the \"source\" keyword argument to \"running\", and set the \"filter\" keyword argument to add the XML payload to the RPC\n",
    "response = conn.get_config(source='running', filter=payload)"
   ]
  },
  {
   "cell_type": "code",
   "execution_count": null,
   "metadata": {},
   "outputs": [],
   "source": [
    "# Convert the 'response.data_xml' property to a Python dictionary\n",
    "py_response = xmltodict.parse(\n",
    "    response.data_xml,\n",
    "    dict_constructor=dict\n",
    ")\n",
    "\n",
    "pprint(py_response)"
   ]
  },
  {
   "cell_type": "code",
   "execution_count": null,
   "metadata": {},
   "outputs": [],
   "source": [
    "# Display configuration information in a more readable format\n",
    "header_msg = '** Interface List **'\n",
    "print(f'\\n{\"-\" * len(header_msg)}')\n",
    "print(header_msg)\n",
    "print(f'{\"-\" * len(header_msg)}\\n')\n",
    "interface_config = py_response['data']['native']['interface']\n",
    "for key, value in interface_config.items():\n",
    "    if type(value) == list:\n",
    "        print(f'Interface: {key}{value[0][\"name\"]}')\n",
    "        print(f'\\tIP Address: {value[0][\"ip\"][\"address\"][\"primary\"][\"address\"]}\\n')\n",
    "    else:\n",
    "        print(f'Interface: {key}{value[\"name\"]}')\n",
    "        if value.get('ip'):\n",
    "            print(f'\\tIP Address: {value[\"ip\"][\"address\"][\"primary\"][\"address\"]}\\n')\n",
    "        else:\n",
    "            print('\\tIP Address: Not assigned')"
   ]
  },
  {
   "cell_type": "markdown",
   "metadata": {},
   "source": [
    "---\n",
    "#### Close the NETCONF Session"
   ]
  },
  {
   "cell_type": "code",
   "execution_count": null,
   "metadata": {},
   "outputs": [],
   "source": [
    "# Create a <close-session> RPC message with ncclient to gracefully close the NETCONF session to R2\n",
    "response = conn.close_session()"
   ]
  },
  {
   "cell_type": "code",
   "execution_count": null,
   "metadata": {},
   "outputs": [],
   "source": [
    "# Display the properties of the response object\n",
    "properties = [prop for prop in dir(response) if prop[0] != '_' ]\n",
    "print(properties)"
   ]
  },
  {
   "cell_type": "code",
   "execution_count": null,
   "metadata": {},
   "outputs": [],
   "source": [
    "# Display the 'xml' property of the \"response\" object\n",
    "pprint(response.xml)"
   ]
  },
  {
   "cell_type": "markdown",
   "metadata": {},
   "source": [
    "---\n",
    "#### Save Running Configurations to Startup Configurations\n",
    "* Write changes from the \"running\" datastore of both R1 & R2 to the \"startup\" datastore."
   ]
  },
  {
   "cell_type": "code",
   "execution_count": null,
   "metadata": {},
   "outputs": [],
   "source": [
    "# Create an XML string with the required payload to save the configuration\n",
    "save_config_string = '<cisco-ia:save-config xmlns:cisco-ia=\"http://cisco.com/yang/cisco-ia\"/>'"
   ]
  },
  {
   "cell_type": "code",
   "execution_count": null,
   "metadata": {},
   "outputs": [],
   "source": [
    "# Import the \"fromstring\" method from the lxml.etree class, to convert the payload string into a properly-formatted XML element\n",
    "from lxml.etree import fromstring\n",
    "payload = fromstring(save_config_string)"
   ]
  },
  {
   "cell_type": "code",
   "execution_count": null,
   "metadata": {},
   "outputs": [],
   "source": [
    "# Create <copy-config> RPC messages with ncclient, to copy the \"running\" datastore contents to the \"startup\" datastore, with both R1 & R2\n",
    "with manager.connect(**r1) as conn:\n",
    "    # Use the \"dispatch\" method and pass the XML-formatted payload as an argument\n",
    "    r1_response = conn.dispatch(payload)\n",
    "\n",
    "with manager.connect(**r2) as conn:\n",
    "    # Use the \"dispatch\" method and pass the XML-formatted payload as an argument\n",
    "    r2_response = conn.dispatch(payload)"
   ]
  },
  {
   "cell_type": "code",
   "execution_count": null,
   "metadata": {},
   "outputs": [],
   "source": [
    "# Display the properties of one of the response objects\n",
    "properties = [prop for prop in dir(r1_response) if prop[0] != '_' ]\n",
    "print(properties)"
   ]
  },
  {
   "cell_type": "code",
   "execution_count": null,
   "metadata": {},
   "outputs": [],
   "source": [
    "# Display the 'xml' property of the \"r1_response\" object\n",
    "print(r1_response.xml)"
   ]
  },
  {
   "cell_type": "code",
   "execution_count": null,
   "metadata": {},
   "outputs": [],
   "source": [
    "# Convert the 'r1_response.xml' and 'r2_response.xml' properties to Python dictionaries\n",
    "py_r1_response = xmltodict.parse(\n",
    "    r1_response.xml,\n",
    "    dict_constructor=dict\n",
    ")\n",
    "\n",
    "py_r2_response = xmltodict.parse(\n",
    "    r2_response.xml,\n",
    "    dict_constructor=dict\n",
    ")\n",
    "\n",
    "pprint(py_r1_response)\n",
    "pprint(py_r2_response)"
   ]
  },
  {
   "cell_type": "code",
   "execution_count": null,
   "metadata": {},
   "outputs": [],
   "source": [
    "# Display the response information in a more readable format\n",
    "print(f'Response from R1: {py_r1_response[\"rpc-reply\"][\"result\"][\"#text\"]}')\n",
    "print(f'Response from R2: {py_r2_response[\"rpc-reply\"][\"result\"][\"#text\"]}')"
   ]
  },
  {
   "cell_type": "code",
   "execution_count": null,
   "metadata": {},
   "outputs": [],
   "source": []
  }
 ],
 "metadata": {
  "kernelspec": {
   "display_name": "Python 3",
   "language": "python",
   "name": "python3"
  },
  "language_info": {
   "codemirror_mode": {
    "name": "ipython",
    "version": 3
   },
   "file_extension": ".py",
   "mimetype": "text/x-python",
   "name": "python",
   "nbconvert_exporter": "python",
   "pygments_lexer": "ipython3",
   "version": "3.9.4"
  }
 },
 "nbformat": 4,
 "nbformat_minor": 4
}
