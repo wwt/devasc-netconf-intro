{
 "cells": [
  {
   "cell_type": "markdown",
   "metadata": {},
   "source": [
    "# [DevNet Associate Model-Driven Programmability - NETCONF](https://learningnetwork.cisco.com/s/devnet-associate-exam-topics)\n",
    "### 3.8 Apply concepts of model driven programmability (YANG, RESTCONF, and NETCONF) in a Cisco environment\n",
    "### 5.1 Describe the value of model driven programmability for infrastructure automation\n",
    "### 5.10 Interpret the results of a RESTCONF or NETCONF query\n",
    "### 5.11 Interpret basic YANG models\n",
    "\n",
    "---\n",
    "\n",
    "### Tasks:\n",
    "1. Review Lab Environment.\n",
    "2. Explore YANG Models Using Advanced NETCONF Explorer (ANX).\n",
    "3. Interact with IOS-XE YANG Modules Using Python **ncclient**.\n",
    "\n",
    "---"
   ]
  },
  {
   "cell_type": "markdown",
   "metadata": {},
   "source": [
    "### Review Lab Environment\n",
    "The Programmability Foundations Lab has two CSR1000v devices which run IOS-XE 16.2(2a). Access information for these devices is as follows:\n",
    "1. **Router 1 (R1)** - r1.lab.local (192.168.2.161)\n",
    "2. **Router 2 (R2)** - r2.lab.local (192.168.2.162)\n",
    "3. **Username** - wwt\n",
    "4. **Password** - WWTwwt1!\n",
    " \n",
    " \n",
    " The [Programmability Foundations Lab Guide](https://labs.wwtatc.com/lab-guides/programmability_foundations_lab/index.html) has complete lab topology information."
   ]
  },
  {
   "cell_type": "markdown",
   "metadata": {},
   "source": [
    "#### Connect to R1 & R2\n",
    "1. Click the **MTPuTTY** icon in the taskbar.\n",
    "2. Expand the **PuTTY Sessions** folder.\n",
    "3. Double-click on each **r1.lab.local** and **r2.lab.local** to establish SSH sessions.\n",
    "4. When prompted, log on to both routers."
   ]
  },
  {
   "cell_type": "markdown",
   "metadata": {},
   "source": [
    "#### Disable Session Timeout on R2\n",
    "SSH sessions to **R1** have no time limit although SSH sessions to **R2** expire after 10 minutes of inactivity. Use the following CLI commands to disable session timeout:\n",
    "\n",
    "```\n",
    "configure terminal\n",
    "!\n",
    "line vty 0 15\n",
    " exec-timeout 0\n",
    " end\n",
    "wr mem\n",
    "```"
   ]
  },
  {
   "cell_type": "markdown",
   "metadata": {},
   "source": [
    "#### Review R1 NETCONF Configuration\n",
    "Use the following CLI commands to review information about the NETCONF configuration on R1:\n",
    "\n",
    "```\n",
    "show run | include netconf\n",
    "```\n",
    "\n",
    "* The result of this command shows the single IOS-XE command **netconf-yang** which enables NETCONF on the device.\n",
    "* The command **no netconf-yang**, in global configuration (configure terminal) mode will disable NETCONF, platform-wide.\n",
    "\n",
    "```\n",
    "show netconf-yang datastores\n",
    "show netconf-yang status\n",
    "```\n",
    "\n",
    "The results of these commands show that:\n",
    "* The **running** datastore is available.\n",
    "* NETCONF is enabled on the default port, 830.\n",
    "* The **candidate** datastore is disabled.\n",
    "\n",
    "```\n",
    "show netconf schema\n",
    "```\n",
    "\n",
    "This command displays the XML schema for the device and allows you to view a hierarchical representation of the available RPCs and paramaters."
   ]
  },
  {
   "cell_type": "markdown",
   "metadata": {},
   "source": [
    "#### Review R2 NETCONF Configuration\n",
    "Use the following CLI commands to review information about the NETCONF configuration on R2:\n",
    "\n",
    "```\n",
    "show run | include netconf\n",
    "```\n",
    "\n",
    "* The result of this command shows a line of configuration that is not in the R1 config, **netconf-yang feature candidate-datastore**.\n",
    "* As the syntax implies, this command enables the **candidate** datastore.\n",
    "* Use the following commands to validate the status of the **candidate** datastore:\n",
    "\n",
    "```\n",
    "show netconf-yang datastores\n",
    "show netconf-yang status\n",
    "```\n",
    "\n",
    "The results of these commands show that:\n",
    "* The **running** and **candidate** datastores are available.\n",
    "* NETCONF is enabled on the default port, 830.\n",
    "* The **candidate** datastore is enabled.\n",
    "---"
   ]
  },
  {
   "cell_type": "markdown",
   "metadata": {},
   "source": [
    "### Explore YANG Models Using Advanced NETCONF Explorer (ANX)\n",
    "ANX allows you to interactively:\n",
    "* Explore the YANG models of compatible devices.\n",
    " * ANX requires devices to support the NETCONF monitoring standard ([RFC6022](https://tools.ietf.org/html/rfc6022)).\n",
    "* Create NETCONF payloads and filters.\n",
    "* Send and receive NETCONF RPCs."
   ]
  },
  {
   "cell_type": "markdown",
   "metadata": {},
   "source": [
    "#### Connect to R1 with ANX\n",
    "* ANX requires an online connecction to a network device.\n",
    "* The lab setup process should have opened a second Chrome browser tab for ANX.\n",
    "* If not, use the **ANX** desktop shortcut to open a new tab to ANX or manually browse to [http://localhost:9269](http://localhost:9269).\n",
    "\n",
    "To log on to ANX:\n",
    "1. Set the **NETCONF Host** field to **r1.lab.local**.\n",
    "2. Set the **Username** to **wwt**.\n",
    "3. Set the **Password** to **WWTwwt1!**.\n",
    "4. Tick the boxes both to **Cache** YANG models and **Remember credentials**.\n",
    "5. Click the **Login** button."
   ]
  },
  {
   "cell_type": "markdown",
   "metadata": {},
   "source": [
    "#### Wait for ANX to Download YANG Models\n",
    "* ANX will load all of the YANG models from R1 which will take 5-7 minutes.\n",
    "* The ANX main view will load as soon as the YANG model download completes."
   ]
  },
  {
   "cell_type": "markdown",
   "metadata": {},
   "source": [
    "#### Search for YANG Models\n",
    "* Type **interfaces** in the **Search Models** field and press your **Enter** or **Return** key.\n",
    "* Notice the search results display all available YANG models which contain the word **interface**, including:\n",
    " * Cisco IOS-XE **Native** Operational model.\n",
    " * **IETF** Configuration & Operational models.\n",
    " * **OpenConfig** models.\n",
    "* To locate the Cisco IOS-XE **Native** Configuration model, search instead for **native**."
   ]
  },
  {
   "cell_type": "markdown",
   "metadata": {},
   "source": [
    "#### Explore YANG Models\n",
    "* Click on the **ietf-interfaces** model and notice the ANX interface updates to show you details about this specific YANG element.\n",
    " * Since we selected a top-level module, ANX displays data for the first container in the hierarcchy.\n",
    "* Notice details including:\n",
    " * The element **type**.\n",
    " * The **XPath**.\n",
    " * The **Subtree Filter** - **\\*\\* *this very useful data for Python interactions* \\*\\***\n",
    "* These values will update as you navigate YANG models."
   ]
  },
  {
   "cell_type": "markdown",
   "metadata": {},
   "source": [
    "#### Explore Device Data\n",
    "* ANX will show you configuration and state data for a device within the YANG model hierarchy.\n",
    "* Click the **Show Data** button and choose the **Running** datastore from the menu.\n",
    "* Expand the **ietf-interfaces** hierarchy including:\n",
    " * The **interface** list.\n",
    " * The **ipv4** container.\n",
    " * The **address** list.\n",
    "* Notice the configuration data from R1 in the hierarchy.\n",
    "* Click on the **address** element and notice the ANX display update to show, among other things, the **ietf-ip** namespace."
   ]
  },
  {
   "cell_type": "markdown",
   "metadata": {},
   "source": [
    "#### Explore the NETCONF Console\n",
    "* ANX allows you to send and receive NETCONF payloads directly.\n",
    "* Click the **ipv4** container in the hierarchyand then click the **NETCONF Console** button.\n",
    "* In the NETCONF Console view, click the **\\<get\\>** button and then click the **Send Request** button.\n",
    "* Notice how the NETCONF Console:\n",
    " * Creates a NETCONF XML payload.\n",
    " * Sends the payload to the device in an **\\<rpc\\>** message.\n",
    " * Displays the body of the **\\<rpc-reply\\>** message.\n",
    "* The NETCONF Console allows you to manually edit XML payloads and choose between **\\<get\\>**, **\\<edit-config\\> merge**, **\\<edit-config\\> delete**, and **\\<commit\\>** operations.\n",
    " * **\\*\\* *This is another very useful way to build XML payloads for Python interactions* \\*\\***\n",
    "---"
   ]
  },
  {
   "cell_type": "markdown",
   "metadata": {},
   "source": [
    "### Interact with IOS-XE YANG Modules Using Python ncclient."
   ]
  },
  {
   "cell_type": "code",
   "execution_count": null,
   "metadata": {},
   "outputs": [],
   "source": []
  }
 ],
 "metadata": {
  "kernelspec": {
   "display_name": "Python 3",
   "language": "python",
   "name": "python3"
  },
  "language_info": {
   "codemirror_mode": {
    "name": "ipython",
    "version": 3
   },
   "file_extension": ".py",
   "mimetype": "text/x-python",
   "name": "python",
   "nbconvert_exporter": "python",
   "pygments_lexer": "ipython3",
   "version": "3.8.5"
  }
 },
 "nbformat": 4,
 "nbformat_minor": 4
}
