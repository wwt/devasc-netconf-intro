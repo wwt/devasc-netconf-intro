{
 "cells": [
  {
   "cell_type": "markdown",
   "metadata": {},
   "source": [
    "# [DevNet Associate Model-Driven Programmability - NETCONF](https://learningnetwork.cisco.com/s/devnet-associate-exam-topics)\n",
    "### 3.8 Apply concepts of model driven programmability (YANG, RESTCONF, and NETCONF) in a Cisco environment\n",
    "### 5.1 Describe the value of model driven programmability for infrastructure automation\n",
    "### 5.10 Interpret the results of a RESTCONF or NETCONF query\n",
    "### 5.11 Interpret basic YANG models\n",
    "\n",
    "---\n",
    "\n",
    "### Tasks:\n",
    "1. Review Lab Environment.\n",
    "2. Enable NETCONF on IOS-XE Devices.\n",
    "3. Explore YANG Models Using Advanced NETCONF Explorer (ANX).\n",
    "4. Interact with IOS-XE YANG Modules Using Python **ncclient**.\n",
    "\n",
    "---"
   ]
  },
  {
   "cell_type": "markdown",
   "metadata": {},
   "source": [
    "### Review Lab Environment\n",
    "The Programmability Foundations Lab has two CSR1000v devices which run IOS-XE 16.2(2a). Access information for these devices is as follows:\n",
    "1. **Router 1 (R1)** - r1.lab.local (192.168.2.161)\n",
    "2. **Router 2 (R2)** - r2.lab.local (192.168.2.162)\n",
    "3. **Username** - wwt\n",
    "4. **Password** - WWTwwt1!\n",
    " \n",
    " \n",
    " The [Programmability Foundations Lab Guide](https://labs.wwtatc.com/lab-guides/programmability_foundations_lab/index.html) has complete lab topology information."
   ]
  },
  {
   "cell_type": "markdown",
   "metadata": {},
   "source": [
    "#### Connect to R1 & R2\n",
    "1. Click the **MTPuTTY** icon in the taskbar.\n",
    "2. Expand the **PuTTY Sessions** folder.\n",
    "3. Double-click on each **r1.lab.local** and **r2.lab.local** to establish SSH sessions.\n",
    "4. When prompted, log on to both routers."
   ]
  },
  {
   "cell_type": "markdown",
   "metadata": {},
   "source": [
    "#### Disable Session Timeout on R2\n",
    "SSH sessions to **R1** have no time limit although SSH sessions to **R2** expire after 10 minutes of inactivity. Use the following CLI commands to disable session timeout:\n",
    "\n",
    "```\n",
    "configure terminal\n",
    "!\n",
    "line vty 0 15\n",
    " exec-timeout 0\n",
    " end\n",
    "wr mem\n",
    "```"
   ]
  },
  {
   "cell_type": "markdown",
   "metadata": {},
   "source": [
    "#### Review R1 NETCONF Configuration\n",
    "Use the following CLI commands to review information about the NETCONF configuration on R1:\n",
    "\n",
    "```\n",
    "show run | include netconf\n",
    "```\n",
    "\n",
    "* The result of this command shows the single IOS-XE command **netconf-yang** which enables NETCONF on the device.\n",
    "* The command **no netconf-yang**, in global configuration (configure terminal) mode will disable NETCONF, platform-wide.\n",
    "\n",
    "```\n",
    "show netconf-yang datastores\n",
    "show netconf-yang status\n",
    "```\n",
    "\n",
    "The results of these commands show that:\n",
    "* The **running** datastore is available.\n",
    "* NETCONF is enabled on the default port, 830.\n",
    "* The **candidate** datastore is disabled.\n",
    "\n",
    "```\n",
    "show netconf schema\n",
    "```\n",
    "\n",
    "This command displays the XML schema for the device and allows you to view a hierarchical representation of the available RPCs and paramaters."
   ]
  },
  {
   "cell_type": "markdown",
   "metadata": {},
   "source": [
    "#### Review R2 NETCONF Configuration\n",
    "Use the following CLI commands to review information about the NETCONF configuration on R2:\n",
    "\n",
    "```\n",
    "show run | include netconf\n",
    "```\n",
    "\n",
    "* The result of this command shows the single IOS-XE command **netconf-yang** which enables NETCONF on the device.\n",
    "* The command **no netconf-yang**, in global configuration (configure terminal) mode will disable NETCONF, platform-wide.\n",
    "\n",
    "```\n",
    "show netconf-yang datastores\n",
    "show netconf-yang status\n",
    "```\n",
    "\n",
    "The results of these commands show that:\n",
    "* The **running** datastore is available.\n",
    "* NETCONF is enabled on the default port, 830.\n",
    "* The **candidate** datastore is disabled.\n",
    "\n",
    "```\n",
    "show netconf schema\n",
    "```\n",
    "\n",
    "This command displays the XML schema for the device and allows you to view a hierarchical representation of the available RPCs and paramaters."
   ]
  }
 ],
 "metadata": {
  "kernelspec": {
   "display_name": "Python 3",
   "language": "python",
   "name": "python3"
  },
  "language_info": {
   "codemirror_mode": {
    "name": "ipython",
    "version": 3
   },
   "file_extension": ".py",
   "mimetype": "text/x-python",
   "name": "python",
   "nbconvert_exporter": "python",
   "pygments_lexer": "ipython3",
   "version": "3.8.5"
  }
 },
 "nbformat": 4,
 "nbformat_minor": 4
}
