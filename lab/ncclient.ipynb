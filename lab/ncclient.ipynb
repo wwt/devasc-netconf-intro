{
 "cells": [
  {
   "cell_type": "markdown",
   "metadata": {},
   "source": [
    "# [DevNet Associate Model-Driven Programmability - NETCONF](https://learningnetwork.cisco.com/s/devnet-associate-exam-topics)\n",
    "### 3.8 Apply concepts of model driven programmability (YANG, RESTCONF, and NETCONF) in a Cisco environment\n",
    "### 5.1 Describe the value of model driven programmability for infrastructure automation\n",
    "### 5.10 Interpret the results of a RESTCONF or NETCONF query\n",
    "### 5.11 Interpret basic YANG models\n",
    "\n",
    "---\n",
    "\n",
    "### Tasks:\n",
    "1. Review Lab Environment.\n",
    "2. Explore YANG Models Using Advanced NETCONF Explorer (ANX).\n",
    "3. Interact with IOS-XE YANG Modules Using Python **ncclient**.\n",
    "\n",
    "---"
   ]
  },
  {
   "cell_type": "markdown",
   "metadata": {},
   "source": [
    "### Review Lab Environment\n",
    "The Programmability Foundations Lab has two CSR1000v devices which run IOS-XE 16.2(2a). Access information for these devices is as follows:\n",
    "1. **Router 1 (R1)** - r1.lab.local (192.168.2.161)\n",
    "2. **Router 2 (R2)** - r2.lab.local (192.168.2.162)\n",
    "3. **Username** - wwt\n",
    "4. **Password** - WWTwwt1!\n",
    " \n",
    " \n",
    " The [Programmability Foundations Lab Guide](https://labs.wwtatc.com/lab-guides/programmability_foundations_lab/index.html) has complete lab topology information."
   ]
  },
  {
   "cell_type": "markdown",
   "metadata": {},
   "source": [
    "#### Connect to R1 & R2\n",
    "1. Click the **MTPuTTY** icon in the taskbar.\n",
    "2. Expand the **PuTTY Sessions** folder.\n",
    "3. Double-click on each **r1.lab.local** and **r2.lab.local** to establish SSH sessions.\n",
    "4. When prompted, log on to both routers.\n",
    "\n",
    "![1_mtputty.png](_images/1_mtputty.png)"
   ]
  },
  {
   "cell_type": "markdown",
   "metadata": {},
   "source": [
    "#### Disable Session Timeout on R2\n",
    "SSH sessions to **R1** have no time limit although SSH sessions to **R2** expire after 10 minutes of inactivity. Use the following CLI commands to disable session timeout:\n",
    "\n",
    "```\n",
    "configure terminal\n",
    "!\n",
    "line vty 0 15\n",
    " exec-timeout 0\n",
    " end\n",
    "wr mem\n",
    "```"
   ]
  },
  {
   "cell_type": "markdown",
   "metadata": {},
   "source": [
    "#### Review R1 NETCONF Configuration\n",
    "Use the following CLI commands to review information about the NETCONF configuration on R1:\n",
    "\n",
    "```\n",
    "show run | include netconf\n",
    "```\n",
    "\n",
    "* The result of this command shows the single IOS-XE command **netconf-yang** which enables NETCONF on the device.\n",
    "* The command **no netconf-yang**, in global configuration (configure terminal) mode will disable NETCONF, platform-wide.\n",
    "\n",
    "```\n",
    "show netconf-yang datastores\n",
    "show netconf-yang status\n",
    "```\n",
    "\n",
    "The results of these commands show that:\n",
    "* The **running** datastore is available.\n",
    "* NETCONF is enabled on the default port, 830.\n",
    "* The **candidate** datastore is disabled.\n",
    "\n",
    "```\n",
    "show netconf schema\n",
    "```\n",
    "\n",
    "This command displays the XML schema for the device and allows you to view a hierarchical representation of the available RPCs and paramaters."
   ]
  },
  {
   "cell_type": "markdown",
   "metadata": {},
   "source": [
    "#### Review R2 NETCONF Configuration\n",
    "Use the following CLI commands to review information about the NETCONF configuration on R2:\n",
    "\n",
    "```\n",
    "show run | include netconf\n",
    "```\n",
    "\n",
    "* The result of this command shows a line of configuration that is not in the R1 config, **netconf-yang feature candidate-datastore**.\n",
    "* As the syntax implies, this command enables the **candidate** datastore.\n",
    "* Use the following commands to validate the status of the **candidate** datastore:\n",
    "\n",
    "```\n",
    "show netconf-yang datastores\n",
    "show netconf-yang status\n",
    "```\n",
    "\n",
    "The results of these commands show that:\n",
    "* The **running** and **candidate** datastores are available.\n",
    "* NETCONF is enabled on the default port, 830.\n",
    "* The **candidate** datastore is enabled.\n",
    "---"
   ]
  },
  {
   "cell_type": "markdown",
   "metadata": {},
   "source": [
    "### Explore YANG Models Using Advanced NETCONF Explorer (ANX)\n",
    "ANX allows you to interactively:\n",
    "* Explore the YANG models of compatible devices.\n",
    " * ANX requires devices to support the NETCONF monitoring standard ([RFC6022](https://tools.ietf.org/html/rfc6022)).\n",
    "* Create NETCONF payloads and filters.\n",
    "* Send and receive NETCONF RPCs."
   ]
  },
  {
   "cell_type": "markdown",
   "metadata": {},
   "source": [
    "#### Connect to R1 with ANX\n",
    "* ANX requires an online connecction to a network device.\n",
    "* The lab setup process should have opened a second Chrome browser tab for ANX.\n",
    "* If not, use the **ANX** desktop shortcut to open a new tab to ANX or manually browse to [http://localhost:9269](http://localhost:9269).\n",
    "\n",
    "To log on to ANX:\n",
    "1. Set the **NETCONF Host** field to **r1.lab.local**.\n",
    "2. Set the **Username** to **wwt**.\n",
    "3. Set the **Password** to **WWTwwt1!**.\n",
    "4. Tick the boxes both to **Cache** YANG models and **Remember credentials**.\n",
    "5. Click the **Login** button.\n",
    "\n",
    "![2_anx_login.png](_images/2_anx_login.png)"
   ]
  },
  {
   "cell_type": "markdown",
   "metadata": {},
   "source": [
    "#### Wait for ANX to Download YANG Models\n",
    "* ANX will load all of the YANG models from R1 which will take 5-7 minutes.\n",
    "* The ANX main view will load as soon as the YANG model download completes.\n",
    "\n",
    "![3_anx_overview.png](_images/3_anx_overview.png)"
   ]
  },
  {
   "cell_type": "markdown",
   "metadata": {},
   "source": [
    "#### Search for YANG Models\n",
    "* Type **interfaces** in the **Search Models** field and press your **Enter** or **Return** key.\n",
    "* Notice the search results display all available YANG models which contain the word **interface**, including:\n",
    " * Cisco IOS-XE **Native** Operational model.\n",
    " * **IETF** Configuration & Operational models.\n",
    " * **OpenConfig** models.\n",
    "* To locate the Cisco IOS-XE **Native** Configuration model, search instead for **native**."
   ]
  },
  {
   "cell_type": "markdown",
   "metadata": {},
   "source": [
    "#### Explore YANG Models\n",
    "* Click on the **ietf-interfaces** model and notice the ANX interface updates to show you details about this specific YANG element.\n",
    " * Since we selected a top-level module, ANX displays data for the first container in the hierarcchy.\n",
    "* Notice details including:\n",
    " * The element **type**.\n",
    " * The **XPath**.\n",
    " * The **Subtree Filter** - **\\*\\* *this very useful data for Python interactions* \\*\\***\n",
    "* These values will update as you navigate YANG models."
   ]
  },
  {
   "cell_type": "markdown",
   "metadata": {},
   "source": [
    "#### Explore Device Data\n",
    "* ANX will show you configuration and state data for a device within the YANG model hierarchy.\n",
    "* Click the **Show Data** button and choose the **Running** datastore from the menu.\n",
    "* Expand the **ietf-interfaces** hierarchy including:\n",
    " * The **interface** list.\n",
    " * The **ipv4** container.\n",
    " * The **address** list.\n",
    "* Notice the configuration data from R1 in the hierarchy.\n",
    "* Click on the **address** element and notice the ANX display update to show, among other things, the **ietf-ip** namespace."
   ]
  },
  {
   "cell_type": "markdown",
   "metadata": {},
   "source": [
    "#### Explore the NETCONF Console\n",
    "* ANX allows you to send and receive NETCONF payloads directly.\n",
    "* Click the **ipv4** container in the hierarchyand then click the **NETCONF Console** button.\n",
    "* In the NETCONF Console view, click the **\\<get\\>** button and then click the **Send Request** button.\n",
    "* Notice how the NETCONF Console:\n",
    " * Creates a NETCONF XML payload.\n",
    " * Sends the payload to the device in an **\\<rpc\\>** message.\n",
    " * Displays the body of the **\\<rpc-reply\\>** message.\n",
    "* The NETCONF Console allows you to manually edit XML payloads and choose between **\\<get\\>**, **\\<edit-config\\> merge**, **\\<edit-config\\> delete**, and **\\<commit\\>** operations.\n",
    " * **\\*\\* *This is another very useful way to build XML payloads for Python interactions* \\*\\***\n",
    "---"
   ]
  },
  {
   "cell_type": "markdown",
   "metadata": {},
   "source": [
    "### Interact with IOS-XE YANG Modules Using Python ncclient.\n",
    "**ncclient** is a Python NETCCONF client module available on [PyPI](https://pypi.org/project/ncclient/) and pre-installed in this environment.  The core operations for NETCONF interactions are part of the [manager](https://ncclient.readthedocs.io/en/latest/manager.html) class in the **ncclient** module.\n",
    "\n",
    "The following tasks walk you through:\n",
    "* Creating NETCONF sessions to R1 & R2.\n",
    "* Using ANX to build RPC payloads.\n",
    "* Sending **\\<rpc\\>** messages to R1 & R2.\n",
    "* Displaying data from **\\<rpc\\>** reply messages.\n",
    "\n",
    "**The tasks rely heavily on the use of the **xmltodict** Python module, also pre-installed in this environment and available on [PyPi](https://pypi.org/project/xmltodict/).**"
   ]
  },
  {
   "cell_type": "markdown",
   "metadata": {},
   "source": [
    "---\n",
    "#### Import Modules"
   ]
  },
  {
   "cell_type": "code",
   "execution_count": null,
   "metadata": {},
   "outputs": [],
   "source": [
    "from ncclient import manager\n",
    "from pprint import pprint\n",
    "import xmltodict"
   ]
  },
  {
   "cell_type": "markdown",
   "metadata": {},
   "source": [
    "---\n",
    "#### Create Dictionaries for Device Connection Properties"
   ]
  },
  {
   "cell_type": "code",
   "execution_count": null,
   "metadata": {},
   "outputs": [],
   "source": [
    "r1 = {\n",
    "    'host': 'r1.lab.local',\n",
    "    'username': 'wwt',\n",
    "    'password': 'WWTwwt1!',\n",
    "    'hostkey_verify': False,\n",
    "    'device_params': {\n",
    "        'name':'csr'\n",
    "    }\n",
    "}\n",
    "pprint(r1)"
   ]
  },
  {
   "cell_type": "code",
   "execution_count": null,
   "metadata": {},
   "outputs": [],
   "source": [
    "r2 = {\n",
    "    'host': 'r2.lab.local',\n",
    "    'username': 'wwt',\n",
    "    'password': 'WWTwwt1!',\n",
    "    'hostkey_verify': False,\n",
    "    'device_params': {\n",
    "        'name':'csr'\n",
    "    }\n",
    "}\n",
    "pprint(r2)"
   ]
  },
  {
   "cell_type": "markdown",
   "metadata": {},
   "source": [
    "---\n",
    "#### Retreive NETCONF Agent Capabilities from R1"
   ]
  },
  {
   "cell_type": "code",
   "execution_count": null,
   "metadata": {},
   "outputs": [],
   "source": [
    "# Use a Context Manager with the \"manager\" class to handle session cleanup.\n",
    "with manager.connect(**r1) as conn:\n",
    "    caps = conn.server_capabilities\n",
    "\n",
    "print(f'** {len(caps)} Total NETCONF Capabilities **')"
   ]
  },
  {
   "cell_type": "markdown",
   "metadata": {},
   "source": [
    "---\n",
    "#### Display the First 25 Capabilities"
   ]
  },
  {
   "cell_type": "code",
   "execution_count": null,
   "metadata": {},
   "outputs": [],
   "source": [
    "for i in range(25):\n",
    "    print(f'{i + 1}. {list(caps)[i]}')"
   ]
  },
  {
   "cell_type": "markdown",
   "metadata": {},
   "source": [
    "---\n",
    "#### Get Interface Operational Data\n",
    "* Use ANX to build a filter as follows:\n",
    " * YANG Model - **Cisco-IOS-XE-interfaces-oper**\n",
    " * XPath - **/interfaces-ios-xe-oper:interfaces/interface/v4-protocol-stats**\n",
    " * Optional - filter on interface **GigabitEthernet1**"
   ]
  },
  {
   "cell_type": "code",
   "execution_count": null,
   "metadata": {},
   "outputs": [],
   "source": [
    "# Create a multi-line with an XML payload from ANX\n",
    "payload = '''\n",
    "<filter>\n",
    " <interfaces xmlns=\"http://cisco.com/ns/yang/Cisco-IOS-XE-interfaces-oper\">\n",
    "  <interface>\n",
    "    <v4-protocol-stats/>\n",
    "    <name/>\n",
    "  </interface>\n",
    " </interfaces>\n",
    "</filter>\n",
    "'''"
   ]
  },
  {
   "cell_type": "code",
   "execution_count": null,
   "metadata": {},
   "outputs": [],
   "source": [
    "# Create a <get> RPC message with ncclient\n",
    "with manager.connect(**r1) as conn:\n",
    "    # Use the \"get\" method and set the \"filter\" keyword argument to add the XML payload to the RPC\n",
    "    response = conn.get(filter=payload)"
   ]
  },
  {
   "cell_type": "code",
   "execution_count": null,
   "metadata": {},
   "outputs": [],
   "source": [
    "# Display the type for the response object\n",
    "print(type(response))"
   ]
  },
  {
   "cell_type": "code",
   "execution_count": null,
   "metadata": {},
   "outputs": [],
   "source": [
    "# Display the properties of the response object\n",
    "properties = [prop for prop in dir(response) if prop[0] != '_' ]\n",
    "print(properties)"
   ]
  },
  {
   "cell_type": "code",
   "execution_count": null,
   "metadata": {},
   "outputs": [],
   "source": [
    "# Display the raw XML response, in the 'xml' property of the \"response\" object\n",
    "print(response.xml)"
   ]
  },
  {
   "cell_type": "code",
   "execution_count": null,
   "metadata": {},
   "outputs": [],
   "source": [
    "# Display the 'data_xml' property of the \"response\" object\n",
    "print(response.data_xml)"
   ]
  },
  {
   "cell_type": "code",
   "execution_count": null,
   "metadata": {},
   "outputs": [],
   "source": [
    "# Convert the 'response.data_xml' property to a Python dictionary\n",
    "py_response = xmltodict.parse(\n",
    "    response.data_xml,\n",
    "    dict_constructor=dict\n",
    ")\n",
    "\n",
    "pprint(py_response)"
   ]
  },
  {
   "cell_type": "code",
   "execution_count": null,
   "metadata": {},
   "outputs": [],
   "source": [
    "# Display state information in a more readable format\n",
    "interface_data = py_response['data']['interfaces']['interface']\n",
    "for inter in interface_data:\n",
    "    print(f'Interface: {inter[\"name\"]}')\n",
    "    print(f'\\tPackets in: {inter[\"v4-protocol-stats\"][\"in-pkts\"]}')\n",
    "    print(f'\\tPackets out: {inter[\"v4-protocol-stats\"][\"out-pkts\"]}\\n')"
   ]
  },
  {
   "cell_type": "markdown",
   "metadata": {},
   "source": [
    "---\n",
    "#### Get Interface Configuration Data\n",
    "* Use ANX to build a filter as follows:\n",
    " * YANG Model - **ietf-interfaces**\n",
    " * XPath - **/if:interfaces/interface/ip:ipv4**\n",
    " * Optional - filter on interface **GigabitEthernet1**"
   ]
  },
  {
   "cell_type": "code",
   "execution_count": null,
   "metadata": {},
   "outputs": [],
   "source": [
    "# Create a multi-line with an XML payload from ANX\n",
    "payload = '''\n",
    "<filter>\n",
    " <interfaces xmlns=\"urn:ietf:params:xml:ns:yang:ietf-interfaces\">\n",
    "  <interface>\n",
    "    <ipv4 xmlns=\"urn:ietf:params:xml:ns:yang:ietf-ip\"/>\n",
    "    <name/>\n",
    "  </interface>\n",
    " </interfaces>\n",
    "</filter>\n",
    "'''"
   ]
  },
  {
   "cell_type": "code",
   "execution_count": null,
   "metadata": {},
   "outputs": [],
   "source": [
    "# Create a <get-config> RPC message with ncclient\n",
    "with manager.connect(**r1) as conn:\n",
    "    # Use the \"get_config\" method, set the \"source\" keyword argument to \"running\", and set the \"filter\" keyword argument to add the XML payload to the RPC\n",
    "    response = conn.get_config(source='running', filter=payload)"
   ]
  },
  {
   "cell_type": "code",
   "execution_count": null,
   "metadata": {},
   "outputs": [],
   "source": [
    "# Display the type for the response object\n",
    "print(type(response))"
   ]
  },
  {
   "cell_type": "code",
   "execution_count": null,
   "metadata": {},
   "outputs": [],
   "source": [
    "# Display the 'data_xml' property of the \"response\" object\n",
    "print(response.data_xml)"
   ]
  },
  {
   "cell_type": "code",
   "execution_count": null,
   "metadata": {},
   "outputs": [],
   "source": [
    "# Convert the 'response.data_xml' property to a Python dictionary\n",
    "py_response = xmltodict.parse(\n",
    "    response.data_xml,\n",
    "    dict_constructor=dict\n",
    ")\n",
    "\n",
    "pprint(py_response)"
   ]
  },
  {
   "cell_type": "code",
   "execution_count": null,
   "metadata": {},
   "outputs": [],
   "source": [
    "# Display configuration information in a more readable format\n",
    "header_msg = '** Interface List **'\n",
    "print(f'\\n{\"-\" * len(header_msg)}')\n",
    "print(header_msg)\n",
    "print(f'{\"-\" * len(header_msg)}\\n')\n",
    "interface_config = py_response['data']['interfaces']['interface']\n",
    "for inter in interface_config:\n",
    "    print(f'Interface: {inter[\"name\"]}')\n",
    "    print(f'\\tIP Address: {inter[\"ipv4\"][\"address\"][\"ip\"]}')\n",
    "    print(f'\\tSubnet Mask: {inter[\"ipv4\"][\"address\"][\"netmask\"]}\\n')"
   ]
  },
  {
   "cell_type": "markdown",
   "metadata": {},
   "source": [
    "---\n",
    "#### Create a New Interface\n",
    "* Use ANX to build a configuration for a new Loopback interrface as follows:\n",
    " * YANG Model - **Cisco-IOS-XE-native**\n",
    " * XPath - **/ios:native/interface/Loopback/name**\n",
    " * Interface Name - **0**"
   ]
  },
  {
   "cell_type": "code",
   "execution_count": null,
   "metadata": {},
   "outputs": [],
   "source": [
    "# Create a multi-line with an XML payload from ANX\n",
    "payload = '''\n",
    "<config>\n",
    " <native xmlns=\"http://cisco.com/ns/yang/Cisco-IOS-XE-native\">\n",
    "  <interface>\n",
    "    <Loopback>\n",
    "      <name>0</name>\n",
    "    </Loopback>\n",
    "  </interface>\n",
    " </native>\n",
    "</config>\n",
    "'''"
   ]
  },
  {
   "cell_type": "code",
   "execution_count": null,
   "metadata": {},
   "outputs": [],
   "source": [
    "# Create an <edit-config> RPC message with ncclient\n",
    "with manager.connect(**r1) as conn:\n",
    "    # Use the \"edit_config\" method, set the \"target\" keyword argument to \"running\", and set the \"config\" keyword argument to add the XML payload to the RPC\n",
    "    response = conn.edit_config(target='running', config=payload)"
   ]
  },
  {
   "cell_type": "code",
   "execution_count": null,
   "metadata": {},
   "outputs": [],
   "source": [
    "# Display the properties of the response object\n",
    "properties = [prop for prop in dir(response) if prop[0] != '_' ]\n",
    "print(properties)"
   ]
  },
  {
   "cell_type": "code",
   "execution_count": null,
   "metadata": {
    "jupyter": {
     "source_hidden": true
    }
   },
   "outputs": [],
   "source": [
    "# Display the 'xml' property of the \"response\" object\n",
    "pprint(response.xml)"
   ]
  },
  {
   "cell_type": "markdown",
   "metadata": {},
   "source": [
    "---\n",
    "#### Verify Configuration Change"
   ]
  },
  {
   "cell_type": "code",
   "execution_count": null,
   "metadata": {},
   "outputs": [],
   "source": [
    "# Create a multi-line with an XML payload from ANX\n",
    "payload = '''\n",
    "<filter>\n",
    " <native xmlns=\"http://cisco.com/ns/yang/Cisco-IOS-XE-native\">\n",
    "  <interface/>\n",
    " </native>\n",
    "</filter>\n",
    "'''"
   ]
  },
  {
   "cell_type": "code",
   "execution_count": null,
   "metadata": {},
   "outputs": [],
   "source": [
    "# Create a <get-config> RPC message with ncclient\n",
    "with manager.connect(**r1) as conn:\n",
    "    # Use the \"get_config\" method, set the \"source\" keyword argument to \"running\", and set the \"filter\" keyword argument to add the XML payload to the RPC\n",
    "    response = conn.get_config(source='running', filter=payload)"
   ]
  },
  {
   "cell_type": "code",
   "execution_count": null,
   "metadata": {},
   "outputs": [],
   "source": [
    "# Convert the 'response.data_xml' property to a Python dictionary\n",
    "py_response = xmltodict.parse(\n",
    "    response.data_xml,\n",
    "    dict_constructor=dict\n",
    ")\n",
    "\n",
    "pprint(py_response)"
   ]
  },
  {
   "cell_type": "code",
   "execution_count": null,
   "metadata": {},
   "outputs": [],
   "source": [
    "# Display configuration information in a more readable format\n",
    "header_msg = '** Interface List **'\n",
    "print(f'\\n{\"-\" * len(header_msg)}')\n",
    "print(header_msg)\n",
    "print(f'{\"-\" * len(header_msg)}\\n')\n",
    "interface_config = py_response['data']['native']['interface']\n",
    "for key, value in interface_config.items():\n",
    "    if type(value) == list:\n",
    "        print(f'Interface: {key}{value[0][\"name\"]}')\n",
    "        print(f'\\tIP Address: {value[0][\"ip\"][\"address\"][\"primary\"][\"address\"]}\\n')\n",
    "    else:\n",
    "        print(f'Interface: {key}{value[\"name\"]}')\n",
    "        if value.get('ip'):\n",
    "            print(f'\\tIP Address: {value[\"ip\"][\"address\"][\"primary\"][\"address\"]}\\n')\n",
    "        else:\n",
    "            print('\\tIP Address: Not assigned')"
   ]
  },
  {
   "cell_type": "markdown",
   "metadata": {},
   "source": [
    "---\n",
    "#### Update Interface Configuration Details\n",
    "* Use ANX to add an IP address, description, and load interval to the new Loopback interface:\n",
    " * YANG Model - **Cisco-IOS-XE-native**\n",
    " * XPath - **/ios:native/interface/Loopback/ip/address/primary**\n",
    " * IPv4 Address - **172.16.10.10**\n",
    " * Subnet Mask - **255.255.255.255**"
   ]
  },
  {
   "cell_type": "code",
   "execution_count": null,
   "metadata": {},
   "outputs": [],
   "source": [
    "# Create a multi-line with an XML payload from ANX\n",
    "payload = '''\n",
    "<config>\n",
    " <native xmlns=\"http://cisco.com/ns/yang/Cisco-IOS-XE-native\">\n",
    "  <interface>\n",
    "    <Loopback>\n",
    "     <name>0</name>\n",
    "     <description>Added by NETCONF</description>\n",
    "     <load-interval>30</load-interval>\n",
    "     <ip>\n",
    "      <address>\n",
    "        <primary>\n",
    "          <address>172.16.10.10</address>\n",
    "          <mask>255.255.255.255</mask>\n",
    "        </primary>\n",
    "      </address>\n",
    "     </ip>\n",
    "    </Loopback>\n",
    "  </interface>\n",
    " </native>\n",
    "</config>\n",
    "'''"
   ]
  },
  {
   "cell_type": "code",
   "execution_count": null,
   "metadata": {},
   "outputs": [],
   "source": [
    "# Create an <edit-config> RPC message with ncclient\n",
    "with manager.connect(**r1) as conn:\n",
    "    # Use the \"edit_config\" method, set the \"target\" keyword argument to \"running\", and set the \"config\" keyword argument to add the XML payload to the RPC\n",
    "    response = conn.edit_config(target='running', config=payload)"
   ]
  },
  {
   "cell_type": "code",
   "execution_count": null,
   "metadata": {},
   "outputs": [],
   "source": [
    "# Display the 'xml' property of the \"response\" object\n",
    "pprint(response.xml)"
   ]
  },
  {
   "cell_type": "markdown",
   "metadata": {},
   "source": [
    "---\n",
    "#### Verify Configuration Change"
   ]
  },
  {
   "cell_type": "code",
   "execution_count": null,
   "metadata": {},
   "outputs": [],
   "source": [
    "# Create a multi-line with an XML payload from ANX\n",
    "payload = '''\n",
    "<filter>\n",
    " <native xmlns=\"http://cisco.com/ns/yang/Cisco-IOS-XE-native\">\n",
    "  <interface/>\n",
    " </native>\n",
    "</filter>\n",
    "'''"
   ]
  },
  {
   "cell_type": "code",
   "execution_count": null,
   "metadata": {},
   "outputs": [],
   "source": [
    "# Create a <get-config> RPC message with ncclient\n",
    "with manager.connect(**r1) as conn:\n",
    "    # Use the \"get_config\" method, set the \"source\" keyword argument to \"running\", and set the \"filter\" keyword argument to add the XML payload to the RPC\n",
    "    response = conn.get_config(source='running', filter=payload)"
   ]
  },
  {
   "cell_type": "code",
   "execution_count": null,
   "metadata": {},
   "outputs": [],
   "source": [
    "# Convert the 'response.data_xml' property to a Python dictionary\n",
    "py_response = xmltodict.parse(\n",
    "    response.data_xml,\n",
    "    dict_constructor=dict\n",
    ")\n",
    "\n",
    "pprint(py_response)"
   ]
  },
  {
   "cell_type": "code",
   "execution_count": null,
   "metadata": {},
   "outputs": [],
   "source": [
    "# Display configuration information in a more readable format\n",
    "header_msg = '** Interface List **'\n",
    "print(f'\\n{\"-\" * len(header_msg)}')\n",
    "print(header_msg)\n",
    "print(f'{\"-\" * len(header_msg)}\\n')\n",
    "interface_config = py_response['data']['native']['interface']\n",
    "for key, value in interface_config.items():\n",
    "    if type(value) == list:\n",
    "        print(f'Interface: {key}{value[0][\"name\"]}')\n",
    "        print(f'\\tIP Address: {value[0][\"ip\"][\"address\"][\"primary\"][\"address\"]}\\n')\n",
    "    else:\n",
    "        print(f'Interface: {key}{value[\"name\"]}')\n",
    "        print(f'\\tDescription: {value.get(\"description\", \"None\")}')\n",
    "        if value.get('ip'):\n",
    "            print(f'\\tIP Address: {value[\"ip\"][\"address\"][\"primary\"][\"address\"]}')\n",
    "            print(f'\\tSubnet Mask: {value[\"ip\"][\"address\"][\"primary\"][\"mask\"]}\\n')\n",
    "        else:\n",
    "            print('\\tIP Address: Not assigned')"
   ]
  },
  {
   "cell_type": "markdown",
   "metadata": {},
   "source": [
    "---\n",
    "#### Delete the New Interface\n",
    "* Use ANX to delete the new Loopback interface:\n",
    " * YANG Model - **Cisco-IOS-XE-native**\n",
    " * XPath - **/ios:native/interface/Loopback**\n",
    " * Interface Name - **0**"
   ]
  },
  {
   "cell_type": "code",
   "execution_count": null,
   "metadata": {},
   "outputs": [],
   "source": [
    "# Create a multi-line with an XML payload from ANX\n",
    "payload = '''\n",
    "<config>\n",
    " <native xmlns=\"http://cisco.com/ns/yang/Cisco-IOS-XE-native\">\n",
    "  <interface>\n",
    "    <Loopback operation=\"delete\">\n",
    "     <name>0</name>\n",
    "    </Loopback>\n",
    "  </interface>\n",
    " </native>\n",
    "</config>\n",
    "'''"
   ]
  },
  {
   "cell_type": "code",
   "execution_count": null,
   "metadata": {},
   "outputs": [],
   "source": [
    "# Create an <edit-config> RPC message with ncclient\n",
    "with manager.connect(**r1) as conn:\n",
    "    # Use the \"edit_config\" method, set the \"target\" keyword argument to \"running\", and set the \"config\" keyword argument to add the XML payload to the RPC\n",
    "    response = conn.edit_config(target='running', config=payload)"
   ]
  },
  {
   "cell_type": "code",
   "execution_count": null,
   "metadata": {},
   "outputs": [],
   "source": [
    "# Display the 'xml' property of the \"response\" object\n",
    "pprint(response.xml)"
   ]
  },
  {
   "cell_type": "markdown",
   "metadata": {},
   "source": [
    "---\n",
    "#### Verify Configuration Change"
   ]
  },
  {
   "cell_type": "code",
   "execution_count": null,
   "metadata": {},
   "outputs": [],
   "source": [
    "# Create a multi-line with an XML payload from ANX\n",
    "payload = '''\n",
    "<filter>\n",
    " <native xmlns=\"http://cisco.com/ns/yang/Cisco-IOS-XE-native\">\n",
    "  <interface/>\n",
    " </native>\n",
    "</filter>\n",
    "'''"
   ]
  },
  {
   "cell_type": "code",
   "execution_count": null,
   "metadata": {},
   "outputs": [],
   "source": [
    "# Create a <get-config> RPC message with ncclient\n",
    "with manager.connect(**r1) as conn:\n",
    "    # Use the \"get_config\" method, set the \"source\" keyword argument to \"running\", and set the \"filter\" keyword argument to add the XML payload to the RPC\n",
    "    response = conn.get_config(source='running', filter=payload)"
   ]
  },
  {
   "cell_type": "code",
   "execution_count": null,
   "metadata": {},
   "outputs": [],
   "source": [
    "# Convert the 'response.data_xml' property to a Python dictionary\n",
    "py_response = xmltodict.parse(\n",
    "    response.data_xml,\n",
    "    dict_constructor=dict\n",
    ")\n",
    "\n",
    "pprint(py_response)"
   ]
  },
  {
   "cell_type": "code",
   "execution_count": null,
   "metadata": {},
   "outputs": [],
   "source": [
    "# Display configuration information in a more readable format\n",
    "header_msg = '** Interface List **'\n",
    "print(f'\\n{\"-\" * len(header_msg)}')\n",
    "print(header_msg)\n",
    "print(f'{\"-\" * len(header_msg)}\\n')\n",
    "interface_config = py_response['data']['native']['interface']\n",
    "for key, value in interface_config.items():\n",
    "    if type(value) == list:\n",
    "        print(f'Interface: {key}{value[0][\"name\"]}')\n",
    "        print(f'\\tIP Address: {value[0][\"ip\"][\"address\"][\"primary\"][\"address\"]}\\n')\n",
    "    else:\n",
    "        print(f'Interface: {key}{value[\"name\"]}')\n",
    "        print(f'\\tDescription: {value.get(\"description\", \"None\")}')\n",
    "        if value.get('ip'):\n",
    "            print(f'\\tIP Address: {value[\"ip\"][\"address\"][\"primary\"][\"address\"]}')\n",
    "            print(f'\\tSubnet Mask: {value[\"ip\"][\"address\"][\"primary\"][\"mask\"]}\\n')\n",
    "        else:\n",
    "            print('\\tIP Address: Not assigned')"
   ]
  },
  {
   "cell_type": "markdown",
   "metadata": {},
   "source": [
    "---\n",
    "#### Edit the Candidate Datastore on R2\n",
    "* IOS-XE blocks configuration changes to the **running** datastore when the **candidate** datastore is enabled. \n",
    "* Use ANX to build a configuration for a new Loopback interrface as follows:\n",
    " * YANG Model - **Cisco-IOS-XE-native**\n",
    " * XPath - **/ios:native/interface/Loopback/name**\n",
    " * Interface Name - **10**"
   ]
  },
  {
   "cell_type": "code",
   "execution_count": null,
   "metadata": {},
   "outputs": [],
   "source": [
    "# Create a multi-line with an XML payload from ANX\n",
    "payload = '''\n",
    "<config>\n",
    " <native xmlns=\"http://cisco.com/ns/yang/Cisco-IOS-XE-native\">\n",
    "  <interface>\n",
    "    <Loopback>\n",
    "      <name>10</name>\n",
    "    </Loopback>\n",
    "  </interface>\n",
    " </native>\n",
    "</config>\n",
    "'''"
   ]
  },
  {
   "cell_type": "code",
   "execution_count": null,
   "metadata": {},
   "outputs": [],
   "source": [
    "# Try to create an <edit-config> RPC message with ncclient that targets the \"running\" datastore\n",
    "from ncclient.operations.rpc import RPCError\n",
    "with manager.connect(**r2) as conn:\n",
    "    try:\n",
    "        # Use the \"edit_config\" method, set the \"target\" keyword argument to \"running\", and set the \"config\" keyword argument to add the XML payload to the RPC\n",
    "        response = conn.edit_config(target='running', config=payload)\n",
    "    except RPCError as e:\n",
    "        print(repr(e))\n",
    "    "
   ]
  },
  {
   "cell_type": "code",
   "execution_count": null,
   "metadata": {},
   "outputs": [],
   "source": [
    "# Try the same <edit-config> RPC message again but target the \"candidate\" datastore instead\n",
    "# Don't use the context manager for this exercise, in order to keep the NETCONF session open for multiple operations\n",
    "conn = manager.connect(**r2)\n",
    "# Use the \"edit_config\" method, set the \"target\" keyword argument to \"candidate\", and set the \"config\" keyword argument to add the XML payload to the RPC\n",
    "response = conn.edit_config(target='candidate', config=payload)  "
   ]
  },
  {
   "cell_type": "code",
   "execution_count": null,
   "metadata": {},
   "outputs": [],
   "source": [
    "# Display the properties of the response object\n",
    "properties = [prop for prop in dir(response) if prop[0] != '_' ]\n",
    "print(properties)"
   ]
  },
  {
   "cell_type": "code",
   "execution_count": null,
   "metadata": {},
   "outputs": [],
   "source": [
    "# Display the 'xml' property of the \"response\" object\n",
    "pprint(response.xml)"
   ]
  },
  {
   "cell_type": "markdown",
   "metadata": {},
   "source": [
    "---\n",
    "#### Verify Configuration Change\n",
    "* Confirm the change to the **candidate** datastore does not appear in the **running** datastore, yet."
   ]
  },
  {
   "cell_type": "code",
   "execution_count": null,
   "metadata": {},
   "outputs": [],
   "source": [
    "# Create a multi-line with an XML payload from ANX\n",
    "payload = '''\n",
    "<filter>\n",
    " <native xmlns=\"http://cisco.com/ns/yang/Cisco-IOS-XE-native\">\n",
    "  <interface/>\n",
    " </native>\n",
    "</filter>\n",
    "'''"
   ]
  },
  {
   "cell_type": "code",
   "execution_count": null,
   "metadata": {},
   "outputs": [],
   "source": [
    "# Create a <get-config> RPC message with ncclient\n",
    "# Use the \"get_config\" method, set the \"source\" keyword argument to \"running\", and set the \"filter\" keyword argument to add the XML payload to the RPC\n",
    "response = conn.get_config(source='running', filter=payload)"
   ]
  },
  {
   "cell_type": "code",
   "execution_count": null,
   "metadata": {},
   "outputs": [],
   "source": [
    "# Convert the 'response.data_xml' property to a Python dictionary\n",
    "py_response = xmltodict.parse(\n",
    "    response.data_xml,\n",
    "    dict_constructor=dict\n",
    ")\n",
    "\n",
    "pprint(py_response)"
   ]
  },
  {
   "cell_type": "code",
   "execution_count": null,
   "metadata": {},
   "outputs": [],
   "source": [
    "# Display configuration information in a more readable format\n",
    "header_msg = '** Interface List **'\n",
    "print(f'\\n{\"-\" * len(header_msg)}')\n",
    "print(header_msg)\n",
    "print(f'{\"-\" * len(header_msg)}\\n')\n",
    "interface_config = py_response['data']['native']['interface']\n",
    "for key, value in interface_config.items():\n",
    "    if type(value) == list:\n",
    "        print(f'Interface: {key}{value[0][\"name\"]}')\n",
    "        print(f'\\tIP Address: {value[0][\"ip\"][\"address\"][\"primary\"][\"address\"]}\\n')\n",
    "    else:\n",
    "        print(f'Interface: {key}{value[\"name\"]}')\n",
    "        if value.get('ip'):\n",
    "            print(f'\\tIP Address: {value[\"ip\"][\"address\"][\"primary\"][\"address\"]}\\n')\n",
    "        else:\n",
    "            print('\\tIP Address: Not assigned')"
   ]
  },
  {
   "cell_type": "markdown",
   "metadata": {},
   "source": [
    "---\n",
    "#### Copy the Candidate Datastore on R2 to the Running Datastore"
   ]
  },
  {
   "cell_type": "code",
   "execution_count": null,
   "metadata": {},
   "outputs": [],
   "source": [
    "# Create a <commit> RPC message with ncclient, to commit \"candidate\" datastore changes to the \"running\" datastore\n",
    "# Use the \"commit\" method\n",
    "response = conn.commit()"
   ]
  },
  {
   "cell_type": "code",
   "execution_count": null,
   "metadata": {},
   "outputs": [],
   "source": [
    "# Display the properties of the response object\n",
    "properties = [prop for prop in dir(response) if prop[0] != '_' ]\n",
    "print(properties)"
   ]
  },
  {
   "cell_type": "code",
   "execution_count": null,
   "metadata": {},
   "outputs": [],
   "source": [
    "# Display the 'xml' property of the \"response\" object\n",
    "pprint(response.xml)"
   ]
  },
  {
   "cell_type": "markdown",
   "metadata": {},
   "source": [
    "---\n",
    "#### Verify Configuration Change\n",
    "* Commit the Commit to the Running Datastore on R2 is Successful."
   ]
  },
  {
   "cell_type": "code",
   "execution_count": null,
   "metadata": {},
   "outputs": [],
   "source": [
    "# Create a multi-line with an XML payload from ANX\n",
    "payload = '''\n",
    "<filter>\n",
    " <native xmlns=\"http://cisco.com/ns/yang/Cisco-IOS-XE-native\">\n",
    "  <interface/>\n",
    " </native>\n",
    "</filter>\n",
    "'''"
   ]
  },
  {
   "cell_type": "code",
   "execution_count": null,
   "metadata": {},
   "outputs": [],
   "source": [
    "# Create a <get-config> RPC message with ncclient\n",
    "# Use the \"get_config\" method, set the \"source\" keyword argument to \"running\", and set the \"filter\" keyword argument to add the XML payload to the RPC\n",
    "response = conn.get_config(source='running', filter=payload)"
   ]
  },
  {
   "cell_type": "code",
   "execution_count": null,
   "metadata": {},
   "outputs": [],
   "source": [
    "# Convert the 'response.data_xml' property to a Python dictionary\n",
    "py_response = xmltodict.parse(\n",
    "    response.data_xml,\n",
    "    dict_constructor=dict\n",
    ")\n",
    "\n",
    "pprint(py_response)"
   ]
  },
  {
   "cell_type": "code",
   "execution_count": null,
   "metadata": {},
   "outputs": [],
   "source": [
    "# Display configuration information in a more readable format\n",
    "header_msg = '** Interface List **'\n",
    "print(f'\\n{\"-\" * len(header_msg)}')\n",
    "print(header_msg)\n",
    "print(f'{\"-\" * len(header_msg)}\\n')\n",
    "interface_config = py_response['data']['native']['interface']\n",
    "for key, value in interface_config.items():\n",
    "    if type(value) == list:\n",
    "        print(f'Interface: {key}{value[0][\"name\"]}')\n",
    "        print(f'\\tIP Address: {value[0][\"ip\"][\"address\"][\"primary\"][\"address\"]}\\n')\n",
    "    else:\n",
    "        print(f'Interface: {key}{value[\"name\"]}')\n",
    "        if value.get('ip'):\n",
    "            print(f'\\tIP Address: {value[\"ip\"][\"address\"][\"primary\"][\"address\"]}\\n')\n",
    "        else:\n",
    "            print('\\tIP Address: Not assigned')"
   ]
  },
  {
   "cell_type": "markdown",
   "metadata": {},
   "source": [
    "---\n",
    "#### Close the NETCONF Session"
   ]
  },
  {
   "cell_type": "code",
   "execution_count": null,
   "metadata": {},
   "outputs": [],
   "source": [
    "# Create a <close-session> RPC message with ncclient to gracefully close the NETCONF session to R2\n",
    "response = conn.close_session()"
   ]
  },
  {
   "cell_type": "code",
   "execution_count": null,
   "metadata": {},
   "outputs": [],
   "source": [
    "# Display the properties of the response object\n",
    "properties = [prop for prop in dir(response) if prop[0] != '_' ]\n",
    "print(properties)"
   ]
  },
  {
   "cell_type": "code",
   "execution_count": null,
   "metadata": {},
   "outputs": [],
   "source": [
    "# Display the 'xml' property of the \"response\" object\n",
    "pprint(response.xml)"
   ]
  },
  {
   "cell_type": "markdown",
   "metadata": {},
   "source": [
    "---\n",
    "#### Save Running Configurations to Startup Configurations\n",
    "* Write changes from the \"running\" datastore of both R1 & R2 to the \"startup\" datastore."
   ]
  },
  {
   "cell_type": "code",
   "execution_count": null,
   "metadata": {},
   "outputs": [],
   "source": [
    "# Create an XML string with the required payload to save the configuration\n",
    "save_config_string = '<cisco-ia:save-config xmlns:cisco-ia=\"http://cisco.com/yang/cisco-ia\"/>'"
   ]
  },
  {
   "cell_type": "code",
   "execution_count": null,
   "metadata": {},
   "outputs": [],
   "source": [
    "# Import the \"fromstring\" method from the lxml.etree class, to convert the payload string into a properly-formatted XML element\n",
    "from lxml.etree import fromstring\n",
    "payload = fromstring(save_config_string)"
   ]
  },
  {
   "cell_type": "code",
   "execution_count": null,
   "metadata": {},
   "outputs": [],
   "source": [
    "# Create <copy-config> RPC messages with ncclient, to copy the \"running\" datastore contents to the \"startup\" datastore, with both R1 & R2\n",
    "with manager.connect(**r1) as conn:\n",
    "    # Use the \"dispatch\" method and pass the XML-formatted payload as an argument\n",
    "    r1_response = conn.dispatch(payload)\n",
    "\n",
    "with manager.connect(**r2) as conn:\n",
    "    # Use the \"dispatch\" method and pass the XML-formatted payload as an argument\n",
    "    r2_response = conn.dispatch(payload)"
   ]
  },
  {
   "cell_type": "code",
   "execution_count": null,
   "metadata": {},
   "outputs": [],
   "source": [
    "# Display the properties of one of the response objects\n",
    "properties = [prop for prop in dir(r1_response) if prop[0] != '_' ]\n",
    "print(properties)"
   ]
  },
  {
   "cell_type": "code",
   "execution_count": null,
   "metadata": {},
   "outputs": [],
   "source": [
    "# Display the 'xml' property of the \"r1_response\" object\n",
    "print(r1_response.xml)"
   ]
  },
  {
   "cell_type": "code",
   "execution_count": null,
   "metadata": {},
   "outputs": [],
   "source": [
    "# Convert the 'r1_response.xml' and 'r2_response.xml' properties to Python dictionaries\n",
    "py_r1_response = xmltodict.parse(\n",
    "    r1_response.xml,\n",
    "    dict_constructor=dict\n",
    ")\n",
    "\n",
    "py_r2_response = xmltodict.parse(\n",
    "    r2_response.xml,\n",
    "    dict_constructor=dict\n",
    ")\n",
    "\n",
    "pprint(py_r1_response)\n",
    "pprint(py_r2_response)"
   ]
  },
  {
   "cell_type": "code",
   "execution_count": null,
   "metadata": {},
   "outputs": [],
   "source": [
    "# Display the response information in a more readable format\n",
    "print(f'Response from R1: {py_r1_response[\"rpc-reply\"][\"result\"][\"#text\"]}')\n",
    "print(f'Response from R2: {py_r2_response[\"rpc-reply\"][\"result\"][\"#text\"]}')"
   ]
  },
  {
   "cell_type": "code",
   "execution_count": null,
   "metadata": {},
   "outputs": [],
   "source": []
  }
 ],
 "metadata": {
  "kernelspec": {
   "display_name": "Python 3",
   "language": "python",
   "name": "python3"
  },
  "language_info": {
   "codemirror_mode": {
    "name": "ipython",
    "version": 3
   },
   "file_extension": ".py",
   "mimetype": "text/x-python",
   "name": "python",
   "nbconvert_exporter": "python",
   "pygments_lexer": "ipython3",
   "version": "3.8.5"
  }
 },
 "nbformat": 4,
 "nbformat_minor": 4
}
