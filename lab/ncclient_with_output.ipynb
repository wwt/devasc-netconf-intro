{
 "cells": [
  {
   "cell_type": "markdown",
   "metadata": {},
   "source": [
    "# [DevNet Associate Model-Driven Programmability - NETCONF](https://learningnetwork.cisco.com/s/devnet-associate-exam-topics)\n",
    "## Exam Topics:\n",
    "### 3.8 Apply concepts of model driven programmability (YANG, RESTCONF, and NETCONF) in a Cisco environment\n",
    "### 5.1 Describe the value of model driven programmability for infrastructure automation\n",
    "### 5.10 Interpret the results of a RESTCONF or NETCONF query\n",
    "### 5.11 Interpret basic YANG models\n",
    "\n",
    "---\n",
    "\n",
    "### Tasks:\n",
    "1. Lab Environment Overview.\n",
    "2. Explore YANG Models with [**YANG Suite**](https://developer.cisco.com/yangsuite/).\n",
    "3. Interact with IOS-XE YANG Modules Using Python [**ncclient**](https://developer.cisco.com/codeexchange/github/repo/ncclient/ncclient/).\n",
    "\n",
    "---"
   ]
  },
  {
   "cell_type": "markdown",
   "metadata": {},
   "source": [
    "### Task 1 - Lab Environment Overview\n",
    "The Programmability Foundations Lab has two CSR1000v devices which run IOS-XE 16.2(2s). Access information for these devices is as follows:\n",
    "1. **Router 1 (R1)** - r1.lab.local (192.168.2.161)\n",
    "2. **Router 2 (R2)** - r2.lab.local (192.168.2.162)\n",
    "3. **Username** - wwt\n",
    "4. **Password** - WWTwwt1!\n",
    " \n",
    " \n",
    "The [Programmability Foundations Lab Guide](https://labs.wwtatc.com/lab-guides/programmability_foundations_lab/index.html) has complete lab topology information."
   ]
  },
  {
   "cell_type": "markdown",
   "metadata": {},
   "source": [
    "#### Task 1a - Connect to R1 & R2\n",
    "1. Click the **MTPuTTY** icon in the taskbar.\n",
    "2. Expand the **PuTTY Sessions** folder.\n",
    "3. Double-click on each **r1.lab.local** and **r2.lab.local** to establish SSH sessions.\n",
    "4. When prompted, log on to both routers.\n",
    "\n",
    "![1_mtputty.png](_images/1_mtputty.png)"
   ]
  },
  {
   "cell_type": "markdown",
   "metadata": {},
   "source": [
    "#### Task 1b - Disable Session Timeout on R2\n",
    "SSH sessions to **R1** have no time limit although SSH sessions to **R2** expire after 10 minutes of inactivity.\n",
    "\n",
    "##### Enter the following CLI commands on **R2** to disable VTY session timeout:\n",
    "```\n",
    "configure terminal\n",
    "!\n",
    "line vty 0 15\n",
    " exec-timeout 0\n",
    " end\n",
    "wr mem\n",
    "```"
   ]
  },
  {
   "cell_type": "markdown",
   "metadata": {},
   "source": [
    "#### Task 1c - Review R1 NETCONF Configuration\n",
    "\n",
    "##### Enter the following CLI command to review information about the NETCONF configuration on **R1**:\n",
    "```\n",
    "show run | include netconf\n",
    "```\n",
    "\n",
    "* The result of this command shows the single IOS-XE configuration line **netconf-yang** which enables NETCONF on the device.\n",
    "* The command **no netconf-yang**, in global configuration mode (configure terminal) will disable NETCONF, platform-wide.\n",
    "\n",
    "##### Next, enter the following commands on **R1**:\n",
    "```\n",
    "show netconf-yang datastores\n",
    "show netconf-yang status\n",
    "```\n",
    "\n",
    "The results of these commands show that:\n",
    "* The NETCONF **running** datastore is available.\n",
    "* NETCONF is enabled on the default port, 830.\n",
    "* The NETCONF **candidate** datastore is disabled.\n",
    "\n",
    "##### Finally, enter the following command on **R1**:\n",
    "```\n",
    "show netconf schema\n",
    "```\n",
    "\n",
    "This command displays the NETCONF XML RPC schema for the device which allows you to view a hierarchical representation of the available NETCONF RPCs and their paramaters."
   ]
  },
  {
   "cell_type": "markdown",
   "metadata": {},
   "source": [
    "#### Task 1d - Review R2 NETCONF Configuration\n",
    "\n",
    "##### Enter the following CLI command to review information about the NETCONF configuration on **R1**:\n",
    "```\n",
    "show run | include netconf\n",
    "```\n",
    "\n",
    "* The result of this command shows a line of configuration that is not in the R1 config:\n",
    "\n",
    "**netconf-yang feature candidate-datastore**.\n",
    "\n",
    "* As the syntax implies, this command enables the NETCONF **candidate** datastore.\n",
    "\n",
    "##### Enter the following commands to review the status of the NETCONF **candidate** datastore:\n",
    "```\n",
    "show netconf-yang datastores\n",
    "show netconf-yang status\n",
    "```\n",
    "\n",
    "The results of these commands show that:\n",
    "* The NETCONF **running** and **candidate** datastores are available.\n",
    "* NETCONF is enabled on the default port, 830.\n",
    "* The NETCONF **candidate** datastore is enabled.\n",
    "---"
   ]
  },
  {
   "cell_type": "markdown",
   "metadata": {},
   "source": [
    "### Task 2 - Explore YANG Models With YANG Suite\n",
    "YANG Suite allows you to:\n",
    "* Explore the YANG models of compatible devices.\n",
    "* Create NETCONF payloads and filters.\n",
    "* Send and receive NETCONF RPCs."
   ]
  },
  {
   "cell_type": "markdown",
   "metadata": {},
   "source": [
    "#### Task 2a - Log on to YANG Suite\n",
    "\n",
    "* The lab setup process opens a Chrome browser tab for YANG Suite.\n",
    "  * If you do not see the YANG suite browser tab, double-click the **YANG Suite** desktop shortcut icon to open a new tab to YANG Suite or manually browse to [https://localhost](https://localhost).\n",
    "\n",
    "To log on to YANG Suite:\n",
    "1. Set the **Username** to **admin**.\n",
    "2. Set the **Password** to **WWTwwt1!**.\n",
    "3. Click the **Login** button.\n",
    "\n",
    "![2_yang_suite_login.png](_images/2_yang_suite_login.png)\n",
    "\n",
    "---"
   ]
  },
  {
   "cell_type": "markdown",
   "metadata": {},
   "source": [
    "#### Task 2b - Review YANG Suite Menu Options\n",
    "\n",
    "* The **Setup** menu allows you to:\n",
    "  * Import YANG models from files, Git repository, and network devices.\n",
    "  * Create **YANG Module Sets** to browse or use with NETCONF operations on network devices.\n",
    "  * Add network device connection parameters for remote connectivity and NETCONF operations.\n",
    "\n",
    "\n",
    "* The **Explore > YANG** menu selection allows you to browse YANG modules from a **YANG Module Set**.\n",
    "\n",
    "* The **Protocols > NETCONF** menu selection allows you to interact with network devices via NETCONF operations.\n",
    "\n",
    "![3_yang_suite_setup_menu.png](_images/3_yang_suite_setup_menu.png)\n",
    "\n",
    "---"
   ]
  },
  {
   "cell_type": "markdown",
   "metadata": {},
   "source": [
    "#### Task 2c - Test Connectivity to Preconfigured Lab Network Devices\n",
    "\n",
    "* The **Device Profiles** menu selection has the connection parameters for the two CSR1000v lab routers preconfigured for you.\n",
    "* Choose the radio button for a Device Profile (e.g. **R1**) and click the **Check selected device's reachability** button to validate connectivity.\n",
    "\n",
    "![4_yang_suite_device_profiles.png](_images/4_yang_suite_device_profiles.png)\n",
    "\n",
    "---"
   ]
  },
  {
   "cell_type": "markdown",
   "metadata": {},
   "source": [
    "#### Task 2d - Review Preconfigured YANG Module Repository Configuration\n",
    "\n",
    "* The **YANG files and repositories** menu selection has a **YANG Module Repository** named **IOS-XE** preconfigured for you.\n",
    "  * The **YANG modules in repository** window shows the YANG modules which have been pre-loaded into YANG Suite from the CSR1000v **R1** for you.\n",
    "  * The pre-loaded modules include the IETF and IOS-XE Native YANG modules which support network device interface configuration.\n",
    "\n",
    "![5_yang_suite_yang_module_repos.png](_images/5_yang_suite_yang_module_repos.png)\n",
    "\n",
    "---"
   ]
  },
  {
   "cell_type": "markdown",
   "metadata": {},
   "source": [
    "#### Task 2e - Review Preconfigured YANG Module Set Configuration\n",
    "\n",
    "* The **YANG module sets** menu selection has a **YANG Set** named **IOS-XE** preconfigured for you.\n",
    "  * The **YANG modules in this set** window shows the YANG modules and their dependencies which have been pre-loaded into YANG Suite from the CSR1000v **R1** for you.\n",
    "\n",
    "![6_yang_suite_yang_module_sets.png](_images/6_yang_suite_yang_module_sets.png)\n",
    "\n",
    "---"
   ]
  },
  {
   "cell_type": "markdown",
   "metadata": {},
   "source": [
    "#### Task 2f - Explore the Preconfigured YANG Module Set Browser\n",
    "\n",
    "* The **Explore > YANG** menu selection allows you to:\n",
    "  * Choose **YANG Set** to select **YANG Modules** from.\n",
    "  * Search for and choose a single or multiple **YANG Modules** to browse.\n",
    "  * Navigate the YANG tree for a module.\n",
    "  * Select a YANG object from the module tree.\n",
    "  * View YANG properties for any object.\n",
    "\n",
    "\n",
    "* The image below shows the YANG properties for the **interfaces container** in the **ietf-interfaces** YANG module.\n",
    "  * Take note of the **XPath** property as it is useful to quickly search for and locate objects across several YANG modules at once.\n",
    "  * The **Access** and **Operations** properties are also useful when you want to perform NETCONF operations using a given YANG module.\n",
    "\n",
    "![7_yang_module_exploration.png](_images/7_yang_module_exploration.png)\n",
    "\n",
    "---"
   ]
  },
  {
   "cell_type": "markdown",
   "metadata": {},
   "source": [
    "#### Task 2g - Manage a Network Device Using NETCONF\n",
    "\n",
    "* The **Protocols > NETCONF** menu selection allows you to interact with network devices using NETCONF.\n",
    "* Interacting with a network device via NETCONF requires that you build XML RPC messages which specify the data you want to:\n",
    "  * Retreive from a network device.\n",
    "  * Send to a network device, in the form of configuration or commands.\n",
    "\n",
    "\n",
    "* To build the first NETCONF RPC message with YANG Suite:\n",
    "  1. Select **IOS-XE** from the **YANG Set** drop-down menu.\n",
    "  2. Type **ietf-interfaces** in the **Module(s)** text area.\n",
    "  3. Click the **Load Modules** button.\n",
    "  4. Expand the **ietf-interfaces** module in YANG tree explorer.\n",
    "\n",
    "![8_yang_suite_netconf_setup.png](_images/8_yang_suite_netconf_setup.png)\n",
    "\n",
    "---"
   ]
  },
  {
   "cell_type": "markdown",
   "metadata": {},
   "source": [
    "#### Task 2h - Build and Send a NETCONF RPC to R1\n",
    "\n",
    "* Now that the relevant YANG modules loaded into the NETCONF RPC tool, we will retreive interface configuration information from **R1** with a NETCONF RPC:\n",
    "  1. Choose **get-config** from the **NETCONF Operation** drop-down menu and choose **R1** from the **Device** drop-down menu.\n",
    "  2. Expand the YANG tree explorer objects **ietf-interfaces > interfaces > interface > ip:ipv4**.\n",
    "    * Click the blank space to the right of the **ip:address** container (in the **Value** column) to choose this container for the RPC.\n",
    "  3. Click the **Build RPC** button.\n",
    "  4. Observe the XML RPC payload display in the area on the right side of the browser.\n",
    "  5. Click the **Run RPC(s)** button to send the RPC to **R1**.\n",
    "\n",
    "\n",
    "* A new browser tab will open with the RPC response from **R1**. \n",
    "\n",
    "![9_yang_suite_netconf_rpc_setup.png](_images/9_yang_suite_netconf_rpc_setup.png)\n",
    "\n",
    "---"
   ]
  },
  {
   "cell_type": "markdown",
   "metadata": {
    "tags": []
   },
   "source": [
    "#### Task 2i - Review the RPC Response from R1\n",
    "\n",
    "* Scroll up slightly in the browser tab and locate the **\\<rpc-reply\\>** message with the interface configuration details for **R1**.\n",
    "  * You will be able to see the IP address for each configured interface.\n",
    "  * The interfaces have no other non-default configuration applied at this time or more configuration details would be visible in the RPC response.\n",
    "\n",
    "![10_yang_suite_netconf_rpc_response.png](_images/10_yang_suite_netconf_rpc_response.png)\n",
    "\n",
    "---"
   ]
  },
  {
   "cell_type": "markdown",
   "metadata": {
    "tags": []
   },
   "source": [
    "#### Task 2j - Review Other Options and Features of the NETCONF Explorer\n",
    "\n",
    "Switch back to the browser tab with the NETCONF explorer to review some additional details.\n",
    "\n",
    "* The **NETCONF Operations** menu allows you to choose from different operations that a given YANG object supports.\n",
    "\n",
    "![11_yang_suite_netconf_ops.png](_images/11_yang_suite_netconf_ops.png)\n",
    "\n",
    "---\n",
    "\n",
    "* The **YANG Tree** menu allows you to:\n",
    "  * Clear any checkbox selections, drop-down selections, or string input from the YANG tree.\n",
    "  * Search for objects within the YANG tree using free text which matches YANG object **XPath** data.\n",
    "\n",
    "![12_yang_suite_yang_tree_options.png](_images/12_yang_suite_yang_tree_options.png)\n",
    "\n",
    "![13_yang_suite_xpath_search.png](_images/13_yang_suite_xpath_search.png)\n",
    "\n",
    "---\n",
    "\n",
    "* The **RPC Options** menu allows you to select the target **datastore** for NETCONF operations (**running** is the default datastore target).\n",
    "\n",
    "![14_yang_suite_rpc_options.png](_images/14_yang_suite_rpc_options.png)\n",
    "\n",
    "---\n",
    "\n",
    "* The **Device** menu allows you to switch between devices to target with NETCONF operations.\n",
    "* The **Clear RPC(s)** button removes all RPC information from the area on the right side of the browser tab.\n",
    "  * This allows you to construct new RPCs.\n",
    "\n",
    "![15_yang_suite_device_options.png](_images/15_yang_suite_device_options.png)\n",
    "\n",
    "---\n",
    "\n",
    "* The **Replays** menu allows you to generate Python files for download which perform NETCONF operations via a Python interpreter.\n",
    "* To generate and download a file with a Python code representation of your current NETCONF RPC:\n",
    "  1. Click the **Replays** menu and choose **Generate Python script**.\n",
    "\n",
    "\n",
    "![16_yang_suite_generate_python.png](_images/16_yang_suite_generate_python.png)\n",
    "\n",
    "\n",
    "  2. When prompted, click the **Keep** button at the bottom of the browser tab, to grant Chrome permission to download Python files.\n",
    "\n",
    "![17_yang_suite_python_download_1.png](_images/17_yang_suite_python_download_1.png)\n",
    "\n",
    "\n",
    "  3. When the download completes, double-click the name of the file (**script1.py** is the file in the screenshot) and, if prompted, choose the application **Visual Studio Code** to open the file.\n",
    "\n",
    "![18_yang_suite_python_download_2.png](_images/18_yang_suite_python_download_2.png)\n",
    "\n",
    "\n",
    "  4. Take note of the multi-line string with the NETCONF XML RPC payload.  Subsequent lab tasks require these exact sorts of XML strings.\n",
    "\n",
    "![19_yang_suite_python_vs_code.png](_images/19_yang_suite_python_vs_code.png)\n",
    "\n",
    "---"
   ]
  },
  {
   "cell_type": "markdown",
   "metadata": {},
   "source": [
    "### Task 3 - Interact with IOS-XE YANG Modules Using Python ncclient.\n",
    "**ncclient** is a Python NETCONF manager (client) module available on [PyPI](https://pypi.org/project/ncclient/) and is pre-installed in this environment.  **ncclient** allows you to write Python code which can interact with network devices using the NETCONF protocol.  The [**manager**](https://ncclient.readthedocs.io/en/latest/manager.html) class in the **ncclient** module contains the core methods that we will use for NETCONF interactions with network devices.\n",
    "\n",
    "The following tasks walk you through:\n",
    "* Creating NETCONF sessions to R1 & R2.\n",
    "* Using YANG Suite to build RPC payloads.\n",
    "* Sending **\\<rpc\\>** messages to R1 & R2.\n",
    "* Displaying data from **\\<rpc\\>** reply messages.\n",
    "\n",
    "The tasks rely heavily on the use of the **xmltodict** Python module, also pre-installed in this environment and available on [PyPi](https://pypi.org/project/xmltodict/).  **xmltodict** allows you to convert data between the XML and Python Dictionary encoding formats and you will see example conversions in both directions."
   ]
  },
  {
   "cell_type": "markdown",
   "metadata": {},
   "source": [
    "---\n",
    "#### Task 3a - Import Modules\n",
    "\n",
    "Import the following Python modules:\n",
    "* **ncclient** - NETCONF manager (client) to connect to NETCONF agents (network devices).\n",
    "* **pprint.pprint** - Method to print output in a more friendly format than the standard Python print() function.\n",
    "* **xmltodict** - Module to convert between XML and Python Dictionary encoding formats, bidirectionally."
   ]
  },
  {
   "cell_type": "code",
   "execution_count": 1,
   "metadata": {},
   "outputs": [],
   "source": [
    "from ncclient import manager\n",
    "from pprint import pprint\n",
    "import xmltodict"
   ]
  },
  {
   "cell_type": "markdown",
   "metadata": {},
   "source": [
    "---\n",
    "#### Task 3b - Create Dictionaries for Device Connection Properties\n",
    "\n",
    "* Create dictionary objects for **R1** and **R2** which contain the connection paramaters specified by the **manager** class of the **ncclient** module.\n",
    "  * We will use these dictionaries to connect to and authenticate with both **R1** and **R2**.\n",
    "* Verify the dictionary data by Pretty Printing the contents of each dictionary."
   ]
  },
  {
   "cell_type": "code",
   "execution_count": 2,
   "metadata": {},
   "outputs": [
    {
     "name": "stdout",
     "output_type": "stream",
     "text": [
      "{'device_params': {'name': 'csr'},\n",
      " 'host': 'r1.lab.local',\n",
      " 'hostkey_verify': False,\n",
      " 'password': 'WWTwwt1!',\n",
      " 'username': 'wwt'}\n"
     ]
    }
   ],
   "source": [
    "r1 = {\n",
    "    'host': 'r1.lab.local',\n",
    "    'username': 'wwt',\n",
    "    'password': 'WWTwwt1!',\n",
    "    'hostkey_verify': False,\n",
    "    'device_params': {\n",
    "        'name':'csr'\n",
    "    }\n",
    "}\n",
    "pprint(r1)"
   ]
  },
  {
   "cell_type": "code",
   "execution_count": 3,
   "metadata": {},
   "outputs": [
    {
     "name": "stdout",
     "output_type": "stream",
     "text": [
      "{'device_params': {'name': 'csr'},\n",
      " 'host': 'r2.lab.local',\n",
      " 'hostkey_verify': False,\n",
      " 'password': 'WWTwwt1!',\n",
      " 'username': 'wwt'}\n"
     ]
    }
   ],
   "source": [
    "r2 = {\n",
    "    'host': 'r2.lab.local',\n",
    "    'username': 'wwt',\n",
    "    'password': 'WWTwwt1!',\n",
    "    'hostkey_verify': False,\n",
    "    'device_params': {\n",
    "        'name':'csr'\n",
    "    }\n",
    "}\n",
    "pprint(r2)"
   ]
  },
  {
   "cell_type": "markdown",
   "metadata": {},
   "source": [
    "---\n",
    "#### Task 3c - Retreive NETCONF Agent Capabilities from R1\n",
    "\n",
    "* Use the **with** keyword in order to allow the Python *Context Manager* to automatically close the NETCONF session, after the code runs.\n",
    "  * The alternative is to manually close a NETCONF session.\n",
    "* Use the **connect** method of the **ncclient manager** class to initiate a connection to **R1**.\n",
    "  * Pass the **r1** dictionary as an argument to the **connect** method with the syntax **\\*\\*r1**.\n",
    "    * This technique is caled *Dictionary Unpacking* and converts each dictionary key to a keyword argument, with their corresponding values.\n",
    "* Assign the result of the **connect** method to the variable **conn** (short for 'connection').\n",
    "* Assign the value of the **conn.server_capabilities** attribute to the variable **caps** (short for 'capabilities')\n",
    "* Use the **len** function to determine the total number of NETCONF capabilities that **R1** reports."
   ]
  },
  {
   "cell_type": "code",
   "execution_count": 4,
   "metadata": {},
   "outputs": [
    {
     "name": "stdout",
     "output_type": "stream",
     "text": [
      "** 480 Total NETCONF Capabilities **\n"
     ]
    }
   ],
   "source": [
    "# Use a Context Manager with the \"manager\" class to handle session cleanup.\n",
    "with manager.connect(**r1) as conn:\n",
    "    caps = conn.server_capabilities\n",
    "\n",
    "print(f'** {len(caps)} Total NETCONF Capabilities **')"
   ]
  },
  {
   "cell_type": "markdown",
   "metadata": {},
   "source": [
    "---\n",
    "#### Task 3d - Display the First 25 Capabilities\n",
    "\n",
    "* To view a sample of **R1's** NETCONF capabilities, use a **for** loop to print the first 25 capabilities in the **caps** object.\n",
    "  * Observe the types of capabilities that **R1** reports."
   ]
  },
  {
   "cell_type": "code",
   "execution_count": 5,
   "metadata": {},
   "outputs": [
    {
     "name": "stdout",
     "output_type": "stream",
     "text": [
      "1. urn:ietf:params:netconf:base:1.0\n",
      "2. urn:ietf:params:netconf:base:1.1\n",
      "3. urn:ietf:params:netconf:capability:writable-running:1.0\n",
      "4. urn:ietf:params:netconf:capability:xpath:1.0\n",
      "5. urn:ietf:params:netconf:capability:validate:1.0\n",
      "6. urn:ietf:params:netconf:capability:validate:1.1\n",
      "7. urn:ietf:params:netconf:capability:rollback-on-error:1.0\n",
      "8. urn:ietf:params:netconf:capability:notification:1.0\n",
      "9. urn:ietf:params:netconf:capability:interleave:1.0\n",
      "10. urn:ietf:params:netconf:capability:with-defaults:1.0?basic-mode=explicit&also-supported=report-all-tagged\n",
      "11. urn:ietf:params:netconf:capability:yang-library:1.0?revision=2016-06-21&module-set-id=17215ced51adcf878cd3b5af2bbb6a8c\n",
      "12. http://tail-f.com/ns/netconf/actions/1.0\n",
      "13. http://tail-f.com/ns/netconf/extensions\n",
      "14. http://cisco.com/ns/cisco-xe-ietf-ip-deviation?module=cisco-xe-ietf-ip-deviation&revision=2016-08-10\n",
      "15. http://cisco.com/ns/cisco-xe-ietf-ipv4-unicast-routing-deviation?module=cisco-xe-ietf-ipv4-unicast-routing-deviation&revision=2015-09-11\n",
      "16. http://cisco.com/ns/cisco-xe-ietf-ipv6-unicast-routing-deviation?module=cisco-xe-ietf-ipv6-unicast-routing-deviation&revision=2015-09-11\n",
      "17. http://cisco.com/ns/cisco-xe-ietf-ospf-deviation?module=cisco-xe-ietf-ospf-deviation&revision=2018-02-09\n",
      "18. http://cisco.com/ns/cisco-xe-ietf-routing-deviation?module=cisco-xe-ietf-routing-deviation&revision=2016-07-09\n",
      "19. http://cisco.com/ns/cisco-xe-openconfig-acl-deviation?module=cisco-xe-openconfig-acl-deviation&revision=2017-08-25\n",
      "20. http://cisco.com/ns/cisco-xe-openconfig-aft-deviation?module=cisco-xe-openconfig-aft-deviation&revision=2018-12-05\n",
      "21. http://cisco.com/ns/cisco-xe-openconfig-isis-deviation?module=cisco-xe-openconfig-isis-deviation&revision=2018-12-05\n",
      "22. http://cisco.com/ns/cisco-xe-openconfig-lldp-deviation?module=cisco-xe-openconfig-lldp-deviation&revision=2018-07-25\n",
      "23. http://cisco.com/ns/cisco-xe-openconfig-mpls-deviation?module=cisco-xe-openconfig-mpls-deviation&revision=2019-06-27\n",
      "24. http://cisco.com/ns/cisco-xe-openconfig-segment-routing-deviation?module=cisco-xe-openconfig-segment-routing-deviation&revision=2018-12-05\n",
      "25. http://cisco.com/ns/mpls-static/devs?module=common-mpls-static-devs&revision=2015-09-11\n"
     ]
    }
   ],
   "source": [
    "for i in range(25):\n",
    "    print(f'{i + 1}. {list(caps)[i]}')"
   ]
  },
  {
   "cell_type": "markdown",
   "metadata": {},
   "source": [
    "---\n",
    "#### Task 3e - Get Interface Operational Data\n",
    "\n",
    "*Operational data* is information about the *state* of a device.  In this case, we will look at state data for one of the interfaces on **R1**.\n",
    "\n",
    "* NETCONF managers (clients) require an RPC payload to declare the type of NETCONF request (get, get-config, edit-config, etc.), the target datastore (running, candidate, etc.) plus a *filter* to specify the scope of the request.\n",
    "* **ncclient** uses a combination of **methods** and **arguments** to create a full, XML-encoded RPC.\n",
    "  * The **method** (get, get-config, edit-config, etc.) creates the XML payload for the RPC.\n",
    "  * The **filter** keyword argument requires a properly-formatted XML payload to target the required object.\n",
    "\n",
    "\n",
    "* Use YANG Suite to build an RPC filter as follows:\n",
    "  * YANG Model - **Cisco-IOS-XE-interfaces-oper**\n",
    "  * XPath - **/interfaces/interface/v4-protocol-stats**\n",
    "    * Optional - filter on interface **GigabitEthernet1**\n",
    "  * Copy and paste the data in the **\\<filter\\>** tag from YANG Suite to the **payload** variable (multiline string) below."
   ]
  },
  {
   "cell_type": "code",
   "execution_count": 16,
   "metadata": {},
   "outputs": [],
   "source": [
    "# Create a multi-line string with an XML payload from YANG Suite\n",
    "payload = '''\n",
    "<filter>\n",
    " <interfaces xmlns=\"http://cisco.com/ns/yang/Cisco-IOS-XE-interfaces-oper\">\n",
    "  <interface>\n",
    "    <v4-protocol-stats/>\n",
    "    <name/>\n",
    "  </interface>\n",
    " </interfaces>\n",
    "</filter>\n",
    "'''"
   ]
  },
  {
   "cell_type": "code",
   "execution_count": 17,
   "metadata": {},
   "outputs": [],
   "source": [
    "# Create a <get> RPC message with ncclient\n",
    "with manager.connect(**r1) as conn:\n",
    "    # Use the \"get\" method and set the \"filter\" keyword argument to add the XML payload to the RPC\n",
    "    response = conn.get(filter=payload)"
   ]
  },
  {
   "cell_type": "code",
   "execution_count": 18,
   "metadata": {},
   "outputs": [
    {
     "name": "stdout",
     "output_type": "stream",
     "text": [
      "<class 'ncclient.operations.retrieve.GetReply'>\n"
     ]
    }
   ],
   "source": [
    "# Display the type for the response object\n",
    "print(type(response))"
   ]
  },
  {
   "cell_type": "code",
   "execution_count": 19,
   "metadata": {},
   "outputs": [
    {
     "name": "stdout",
     "output_type": "stream",
     "text": [
      "['ERROR_CLS', 'data', 'data_ele', 'data_xml', 'error', 'errors', 'ok', 'parse', 'xml']\n"
     ]
    }
   ],
   "source": [
    "# Display the attributes and methods in the response object\n",
    "properties = [prop for prop in dir(response) if prop[0] != '_' ]\n",
    "print(properties)"
   ]
  },
  {
   "cell_type": "code",
   "execution_count": 20,
   "metadata": {},
   "outputs": [
    {
     "name": "stdout",
     "output_type": "stream",
     "text": [
      "<?xml version=\"1.0\" encoding=\"UTF-8\"?>\n",
      "<rpc-reply xmlns=\"urn:ietf:params:xml:ns:netconf:base:1.0\" message-id=\"urn:uuid:8179bf18-dbab-4d69-a323-80b775bae524\" xmlns:nc=\"urn:ietf:params:xml:ns:netconf:base:1.0\"><data><interfaces xmlns=\"http://cisco.com/ns/yang/Cisco-IOS-XE-interfaces-oper\"><interface><name xmlns:nc='urn:ietf:params:xml:ns:netconf:base:1.0'>GigabitEthernet1</name><v4-protocol-stats><in-pkts>11594</in-pkts><in-octets>1964255</in-octets><in-error-pkts>0</in-error-pkts><in-forwarded-pkts>0</in-forwarded-pkts><in-forwarded-octets>0</in-forwarded-octets><in-discarded-pkts>0</in-discarded-pkts><out-pkts>1369</out-pkts><out-octets>1316244</out-octets><out-error-pkts>0</out-error-pkts><out-forwarded-pkts>1368</out-forwarded-pkts><out-forwarded-octets>0</out-forwarded-octets><out-discarded-pkts>0</out-discarded-pkts></v4-protocol-stats></interface></interfaces></data></rpc-reply>\n"
     ]
    }
   ],
   "source": [
    "# Display the raw XML response, in the 'xml' attribute of the \"response\" object\n",
    "print(response.xml)"
   ]
  },
  {
   "cell_type": "code",
   "execution_count": 21,
   "metadata": {},
   "outputs": [
    {
     "name": "stdout",
     "output_type": "stream",
     "text": [
      "<?xml version=\"1.0\" encoding=\"UTF-8\"?><data xmlns=\"urn:ietf:params:xml:ns:netconf:base:1.0\" xmlns:nc=\"urn:ietf:params:xml:ns:netconf:base:1.0\"><interfaces xmlns=\"http://cisco.com/ns/yang/Cisco-IOS-XE-interfaces-oper\"><interface><name xmlns:nc=\"urn:ietf:params:xml:ns:netconf:base:1.0\">GigabitEthernet1</name><v4-protocol-stats><in-pkts>11594</in-pkts><in-octets>1964255</in-octets><in-error-pkts>0</in-error-pkts><in-forwarded-pkts>0</in-forwarded-pkts><in-forwarded-octets>0</in-forwarded-octets><in-discarded-pkts>0</in-discarded-pkts><out-pkts>1369</out-pkts><out-octets>1316244</out-octets><out-error-pkts>0</out-error-pkts><out-forwarded-pkts>1368</out-forwarded-pkts><out-forwarded-octets>0</out-forwarded-octets><out-discarded-pkts>0</out-discarded-pkts></v4-protocol-stats></interface></interfaces></data>\n"
     ]
    }
   ],
   "source": [
    "# Display the 'data_xml' attribute of the \"response\" object\n",
    "print(response.data_xml)"
   ]
  },
  {
   "cell_type": "code",
   "execution_count": 22,
   "metadata": {},
   "outputs": [
    {
     "name": "stdout",
     "output_type": "stream",
     "text": [
      "{'data': {'@xmlns': 'urn:ietf:params:xml:ns:netconf:base:1.0',\n",
      "          '@xmlns:nc': 'urn:ietf:params:xml:ns:netconf:base:1.0',\n",
      "          'interfaces': {'@xmlns': 'http://cisco.com/ns/yang/Cisco-IOS-XE-interfaces-oper',\n",
      "                         'interface': {'name': {'#text': 'GigabitEthernet1',\n",
      "                                                '@xmlns:nc': 'urn:ietf:params:xml:ns:netconf:base:1.0'},\n",
      "                                       'v4-protocol-stats': {'in-discarded-pkts': '0',\n",
      "                                                             'in-error-pkts': '0',\n",
      "                                                             'in-forwarded-octets': '0',\n",
      "                                                             'in-forwarded-pkts': '0',\n",
      "                                                             'in-octets': '1964255',\n",
      "                                                             'in-pkts': '11594',\n",
      "                                                             'out-discarded-pkts': '0',\n",
      "                                                             'out-error-pkts': '0',\n",
      "                                                             'out-forwarded-octets': '0',\n",
      "                                                             'out-forwarded-pkts': '1368',\n",
      "                                                             'out-octets': '1316244',\n",
      "                                                             'out-pkts': '1369'}}}}}\n"
     ]
    }
   ],
   "source": [
    "# Convert the 'response.data_xml' attribute to a Python dictionary\n",
    "py_response = xmltodict.parse(\n",
    "    response.data_xml,\n",
    "    dict_constructor=dict\n",
    ")\n",
    "\n",
    "pprint(py_response)"
   ]
  },
  {
   "cell_type": "code",
   "execution_count": 23,
   "metadata": {},
   "outputs": [
    {
     "name": "stdout",
     "output_type": "stream",
     "text": [
      "Interface: GigabitEthernet1\n",
      "\tPackets in: 11594\n",
      "\tPackets out: 1369\n",
      "\n"
     ]
    }
   ],
   "source": [
    "# Display state information in a more readable format\n",
    "interface_data = py_response['data']['interfaces']['interface']\n",
    "\n",
    "# Data for multiple interfaces returns as a list of dictionaries\n",
    "if type(interface_data) is list:\n",
    "    # Loop over the list and display data for each interface\n",
    "    for inter in interface_data:\n",
    "        print(f'Interface: {inter[\"name\"]}')\n",
    "        print(f'\\tPackets in: {inter[\"v4-protocol-stats\"][\"in-pkts\"]}')\n",
    "        print(f'\\tPackets out: {inter[\"v4-protocol-stats\"][\"out-pkts\"]}\\n')\n",
    "\n",
    "# Data for a single interface returns as a dictionary\n",
    "else:\n",
    "    # Display the data for the single interface\n",
    "    print(f'Interface: {interface_data[\"name\"][\"#text\"]}')\n",
    "    print(f'\\tPackets in: {interface_data[\"v4-protocol-stats\"][\"in-pkts\"]}')\n",
    "    print(f'\\tPackets out: {interface_data[\"v4-protocol-stats\"][\"out-pkts\"]}\\n')"
   ]
  },
  {
   "cell_type": "markdown",
   "metadata": {},
   "source": [
    "---\n",
    "#### Task 3f - Get Interface Configuration Data\n",
    "\n",
    "*Configuration data* is information about the *configuration* of a device.  In this case, we will look at configuration data for one of the interfaces on **R1**.\n",
    "\n",
    "* This NETCONF request will use the **get-config** RPC operation which, in addition to specifying a **filter** keyword argument, requires a **source** keyword argument in order to specify the NETCONF **datastore** the RPC targets.\n",
    "  * Since **R1** only has one operational datastore (**running**), we will target that datastore.\n",
    "\n",
    "\n",
    "* Use YANG Suite to build an RPC filter as follows:\n",
    "  * YANG Model - **ietf-interfaces**\n",
    "  * XPath - **/interfaces/interface/ip:ipv4**\n",
    "    * Optional - filter on interface **GigabitEthernet1**\n",
    "  * Copy and paste the data in the **\\<filter\\>** tag from YANG Suite to the **payload** variable (multiline string) below."
   ]
  },
  {
   "cell_type": "code",
   "execution_count": 24,
   "metadata": {
    "tags": []
   },
   "outputs": [],
   "source": [
    "# Create a multi-line string with an XML payload from YANG Suite\n",
    "payload = '''\n",
    "<filter>\n",
    " <interfaces xmlns=\"urn:ietf:params:xml:ns:yang:ietf-interfaces\">\n",
    "  <interface>\n",
    "    <ipv4 xmlns=\"urn:ietf:params:xml:ns:yang:ietf-ip\"/>\n",
    "    <name/>\n",
    "  </interface>\n",
    " </interfaces>\n",
    "</filter>\n",
    "'''"
   ]
  },
  {
   "cell_type": "code",
   "execution_count": 25,
   "metadata": {},
   "outputs": [],
   "source": [
    "# Create a <get-config> RPC message with ncclient\n",
    "with manager.connect(**r1) as conn:\n",
    "    # Use the \"get_config\" method, set the \"source\" keyword argument to \"running\", and set the \"filter\" keyword argument to add the XML payload to the RPC\n",
    "    response = conn.get_config(source='running', filter=payload)"
   ]
  },
  {
   "cell_type": "code",
   "execution_count": 26,
   "metadata": {},
   "outputs": [
    {
     "name": "stdout",
     "output_type": "stream",
     "text": [
      "<class 'ncclient.operations.retrieve.GetReply'>\n"
     ]
    }
   ],
   "source": [
    "# Display the type for the response object\n",
    "print(type(response))"
   ]
  },
  {
   "cell_type": "code",
   "execution_count": 27,
   "metadata": {},
   "outputs": [
    {
     "name": "stdout",
     "output_type": "stream",
     "text": [
      "<?xml version=\"1.0\" encoding=\"UTF-8\"?><data xmlns=\"urn:ietf:params:xml:ns:netconf:base:1.0\" xmlns:nc=\"urn:ietf:params:xml:ns:netconf:base:1.0\"><interfaces xmlns=\"urn:ietf:params:xml:ns:yang:ietf-interfaces\"><interface><name>GigabitEthernet1</name><ipv4 xmlns=\"urn:ietf:params:xml:ns:yang:ietf-ip\"><address><ip>192.168.2.161</ip><netmask>255.255.255.0</netmask></address></ipv4></interface><interface><name>GigabitEthernet2</name><ipv4 xmlns=\"urn:ietf:params:xml:ns:yang:ietf-ip\"><address><ip>172.31.12.161</ip><netmask>255.255.255.0</netmask></address></ipv4></interface></interfaces></data>\n"
     ]
    }
   ],
   "source": [
    "# Display the 'data_xml' attribute of the \"response\" object\n",
    "print(response.data_xml)"
   ]
  },
  {
   "cell_type": "code",
   "execution_count": 28,
   "metadata": {},
   "outputs": [
    {
     "name": "stdout",
     "output_type": "stream",
     "text": [
      "{'data': {'@xmlns': 'urn:ietf:params:xml:ns:netconf:base:1.0',\n",
      "          '@xmlns:nc': 'urn:ietf:params:xml:ns:netconf:base:1.0',\n",
      "          'interfaces': {'@xmlns': 'urn:ietf:params:xml:ns:yang:ietf-interfaces',\n",
      "                         'interface': [{'ipv4': {'@xmlns': 'urn:ietf:params:xml:ns:yang:ietf-ip',\n",
      "                                                 'address': {'ip': '192.168.2.161',\n",
      "                                                             'netmask': '255.255.255.0'}},\n",
      "                                        'name': 'GigabitEthernet1'},\n",
      "                                       {'ipv4': {'@xmlns': 'urn:ietf:params:xml:ns:yang:ietf-ip',\n",
      "                                                 'address': {'ip': '172.31.12.161',\n",
      "                                                             'netmask': '255.255.255.0'}},\n",
      "                                        'name': 'GigabitEthernet2'}]}}}\n"
     ]
    }
   ],
   "source": [
    "# Convert the 'response.data_xml' attribute to a Python dictionary\n",
    "py_response = xmltodict.parse(\n",
    "    response.data_xml,\n",
    "    dict_constructor=dict\n",
    ")\n",
    "\n",
    "pprint(py_response)"
   ]
  },
  {
   "cell_type": "code",
   "execution_count": 29,
   "metadata": {},
   "outputs": [
    {
     "name": "stdout",
     "output_type": "stream",
     "text": [
      "\n",
      "--------------------\n",
      "** Interface List **\n",
      "--------------------\n",
      "\n",
      "Interface: GigabitEthernet1\n",
      "\tIP Address: 192.168.2.161\n",
      "\tSubnet Mask: 255.255.255.0\n",
      "\n",
      "Interface: GigabitEthernet2\n",
      "\tIP Address: 172.31.12.161\n",
      "\tSubnet Mask: 255.255.255.0\n",
      "\n"
     ]
    }
   ],
   "source": [
    "# Display configuration information in a more readable format\n",
    "header_msg = '** Interface List **'\n",
    "print(f'\\n{\"-\" * len(header_msg)}')\n",
    "print(header_msg)\n",
    "print(f'{\"-\" * len(header_msg)}\\n')\n",
    "\n",
    "interface_config = py_response['data']['interfaces']['interface']\n",
    "\n",
    "# Data for multiple interfaces returns as a list of dictionaries\n",
    "if type(interface_config) is list:\n",
    "    # Loop over the list and display data for each interface\n",
    "    for inter in interface_config:\n",
    "        print(f'Interface: {inter[\"name\"]}')\n",
    "        if inter[\"ipv4\"].get(\"address\"):\n",
    "            print(f'\\tIP Address: {inter[\"ipv4\"][\"address\"][\"ip\"]}')\n",
    "            print(f'\\tSubnet Mask: {inter[\"ipv4\"][\"address\"][\"netmask\"]}\\n')\n",
    "        else:\n",
    "            print('\\tIP Address: Not Assigned')\n",
    "\n",
    "# Data for a single interface returns as a dictionary\n",
    "else:\n",
    "    # Display the data for the single interface\n",
    "    print(f'Interface: {interface_config[\"name\"][\"#text\"]}')\n",
    "    if interface_config[\"ipv4\"].get(\"address\"):\n",
    "        print(f'\\tIP Address: {interface_config[\"ipv4\"][\"address\"][\"ip\"]}')\n",
    "        print(f'\\tSubnet Mask: {interface_config[\"ipv4\"][\"address\"][\"netmask\"]}\\n')\n",
    "    else:\n",
    "        print('\\tIP Address: Not Assigned')"
   ]
  },
  {
   "cell_type": "markdown",
   "metadata": {},
   "source": [
    "---\n",
    "#### Task 3g - Create a New Interface\n",
    "\n",
    "* This NETCONF request will use the **edit-config** RPC operation which, like the **get-config** RPC operation, requires both the **filter** and **source** keyword arguments.\n",
    "  * Since **R1** only has one operational datastore (**running**), we will target that datastore.\n",
    "\n",
    "\n",
    "* Use YANG Suite to build an RPC configuration for a new Loopback interface (Loopback 0) as follows:\n",
    "  * YANG Model - **Cisco-IOS-XE-native**\n",
    "  * XPath - **/native/interface/Loopback/name**\n",
    "  * Interface Name - **0**\n",
    "  * Copy and paste the data in the **\\<config\\>** tag from YANG Suite to the **payload** variable (multiline string) below. "
   ]
  },
  {
   "cell_type": "code",
   "execution_count": 30,
   "metadata": {},
   "outputs": [],
   "source": [
    "# Create a multi-line string with an XML payload from YANG Suite\n",
    "payload = '''\n",
    "<config>\n",
    " <native xmlns=\"http://cisco.com/ns/yang/Cisco-IOS-XE-native\">\n",
    "  <interface>\n",
    "    <Loopback>\n",
    "      <name>0</name>\n",
    "    </Loopback>\n",
    "  </interface>\n",
    " </native>\n",
    "</config>\n",
    "'''"
   ]
  },
  {
   "cell_type": "code",
   "execution_count": 31,
   "metadata": {},
   "outputs": [],
   "source": [
    "# Create an <edit-config> RPC message with ncclient\n",
    "with manager.connect(**r1) as conn:\n",
    "    # Use the \"edit_config\" method, set the \"target\" keyword argument to \"running\", and set the \"config\" keyword argument to add the XML payload to the RPC\n",
    "    response = conn.edit_config(target='running', config=payload)"
   ]
  },
  {
   "cell_type": "code",
   "execution_count": 32,
   "metadata": {},
   "outputs": [
    {
     "name": "stdout",
     "output_type": "stream",
     "text": [
      "['ERROR_CLS', 'error', 'errors', 'ok', 'parse', 'xml']\n"
     ]
    }
   ],
   "source": [
    "# Display the attributes and methods in the response object\n",
    "properties = [prop for prop in dir(response) if prop[0] != '_' ]\n",
    "print(properties)"
   ]
  },
  {
   "cell_type": "code",
   "execution_count": 33,
   "metadata": {
    "tags": []
   },
   "outputs": [
    {
     "name": "stdout",
     "output_type": "stream",
     "text": [
      "('<?xml version=\"1.0\" encoding=\"UTF-8\"?>\\n'\n",
      " '<rpc-reply xmlns=\"urn:ietf:params:xml:ns:netconf:base:1.0\" '\n",
      " 'message-id=\"urn:uuid:5f2efb83-80d2-46a2-9890-87c4af095322\" '\n",
      " 'xmlns:nc=\"urn:ietf:params:xml:ns:netconf:base:1.0\"><ok/></rpc-reply>')\n"
     ]
    }
   ],
   "source": [
    "# Display the 'xml' attribute of the \"response\" object and notice the \"<ok/>\" tag in the RPC response\n",
    "pprint(response.xml)"
   ]
  },
  {
   "cell_type": "markdown",
   "metadata": {},
   "source": [
    "---\n",
    "#### Task 3h - Verify Configuration Change\n",
    "\n",
    "This NETCONF request will use the **get-config** RPC to determine whether or not the previous operation added the **Loopback 0** interface to **R1**.\n",
    "\n",
    "* Use YANG Suite to build a build an RPC which gets configuration data for the **R1** interfaces:\n",
    "  * YANG Model - **Cisco-IOS-XE-native**\n",
    "  * XPath - **/native/interface**\n",
    "  * Copy and paste the data in the **\\<filter\\>** tag from YANG Suite to the **payload** variable (multiline string) below. "
   ]
  },
  {
   "cell_type": "code",
   "execution_count": 34,
   "metadata": {},
   "outputs": [],
   "source": [
    "# Create a multi-line string with an XML payload from YANG Suite\n",
    "payload = '''\n",
    "<filter>\n",
    " <native xmlns=\"http://cisco.com/ns/yang/Cisco-IOS-XE-native\">\n",
    "  <interface/>\n",
    " </native>\n",
    "</filter>\n",
    "'''"
   ]
  },
  {
   "cell_type": "code",
   "execution_count": 35,
   "metadata": {
    "tags": []
   },
   "outputs": [],
   "source": [
    "# Create a <get-config> RPC message with ncclient\n",
    "with manager.connect(**r1) as conn:\n",
    "    # Use the \"get_config\" method, set the \"source\" keyword argument to \"running\", and set the \"filter\" keyword argument to add the XML payload to the RPC\n",
    "    response = conn.get_config(source='running', filter=payload)"
   ]
  },
  {
   "cell_type": "code",
   "execution_count": 37,
   "metadata": {},
   "outputs": [
    {
     "name": "stdout",
     "output_type": "stream",
     "text": [
      "{'data': {'@xmlns': 'urn:ietf:params:xml:ns:netconf:base:1.0',\n",
      "          '@xmlns:nc': 'urn:ietf:params:xml:ns:netconf:base:1.0',\n",
      "          'native': {'@xmlns': 'http://cisco.com/ns/yang/Cisco-IOS-XE-native',\n",
      "                     'interface': {'GigabitEthernet': [{'ip': {'address': {'primary': {'address': '192.168.2.161',\n",
      "                                                                                       'mask': '255.255.255.0'}}},\n",
      "                                                        'mop': {'enabled': 'false',\n",
      "                                                                'sysid': 'false'},\n",
      "                                                        'name': '1',\n",
      "                                                        'negotiation': {'@xmlns': 'http://cisco.com/ns/yang/Cisco-IOS-XE-ethernet',\n",
      "                                                                        'auto': 'true'}},\n",
      "                                                       {'ip': {'address': {'primary': {'address': '172.31.12.161',\n",
      "                                                                                       'mask': '255.255.255.0'}}},\n",
      "                                                        'mop': {'enabled': 'false',\n",
      "                                                                'sysid': 'false'},\n",
      "                                                        'name': '2',\n",
      "                                                        'negotiation': {'@xmlns': 'http://cisco.com/ns/yang/Cisco-IOS-XE-ethernet',\n",
      "                                                                        'auto': 'true'}}],\n",
      "                                   'Loopback': {'name': '0'}}}}}\n"
     ]
    }
   ],
   "source": [
    "# Convert the 'response.data_xml' attribute to a Python dictionary\n",
    "py_response = xmltodict.parse(\n",
    "    response.data_xml,\n",
    "    dict_constructor=dict\n",
    ")\n",
    "\n",
    "pprint(py_response)"
   ]
  },
  {
   "cell_type": "code",
   "execution_count": 40,
   "metadata": {},
   "outputs": [
    {
     "name": "stdout",
     "output_type": "stream",
     "text": [
      "\n",
      "--------------------\n",
      "** Interface List **\n",
      "--------------------\n",
      "\n",
      "Interface: GigabitEthernet1\n",
      "\tIP Address: 192.168.2.161\n",
      "\tIP Address: 255.255.255.0\n",
      "\n",
      "Interface: GigabitEthernet2\n",
      "\tIP Address: 172.31.12.161\n",
      "\tIP Address: 255.255.255.0\n",
      "\n",
      "Interface: Loopback0\n",
      "\tIP Address: Not assigned\n"
     ]
    }
   ],
   "source": [
    "# Display configuration information in a more readable format\n",
    "header_msg = '** Interface List **'\n",
    "print(f'\\n{\"-\" * len(header_msg)}')\n",
    "print(header_msg)\n",
    "print(f'{\"-\" * len(header_msg)}\\n')\n",
    "\n",
    "interface_config = py_response['data']['native']['interface']\n",
    "\n",
    "for key, value in interface_config.items():\n",
    "    # Data for multiple interfaces returns as a list of dictionaries\n",
    "    if type(value) is list:\n",
    "        for v in value:\n",
    "            print(f'Interface: {key}{v[\"name\"]}')\n",
    "            if v.get('ip'):\n",
    "                print(f'\\tIP Address: {v[\"ip\"][\"address\"][\"primary\"][\"address\"]}')\n",
    "                print(f'\\tIP Address: {v[\"ip\"][\"address\"][\"primary\"][\"mask\"]}\\n')\n",
    "            else:\n",
    "                print('\\tIP Address: Not assigned')\n",
    "            \n",
    "    # Data for a single interface returns as a dictionary\n",
    "    else:\n",
    "        print(f'Interface: {key}{value[\"name\"]}')\n",
    "        if value.get('ip'):\n",
    "            print(f'\\tIP Address: {value[\"ip\"][\"address\"][\"primary\"][\"address\"]}')\n",
    "            print(f'\\tIP Address: {value[\"ip\"][\"address\"][\"primary\"][\"mask\"]}\\n')\n",
    "        else:\n",
    "            print('\\tIP Address: Not assigned')"
   ]
  },
  {
   "cell_type": "markdown",
   "metadata": {},
   "source": [
    "---\n",
    "#### Task 3i - Update Interface Configuration Details\n",
    "\n",
    "This NETCONF request will use the **edit-config** RPC to add more configuration detail to the new **Loopback 0** interface on **R1**.\n",
    "\n",
    "* Use YANG Suite to build an RPC which configures a new **IP address**, **description,** and **load interval** to the new **Loopback 0** interface:\n",
    "  * YANG Model - **Cisco-IOS-XE-native**\n",
    "  * XPaths:\n",
    "    * **/native/interface/Loopback/name**\n",
    "    * **/native/interface/Loopback/description**\n",
    "    * **/native/interface/Loopback/ip/address/primary**\n",
    "    * **/native/interface/Loopback/load-interval**\n",
    "  * Description - Added by NETCONF\n",
    "  * IPv4 Address - **172.16.10.10**\n",
    "  * Subnet Mask - **255.255.255.255**\n",
    "  * Load Interval - **30**\n",
    "  * Copy and paste the data in the **\\<config\\>** tag from YANG Suite to the **payload** variable (multiline string) below. "
   ]
  },
  {
   "cell_type": "code",
   "execution_count": 41,
   "metadata": {},
   "outputs": [],
   "source": [
    "# Create a multi-line string with an XML payload from YANG Suite\n",
    "payload = '''\n",
    "<config>\n",
    " <native xmlns=\"http://cisco.com/ns/yang/Cisco-IOS-XE-native\">\n",
    "  <interface>\n",
    "    <Loopback>\n",
    "     <name>0</name>\n",
    "     <description>Added by NETCONF</description>\n",
    "     <load-interval>30</load-interval>\n",
    "     <ip>\n",
    "      <address>\n",
    "        <primary>\n",
    "          <address>172.16.10.10</address>\n",
    "          <mask>255.255.255.255</mask>\n",
    "        </primary>\n",
    "      </address>\n",
    "     </ip>\n",
    "    </Loopback>\n",
    "  </interface>\n",
    " </native>\n",
    "</config>\n",
    "'''"
   ]
  },
  {
   "cell_type": "code",
   "execution_count": 42,
   "metadata": {},
   "outputs": [],
   "source": [
    "# Create an <edit-config> RPC message with ncclient\n",
    "with manager.connect(**r1) as conn:\n",
    "    # Use the \"edit_config\" method, set the \"target\" keyword argument to \"running\", and set the \"config\" keyword argument to add the XML payload to the RPC\n",
    "    response = conn.edit_config(target='running', config=payload)"
   ]
  },
  {
   "cell_type": "code",
   "execution_count": 43,
   "metadata": {},
   "outputs": [
    {
     "name": "stdout",
     "output_type": "stream",
     "text": [
      "('<?xml version=\"1.0\" encoding=\"UTF-8\"?>\\n'\n",
      " '<rpc-reply xmlns=\"urn:ietf:params:xml:ns:netconf:base:1.0\" '\n",
      " 'message-id=\"urn:uuid:322222dc-3251-487f-9d47-d02509b1c3e5\" '\n",
      " 'xmlns:nc=\"urn:ietf:params:xml:ns:netconf:base:1.0\"><ok/></rpc-reply>')\n"
     ]
    }
   ],
   "source": [
    "# Display the 'xml' attribute of the \"response\" object and notice the \"<ok/>\" tag in the RPC response\n",
    "pprint(response.xml)"
   ]
  },
  {
   "cell_type": "markdown",
   "metadata": {},
   "source": [
    "---\n",
    "#### Task 3j - Verify Configuration Change\n",
    "\n",
    "This NETCONF request will use the **get-config** RPC to determine whether or not the previous operation added configuration elements to the **Loopback 0** interface on **R1**.\n",
    "\n",
    "* Use YANG Suite to build a build an RPC which gets configuration data for the **R1** interfaces:\n",
    "  * YANG Model - **Cisco-IOS-XE-native**\n",
    "  * XPath - **/native/interface**\n",
    "  * Copy and paste the data in the **\\<filter\\>** tag from YANG Suite to the **payload** variable (multiline string) below. "
   ]
  },
  {
   "cell_type": "code",
   "execution_count": 44,
   "metadata": {},
   "outputs": [],
   "source": [
    "# Create a multi-line string with an XML payload from YANG Suite\n",
    "payload = '''\n",
    "<filter>\n",
    " <native xmlns=\"http://cisco.com/ns/yang/Cisco-IOS-XE-native\">\n",
    "  <interface/>\n",
    " </native>\n",
    "</filter>\n",
    "'''"
   ]
  },
  {
   "cell_type": "code",
   "execution_count": 45,
   "metadata": {},
   "outputs": [],
   "source": [
    "# Create a <get-config> RPC message with ncclient\n",
    "with manager.connect(**r1) as conn:\n",
    "    # Use the \"get_config\" method, set the \"source\" keyword argument to \"running\", and set the \"filter\" keyword argument to add the XML payload to the RPC\n",
    "    response = conn.get_config(source='running', filter=payload)"
   ]
  },
  {
   "cell_type": "code",
   "execution_count": 46,
   "metadata": {},
   "outputs": [
    {
     "name": "stdout",
     "output_type": "stream",
     "text": [
      "{'data': {'@xmlns': 'urn:ietf:params:xml:ns:netconf:base:1.0',\n",
      "          '@xmlns:nc': 'urn:ietf:params:xml:ns:netconf:base:1.0',\n",
      "          'native': {'@xmlns': 'http://cisco.com/ns/yang/Cisco-IOS-XE-native',\n",
      "                     'interface': {'GigabitEthernet': [{'ip': {'address': {'primary': {'address': '192.168.2.161',\n",
      "                                                                                       'mask': '255.255.255.0'}}},\n",
      "                                                        'mop': {'enabled': 'false',\n",
      "                                                                'sysid': 'false'},\n",
      "                                                        'name': '1',\n",
      "                                                        'negotiation': {'@xmlns': 'http://cisco.com/ns/yang/Cisco-IOS-XE-ethernet',\n",
      "                                                                        'auto': 'true'}},\n",
      "                                                       {'ip': {'address': {'primary': {'address': '172.31.12.161',\n",
      "                                                                                       'mask': '255.255.255.0'}}},\n",
      "                                                        'mop': {'enabled': 'false',\n",
      "                                                                'sysid': 'false'},\n",
      "                                                        'name': '2',\n",
      "                                                        'negotiation': {'@xmlns': 'http://cisco.com/ns/yang/Cisco-IOS-XE-ethernet',\n",
      "                                                                        'auto': 'true'}}],\n",
      "                                   'Loopback': {'description': 'Added by '\n",
      "                                                               'NETCONF',\n",
      "                                                'ip': {'address': {'primary': {'address': '172.16.10.10',\n",
      "                                                                               'mask': '255.255.255.255'}}},\n",
      "                                                'load-interval': '30',\n",
      "                                                'name': '0'}}}}}\n"
     ]
    }
   ],
   "source": [
    "# Convert the 'response.data_xml' attribute to a Python dictionary\n",
    "py_response = xmltodict.parse(\n",
    "    response.data_xml,\n",
    "    dict_constructor=dict\n",
    ")\n",
    "\n",
    "pprint(py_response)"
   ]
  },
  {
   "cell_type": "code",
   "execution_count": 50,
   "metadata": {},
   "outputs": [
    {
     "name": "stdout",
     "output_type": "stream",
     "text": [
      "\n",
      "--------------------\n",
      "** Interface List **\n",
      "--------------------\n",
      "\n",
      "Interface: GigabitEthernet1\n",
      "\tDescription: None\n",
      "\tIP Address: 192.168.2.161\n",
      "\tIP Address: 255.255.255.0\n",
      "\n",
      "Interface: GigabitEthernet2\n",
      "\tDescription: None\n",
      "\tIP Address: 172.31.12.161\n",
      "\tIP Address: 255.255.255.0\n",
      "\n",
      "Interface: Loopback0\n",
      "\tDescription: Added by NETCONF\n",
      "\tLoad Interval: 30\n",
      "\tIP Address: 172.16.10.10\n",
      "\tIP Address: 255.255.255.255\n",
      "\n"
     ]
    }
   ],
   "source": [
    "# Display configuration information in a more readable format\n",
    "header_msg = '** Interface List **'\n",
    "print(f'\\n{\"-\" * len(header_msg)}')\n",
    "print(header_msg)\n",
    "print(f'{\"-\" * len(header_msg)}\\n')\n",
    "\n",
    "interface_config = py_response['data']['native']['interface']\n",
    "\n",
    "for key, value in interface_config.items():\n",
    "    # Data for multiple interfaces returns as a list of dictionaries\n",
    "    if type(value) is list:\n",
    "        for v in value:\n",
    "            print(f'Interface: {key}{v[\"name\"]}')\n",
    "            print(f'\\tDescription: {v.get(\"description\", \"None\")}')\n",
    "            if v.get('load-interval'):\n",
    "                print(f'\\tLoad Interval: {key}{value[0][\"load-interval\"]}')\n",
    "            if v.get('ip'):\n",
    "                print(f'\\tIP Address: {v[\"ip\"][\"address\"][\"primary\"][\"address\"]}')\n",
    "                print(f'\\tIP Address: {v[\"ip\"][\"address\"][\"primary\"][\"mask\"]}\\n')\n",
    "            else:\n",
    "                print('\\tIP Address: Not assigned')\n",
    "            \n",
    "    # Data for a single interface returns as a dictionary\n",
    "    else:\n",
    "        print(f'Interface: {key}{value.get(\"name\")}')\n",
    "        print(f'\\tDescription: {value.get(\"description\", \"None\")}')\n",
    "        if value.get('load-interval'):\n",
    "            print(f'\\tLoad Interval: {value[\"load-interval\"]}')\n",
    "        if value.get('ip'):\n",
    "            print(f'\\tIP Address: {value[\"ip\"][\"address\"][\"primary\"][\"address\"]}')\n",
    "            print(f'\\tIP Address: {value[\"ip\"][\"address\"][\"primary\"][\"mask\"]}\\n')\n",
    "        else:\n",
    "            print('\\tIP Address: Not assigned')"
   ]
  },
  {
   "cell_type": "markdown",
   "metadata": {},
   "source": [
    "---\n",
    "#### Task 3k - Delete the New Interface\n",
    "\n",
    "This NETCONF request will use the **edit-config** RPC with the **delete operation** to remove the new **Loopback 0** interface from **R1**.\n",
    "\n",
    "* Use YANG Suite to build an RPC which deletes interface **Loopback 0**:\n",
    "  * YANG Model - **Cisco-IOS-XE-native**\n",
    "  * XPath - **/native/interface/Loopback**\n",
    "  * Loopback Operation - **delete**\n",
    "  * Interface Name - **0**\n",
    "  * Copy and paste the data in the **\\<config\\>** tag from YANG Suite to the **payload** variable (multiline string) below."
   ]
  },
  {
   "cell_type": "code",
   "execution_count": 51,
   "metadata": {},
   "outputs": [],
   "source": [
    "# Create a multi-line string with an XML payload from YANG SUITE\n",
    "payload = '''\n",
    "<config>\n",
    " <native xmlns=\"http://cisco.com/ns/yang/Cisco-IOS-XE-native\">\n",
    "  <interface>\n",
    "    <Loopback operation=\"delete\">\n",
    "     <name>0</name>\n",
    "    </Loopback>\n",
    "  </interface>\n",
    " </native>\n",
    "</config>\n",
    "'''"
   ]
  },
  {
   "cell_type": "code",
   "execution_count": 52,
   "metadata": {},
   "outputs": [],
   "source": [
    "# Create an <edit-config> RPC message with ncclient\n",
    "with manager.connect(**r1) as conn:\n",
    "    # Use the \"edit_config\" method, set the \"target\" keyword argument to \"running\", and set the \"config\" keyword argument to add the XML payload to the RPC\n",
    "    response = conn.edit_config(target='running', config=payload)"
   ]
  },
  {
   "cell_type": "code",
   "execution_count": 53,
   "metadata": {},
   "outputs": [
    {
     "name": "stdout",
     "output_type": "stream",
     "text": [
      "('<?xml version=\"1.0\" encoding=\"UTF-8\"?>\\n'\n",
      " '<rpc-reply xmlns=\"urn:ietf:params:xml:ns:netconf:base:1.0\" '\n",
      " 'message-id=\"urn:uuid:81fadd8a-e087-4b31-b0b3-47c4c6574a03\" '\n",
      " 'xmlns:nc=\"urn:ietf:params:xml:ns:netconf:base:1.0\"><ok/></rpc-reply>')\n"
     ]
    }
   ],
   "source": [
    "# Display the 'xml' attribute of the \"response\" object and notice the \"<ok/>\" tag in the RPC response\n",
    "pprint(response.xml)"
   ]
  },
  {
   "cell_type": "markdown",
   "metadata": {},
   "source": [
    "---\n",
    "#### Task 3l - Verify Configuration Change\n",
    "\n",
    "This NETCONF request will use the **get-config** RPC to determine whether or not the previous operation removed the **Loopback 0** interface from **R1**.\n",
    "\n",
    "* Use YANG Suite to build a build an RPC which gets configuration data for the **R1** interfaces:\n",
    "  * YANG Model - **Cisco-IOS-XE-native**\n",
    "  * XPath - **/native/interface**\n",
    "  * Copy and paste the data in the **\\<filter\\>** tag from YANG Suite to the **payload** variable (multiline string) below. "
   ]
  },
  {
   "cell_type": "code",
   "execution_count": 54,
   "metadata": {},
   "outputs": [],
   "source": [
    "# Create a multi-line string with an XML payload from YANG Suite\n",
    "payload = '''\n",
    "<filter>\n",
    " <native xmlns=\"http://cisco.com/ns/yang/Cisco-IOS-XE-native\">\n",
    "  <interface/>\n",
    " </native>\n",
    "</filter>\n",
    "'''"
   ]
  },
  {
   "cell_type": "code",
   "execution_count": 55,
   "metadata": {
    "tags": []
   },
   "outputs": [],
   "source": [
    "# Create a <get-config> RPC message with ncclient\n",
    "with manager.connect(**r1) as conn:\n",
    "    # Use the \"get_config\" method, set the \"source\" keyword argument to \"running\", and set the \"filter\" keyword argument to add the XML payload to the RPC\n",
    "    response = conn.get_config(source='running', filter=payload)"
   ]
  },
  {
   "cell_type": "code",
   "execution_count": 56,
   "metadata": {},
   "outputs": [
    {
     "name": "stdout",
     "output_type": "stream",
     "text": [
      "{'data': {'@xmlns': 'urn:ietf:params:xml:ns:netconf:base:1.0',\n",
      "          '@xmlns:nc': 'urn:ietf:params:xml:ns:netconf:base:1.0',\n",
      "          'native': {'@xmlns': 'http://cisco.com/ns/yang/Cisco-IOS-XE-native',\n",
      "                     'interface': {'GigabitEthernet': [{'ip': {'address': {'primary': {'address': '192.168.2.161',\n",
      "                                                                                       'mask': '255.255.255.0'}}},\n",
      "                                                        'mop': {'enabled': 'false',\n",
      "                                                                'sysid': 'false'},\n",
      "                                                        'name': '1',\n",
      "                                                        'negotiation': {'@xmlns': 'http://cisco.com/ns/yang/Cisco-IOS-XE-ethernet',\n",
      "                                                                        'auto': 'true'}},\n",
      "                                                       {'ip': {'address': {'primary': {'address': '172.31.12.161',\n",
      "                                                                                       'mask': '255.255.255.0'}}},\n",
      "                                                        'mop': {'enabled': 'false',\n",
      "                                                                'sysid': 'false'},\n",
      "                                                        'name': '2',\n",
      "                                                        'negotiation': {'@xmlns': 'http://cisco.com/ns/yang/Cisco-IOS-XE-ethernet',\n",
      "                                                                        'auto': 'true'}}]}}}}\n"
     ]
    }
   ],
   "source": [
    "# Convert the 'response.data_xml' attribute to a Python dictionary\n",
    "py_response = xmltodict.parse(\n",
    "    response.data_xml,\n",
    "    dict_constructor=dict\n",
    ")\n",
    "\n",
    "pprint(py_response)"
   ]
  },
  {
   "cell_type": "code",
   "execution_count": 59,
   "metadata": {},
   "outputs": [
    {
     "name": "stdout",
     "output_type": "stream",
     "text": [
      "\n",
      "--------------------\n",
      "** Interface List **\n",
      "--------------------\n",
      "\n",
      "Interface: GigabitEthernet1\n",
      "\tDescription: None\n",
      "\tIP Address: 192.168.2.161\n",
      "\tIP Address: 255.255.255.0\n",
      "\n",
      "Interface: GigabitEthernet2\n",
      "\tDescription: None\n",
      "\tIP Address: 172.31.12.161\n",
      "\tIP Address: 255.255.255.0\n",
      "\n"
     ]
    }
   ],
   "source": [
    "# Display configuration information in a more readable format\n",
    "header_msg = '** Interface List **'\n",
    "print(f'\\n{\"-\" * len(header_msg)}')\n",
    "print(header_msg)\n",
    "print(f'{\"-\" * len(header_msg)}\\n')\n",
    "\n",
    "interface_config = py_response['data']['native']['interface']\n",
    "\n",
    "for key, value in interface_config.items():\n",
    "    # Data for multiple interfaces returns as a list of dictionaries\n",
    "    if type(value) is list:\n",
    "        for v in value:\n",
    "            print(f'Interface: {key}{v[\"name\"]}')\n",
    "            print(f'\\tDescription: {v.get(\"description\", \"None\")}')\n",
    "            if v.get('load-interval'):\n",
    "                print(f'\\tLoad Interval: {key}{value[0][\"load-interval\"]}')\n",
    "            if v.get('ip'):\n",
    "                print(f'\\tIP Address: {v[\"ip\"][\"address\"][\"primary\"][\"address\"]}')\n",
    "                print(f'\\tIP Address: {v[\"ip\"][\"address\"][\"primary\"][\"mask\"]}\\n')\n",
    "            else:\n",
    "                print('\\tIP Address: Not assigned')\n",
    "            \n",
    "    # Data for a single interface returns as a dictionary\n",
    "    else:\n",
    "        print(f'Interface: {key}{value.get(\"name\")}')\n",
    "        print(f'\\tDescription: {value.get(\"description\", \"None\")}')\n",
    "        if value.get('load-interval'):\n",
    "            print(f'\\tLoad Interval: {value[\"load-interval\"]}')\n",
    "        if value.get('ip'):\n",
    "            print(f'\\tIP Address: {value[\"ip\"][\"address\"][\"primary\"][\"address\"]}')\n",
    "            print(f'\\tIP Address: {value[\"ip\"][\"address\"][\"primary\"][\"mask\"]}\\n')\n",
    "        else:\n",
    "            print('\\tIP Address: Not assigned')"
   ]
  },
  {
   "cell_type": "markdown",
   "metadata": {},
   "source": [
    "---\n",
    "#### Task 3m - Two-Stage Configuration Changes Using the Candidate Datastore on R2 Incorrectly\n",
    "\n",
    "**Task 1d** showed that **R2** has the **candidate** datastore enabled.  IOS-XE protects the **running** datastore from direct changes whenever the **candidate** datastore is enabled.  This behavior forces NETCONF managers (clients) to make all changes to the **candidate** datastore and then commit **candidate** datastore changes to the **running** datastore.\n",
    "\n",
    "* This NETCONF request will attempt to commit a change directly to the **running** datastore on **R2** while the **candidate** datastore is enabled.\n",
    "\n",
    "\n",
    "* Use YANG Suite to build a configuration for a new Loopback interrface as follows:\n",
    "  * YANG Model - **Cisco-IOS-XE-native**\n",
    "  * XPath - **/native/interface/Loopback**\n",
    "  * Interface Name - **10**\n",
    "  * Copy and paste the data in the **\\<config\\>** tag from YANG Suite to the **payload** variable (multiline string) below. "
   ]
  },
  {
   "cell_type": "code",
   "execution_count": 60,
   "metadata": {},
   "outputs": [],
   "source": [
    "# Create a multi-line string with an XML payload from YANG Suite\n",
    "payload = '''\n",
    "<config>\n",
    " <native xmlns=\"http://cisco.com/ns/yang/Cisco-IOS-XE-native\">\n",
    "  <interface>\n",
    "    <Loopback>\n",
    "      <name>10</name>\n",
    "    </Loopback>\n",
    "  </interface>\n",
    " </native>\n",
    "</config>\n",
    "'''"
   ]
  },
  {
   "cell_type": "code",
   "execution_count": 61,
   "metadata": {},
   "outputs": [
    {
     "name": "stdout",
     "output_type": "stream",
     "text": [
      "RPCError('Unsupported capability :writable-running')\n"
     ]
    }
   ],
   "source": [
    "# Import the ncclient 'RPCError' class to catch NETCONF RPC exceptions\n",
    "from ncclient.operations.rpc import RPCError\n",
    "\n",
    "# Use a try/except block to create an <edit-config> RPC message with ncclient which directly targets the \"running\" datastore on R2\n",
    "with manager.connect(**r2) as conn:\n",
    "    try:\n",
    "        # Use the \"edit_config\" method, set the \"target\" keyword argument to \"running\", and set the \"config\" keyword argument to add the XML payload to the RPC\n",
    "        response = conn.edit_config(target='running', config=payload)\n",
    "    except RPCError as e:\n",
    "        # If an RPCError excaption is caught, display a printable representation of the exception\n",
    "        # Notice the details of any RPCError message\n",
    "        print(repr(e))\n",
    "    "
   ]
  },
  {
   "cell_type": "markdown",
   "metadata": {},
   "source": [
    "---\n",
    "#### Task 3n - Two-Stage Configuration Changes Using the Candidate Datastore on R2 Correctly\n",
    "\n",
    "This NETCONF request will attempt to commit a two-stage configuration change to **R2** by first targeting the **candidate** datastore.\n",
    "* The two-stage commit process requires that the NETCONF session remain open throughout the entire configuration process.\n",
    "* As such, the code to support the two-stage commit will not use the Python **context manager**, which automatically closes NETCONF sessions.\n",
    "* We will manually close the NETCONF session in a later task, after the two-stage commit is complete.\n",
    "\n",
    "\n",
    "* Use YANG Suite to build a configuration for a new Loopback interrface as follows:\n",
    "  * YANG Model - **Cisco-IOS-XE-native**\n",
    "  * XPath - **/native/interface/Loopback**\n",
    "  * Interface Name - **10**\n",
    "  * Copy and paste the data in the **\\<config\\>** tag from YANG Suite to the **payload** variable (multiline string) below. "
   ]
  },
  {
   "cell_type": "code",
   "execution_count": 62,
   "metadata": {},
   "outputs": [],
   "source": [
    "# Create a multi-line string with an XML payload from YANG Suite\n",
    "payload = '''\n",
    "<config>\n",
    " <native xmlns=\"http://cisco.com/ns/yang/Cisco-IOS-XE-native\">\n",
    "  <interface>\n",
    "    <Loopback>\n",
    "      <name>10</name>\n",
    "    </Loopback>\n",
    "  </interface>\n",
    " </native>\n",
    "</config>\n",
    "'''"
   ]
  },
  {
   "cell_type": "code",
   "execution_count": 63,
   "metadata": {},
   "outputs": [],
   "source": [
    "# Try the same <edit-config> RPC message again but target the \"candidate\" datastore this time\n",
    "# Do not use the context manager for this exercise, in order to keep the NETCONF session open for multiple operations\n",
    "conn = manager.connect(**r2)\n",
    "# Use the \"edit_config\" method, set the \"target\" keyword argument to \"candidate\", and set the \"config\" keyword argument to add the XML payload to the RPC\n",
    "response = conn.edit_config(target='candidate', config=payload)  "
   ]
  },
  {
   "cell_type": "code",
   "execution_count": 64,
   "metadata": {},
   "outputs": [
    {
     "name": "stdout",
     "output_type": "stream",
     "text": [
      "['ERROR_CLS', 'error', 'errors', 'ok', 'parse', 'xml']\n"
     ]
    }
   ],
   "source": [
    "# Display the attributes and methods in the response object\n",
    "properties = [prop for prop in dir(response) if prop[0] != '_' ]\n",
    "print(properties)"
   ]
  },
  {
   "cell_type": "code",
   "execution_count": 65,
   "metadata": {},
   "outputs": [
    {
     "name": "stdout",
     "output_type": "stream",
     "text": [
      "('<?xml version=\"1.0\" encoding=\"UTF-8\"?>\\n'\n",
      " '<rpc-reply xmlns=\"urn:ietf:params:xml:ns:netconf:base:1.0\" '\n",
      " 'message-id=\"urn:uuid:6bddad6b-00d1-4304-b243-f4c144eea63d\" '\n",
      " 'xmlns:nc=\"urn:ietf:params:xml:ns:netconf:base:1.0\"><ok/></rpc-reply>')\n"
     ]
    }
   ],
   "source": [
    "# Display the 'xml' attribute of the \"response\" object and notice the \"<ok/>\" tag in the RPC response\n",
    "pprint(response.xml)"
   ]
  },
  {
   "cell_type": "markdown",
   "metadata": {},
   "source": [
    "---\n",
    "#### Task 3o - Verify Configuration Change\n",
    "Confirm the change to the **candidate** datastore does not appear in the **running** datastore, yet.\n",
    "This NETCONF request will confirm the change to the **candidate** datastore does not appear in the **running** datastore on **R2**, yet.\n",
    "\n",
    "* Use YANG Suite to build a build an RPC which gets configuration data for the **R2** interfaces:\n",
    "  * YANG Model - **Cisco-IOS-XE-native**\n",
    "  * XPath - **/native/interface**\n",
    "  * Copy and paste the data in the **\\<filter\\>** tag from YANG Suite to the **payload** variable (multiline string) below. "
   ]
  },
  {
   "cell_type": "code",
   "execution_count": 66,
   "metadata": {},
   "outputs": [],
   "source": [
    "# Create a multi-line string with an XML payload from YANG Suite\n",
    "payload = '''\n",
    "<filter>\n",
    " <native xmlns=\"http://cisco.com/ns/yang/Cisco-IOS-XE-native\">\n",
    "  <interface/>\n",
    " </native>\n",
    "</filter>\n",
    "'''"
   ]
  },
  {
   "cell_type": "code",
   "execution_count": 67,
   "metadata": {},
   "outputs": [],
   "source": [
    "# Create a <get-config> RPC message with ncclient\n",
    "# Use the already-open NETCONF session in the 'conn' variable\n",
    "# Once again, do not use the context manager for this exercise, in order to keep the NETCONF session open for multiple operations\n",
    "# Use the \"get_config\" method, set the \"source\" keyword argument to \"running\", and set the \"filter\" keyword argument to add the XML payload to the RPC\n",
    "response = conn.get_config(source='running', filter=payload)"
   ]
  },
  {
   "cell_type": "code",
   "execution_count": 68,
   "metadata": {},
   "outputs": [
    {
     "name": "stdout",
     "output_type": "stream",
     "text": [
      "{'data': {'@xmlns': 'urn:ietf:params:xml:ns:netconf:base:1.0',\n",
      "          '@xmlns:nc': 'urn:ietf:params:xml:ns:netconf:base:1.0',\n",
      "          'native': {'@xmlns': 'http://cisco.com/ns/yang/Cisco-IOS-XE-native',\n",
      "                     'interface': {'GigabitEthernet': [{'ip': {'address': {'primary': {'address': '192.168.2.162',\n",
      "                                                                                       'mask': '255.255.255.0'}}},\n",
      "                                                        'mop': {'enabled': 'false',\n",
      "                                                                'sysid': 'false'},\n",
      "                                                        'name': '1',\n",
      "                                                        'negotiation': {'@xmlns': 'http://cisco.com/ns/yang/Cisco-IOS-XE-ethernet',\n",
      "                                                                        'auto': 'true'}},\n",
      "                                                       {'ip': {'address': {'primary': {'address': '172.31.12.162',\n",
      "                                                                                       'mask': '255.255.255.0'}}},\n",
      "                                                        'mop': {'enabled': 'false',\n",
      "                                                                'sysid': 'false'},\n",
      "                                                        'name': '2',\n",
      "                                                        'negotiation': {'@xmlns': 'http://cisco.com/ns/yang/Cisco-IOS-XE-ethernet',\n",
      "                                                                        'auto': 'true'}}],\n",
      "                                   'Loopback': {'name': '10'}}}}}\n"
     ]
    }
   ],
   "source": [
    "# Convert the 'response.data_xml' attribute to a Python dictionary\n",
    "py_response = xmltodict.parse(\n",
    "    response.data_xml,\n",
    "    dict_constructor=dict\n",
    ")\n",
    "\n",
    "pprint(py_response)"
   ]
  },
  {
   "cell_type": "code",
   "execution_count": 71,
   "metadata": {},
   "outputs": [
    {
     "name": "stdout",
     "output_type": "stream",
     "text": [
      "\n",
      "--------------------\n",
      "** Interface List **\n",
      "--------------------\n",
      "\n",
      "Interface: GigabitEthernet1\n",
      "\tDescription: None\n",
      "\tIP Address: 192.168.2.162\n",
      "\tIP Address: 255.255.255.0\n",
      "\n",
      "Interface: GigabitEthernet2\n",
      "\tDescription: None\n",
      "\tIP Address: 172.31.12.162\n",
      "\tIP Address: 255.255.255.0\n",
      "\n",
      "Interface: Loopback10\n",
      "\tDescription: None\n",
      "\tIP Address: Not assigned\n"
     ]
    }
   ],
   "source": [
    "# Display configuration information in a more readable format\n",
    "header_msg = '** Interface List **'\n",
    "print(f'\\n{\"-\" * len(header_msg)}')\n",
    "print(header_msg)\n",
    "print(f'{\"-\" * len(header_msg)}\\n')\n",
    "\n",
    "interface_config = py_response['data']['native']['interface']\n",
    "\n",
    "for key, value in interface_config.items():\n",
    "    # Data for multiple interfaces returns as a list of dictionaries\n",
    "    if type(value) is list:\n",
    "        for v in value:\n",
    "            print(f'Interface: {key}{v[\"name\"]}')\n",
    "            print(f'\\tDescription: {v.get(\"description\", \"None\")}')\n",
    "            if v.get('load-interval'):\n",
    "                print(f'\\tLoad Interval: {key}{value[0][\"load-interval\"]}')\n",
    "            if v.get('ip'):\n",
    "                print(f'\\tIP Address: {v[\"ip\"][\"address\"][\"primary\"][\"address\"]}')\n",
    "                print(f'\\tIP Address: {v[\"ip\"][\"address\"][\"primary\"][\"mask\"]}\\n')\n",
    "            else:\n",
    "                print('\\tIP Address: Not assigned')\n",
    "            \n",
    "    # Data for a single interface returns as a dictionary\n",
    "    else:\n",
    "        print(f'Interface: {key}{value.get(\"name\")}')\n",
    "        print(f'\\tDescription: {value.get(\"description\", \"None\")}')\n",
    "        if value.get('load-interval'):\n",
    "            print(f'\\tLoad Interval: {value[\"load-interval\"]}')\n",
    "        if value.get('ip'):\n",
    "            print(f'\\tIP Address: {value[\"ip\"][\"address\"][\"primary\"][\"address\"]}')\n",
    "            print(f'\\tIP Address: {value[\"ip\"][\"address\"][\"primary\"][\"mask\"]}\\n')\n",
    "        else:\n",
    "            print('\\tIP Address: Not assigned')"
   ]
  },
  {
   "cell_type": "markdown",
   "metadata": {},
   "source": [
    "---\n",
    "#### Task 3p - Copy the Candidate Datastore on R2 to the Running Datastore\n",
    "\n",
    "On order to commit the changes in the **candidate** datastore to the **running** datastore, it is necessary to use the NETCONF **commit** RPC.\n",
    "\n",
    "* **ncclient** has a **method** available named **commit** which sends a NETCONF **commit** RPC.\n",
    "* No other XML data is necessary to send the **commit** RPC."
   ]
  },
  {
   "cell_type": "code",
   "execution_count": 72,
   "metadata": {},
   "outputs": [],
   "source": [
    "# Create a <commit> RPC message with ncclient, to commit \"candidate\" datastore changes to the \"running\" datastore\n",
    "# Use the already-open NETCONF session in the 'conn' variable\n",
    "# Once again, do not use the context manager for this exercise, in order to keep the NETCONF session open for multiple operations\n",
    "# Use the \"commit\" method\n",
    "response = conn.commit()"
   ]
  },
  {
   "cell_type": "code",
   "execution_count": 73,
   "metadata": {},
   "outputs": [
    {
     "name": "stdout",
     "output_type": "stream",
     "text": [
      "['ERROR_CLS', 'error', 'errors', 'ok', 'parse', 'xml']\n"
     ]
    }
   ],
   "source": [
    "# Display the attributes and methods in the response object\n",
    "properties = [prop for prop in dir(response) if prop[0] != '_' ]\n",
    "print(properties)"
   ]
  },
  {
   "cell_type": "code",
   "execution_count": 74,
   "metadata": {},
   "outputs": [
    {
     "name": "stdout",
     "output_type": "stream",
     "text": [
      "('<?xml version=\"1.0\" encoding=\"UTF-8\"?>\\n'\n",
      " '<rpc-reply xmlns=\"urn:ietf:params:xml:ns:netconf:base:1.0\" '\n",
      " 'message-id=\"urn:uuid:2876c51c-42b8-472f-8082-5f4214f77d5c\" '\n",
      " 'xmlns:nc=\"urn:ietf:params:xml:ns:netconf:base:1.0\"><ok/></rpc-reply>')\n"
     ]
    }
   ],
   "source": [
    "# Display the 'xml' attribute of the \"response\" object and notice the \"<ok/>\" tag in the RPC response\n",
    "pprint(response.xml)"
   ]
  },
  {
   "cell_type": "markdown",
   "metadata": {},
   "source": [
    "---\n",
    "#### Task 3q - Verify Configuration Change\n",
    "\n",
    "This NETCONF request will confirm the change to the **candidate** datastore now *does* appear in the **running** datastore on **R2**.\n",
    "\n",
    "* Use YANG Suite to build a build an RPC which gets configuration data for the **R2** interfaces:\n",
    "  * YANG Model - **Cisco-IOS-XE-native**\n",
    "  * XPath - **/native/interface**\n",
    "  * Copy and paste the data in the **\\<filter\\>** tag from YANG Suite to the **payload** variable (multiline string) below. "
   ]
  },
  {
   "cell_type": "code",
   "execution_count": 75,
   "metadata": {},
   "outputs": [],
   "source": [
    "# Create a multi-line string with an XML payload from YANG Suite\n",
    "payload = '''\n",
    "<filter>\n",
    " <native xmlns=\"http://cisco.com/ns/yang/Cisco-IOS-XE-native\">\n",
    "  <interface/>\n",
    " </native>\n",
    "</filter>\n",
    "'''"
   ]
  },
  {
   "cell_type": "code",
   "execution_count": 76,
   "metadata": {},
   "outputs": [],
   "source": [
    "# Create a <get-config> RPC message with ncclient\n",
    "# Use the already-open NETCONF session in the 'conn' variable\n",
    "# Once again, do not use the context manager for this exercise, in order to keep the NETCONF session open for multiple operations\n",
    "# Use the \"get_config\" method, set the \"source\" keyword argument to \"running\", and set the \"filter\" keyword argument to add the XML payload to the RPC\n",
    "response = conn.get_config(source='running', filter=payload)"
   ]
  },
  {
   "cell_type": "code",
   "execution_count": 77,
   "metadata": {},
   "outputs": [
    {
     "name": "stdout",
     "output_type": "stream",
     "text": [
      "{'data': {'@xmlns': 'urn:ietf:params:xml:ns:netconf:base:1.0',\n",
      "          '@xmlns:nc': 'urn:ietf:params:xml:ns:netconf:base:1.0',\n",
      "          'native': {'@xmlns': 'http://cisco.com/ns/yang/Cisco-IOS-XE-native',\n",
      "                     'interface': {'GigabitEthernet': [{'ip': {'address': {'primary': {'address': '192.168.2.162',\n",
      "                                                                                       'mask': '255.255.255.0'}}},\n",
      "                                                        'mop': {'enabled': 'false',\n",
      "                                                                'sysid': 'false'},\n",
      "                                                        'name': '1',\n",
      "                                                        'negotiation': {'@xmlns': 'http://cisco.com/ns/yang/Cisco-IOS-XE-ethernet',\n",
      "                                                                        'auto': 'true'}},\n",
      "                                                       {'ip': {'address': {'primary': {'address': '172.31.12.162',\n",
      "                                                                                       'mask': '255.255.255.0'}}},\n",
      "                                                        'mop': {'enabled': 'false',\n",
      "                                                                'sysid': 'false'},\n",
      "                                                        'name': '2',\n",
      "                                                        'negotiation': {'@xmlns': 'http://cisco.com/ns/yang/Cisco-IOS-XE-ethernet',\n",
      "                                                                        'auto': 'true'}}],\n",
      "                                   'Loopback': {'name': '10'}}}}}\n"
     ]
    }
   ],
   "source": [
    "# Convert the 'response.data_xml' attribute to a Python dictionary\n",
    "py_response = xmltodict.parse(\n",
    "    response.data_xml,\n",
    "    dict_constructor=dict\n",
    ")\n",
    "\n",
    "pprint(py_response)"
   ]
  },
  {
   "cell_type": "code",
   "execution_count": 80,
   "metadata": {},
   "outputs": [
    {
     "name": "stdout",
     "output_type": "stream",
     "text": [
      "\n",
      "--------------------\n",
      "** Interface List **\n",
      "--------------------\n",
      "\n",
      "Interface: GigabitEthernet1\n",
      "\tDescription: None\n",
      "\tIP Address: 192.168.2.162\n",
      "\tIP Address: 255.255.255.0\n",
      "\n",
      "Interface: GigabitEthernet2\n",
      "\tDescription: None\n",
      "\tIP Address: 172.31.12.162\n",
      "\tIP Address: 255.255.255.0\n",
      "\n",
      "Interface: Loopback10\n",
      "\tDescription: None\n",
      "\tIP Address: Not assigned\n"
     ]
    }
   ],
   "source": [
    "# Display configuration information in a more readable format\n",
    "header_msg = '** Interface List **'\n",
    "print(f'\\n{\"-\" * len(header_msg)}')\n",
    "print(header_msg)\n",
    "print(f'{\"-\" * len(header_msg)}\\n')\n",
    "\n",
    "interface_config = py_response['data']['native']['interface']\n",
    "\n",
    "for key, value in interface_config.items():\n",
    "    # Data for multiple interfaces returns as a list of dictionaries\n",
    "    if type(value) is list:\n",
    "        for v in value:\n",
    "            print(f'Interface: {key}{v[\"name\"]}')\n",
    "            print(f'\\tDescription: {v.get(\"description\", \"None\")}')\n",
    "            if v.get('load-interval'):\n",
    "                print(f'\\tLoad Interval: {key}{value[0][\"load-interval\"]}')\n",
    "            if v.get('ip'):\n",
    "                print(f'\\tIP Address: {v[\"ip\"][\"address\"][\"primary\"][\"address\"]}')\n",
    "                print(f'\\tIP Address: {v[\"ip\"][\"address\"][\"primary\"][\"mask\"]}\\n')\n",
    "            else:\n",
    "                print('\\tIP Address: Not assigned')\n",
    "            \n",
    "    # Data for a single interface returns as a dictionary\n",
    "    else:\n",
    "        print(f'Interface: {key}{value.get(\"name\")}')\n",
    "        print(f'\\tDescription: {value.get(\"description\", \"None\")}')\n",
    "        if value.get('load-interval'):\n",
    "            print(f'\\tLoad Interval: {value[\"load-interval\"]}')\n",
    "        if value.get('ip'):\n",
    "            print(f'\\tIP Address: {value[\"ip\"][\"address\"][\"primary\"][\"address\"]}')\n",
    "            print(f'\\tIP Address: {value[\"ip\"][\"address\"][\"primary\"][\"mask\"]}\\n')\n",
    "        else:\n",
    "            print('\\tIP Address: Not assigned')"
   ]
  },
  {
   "cell_type": "markdown",
   "metadata": {},
   "source": [
    "---\n",
    "#### Task 3r - Close the NETCONF Session\n",
    "\n",
    "Now that the two-stage commit process is complete, we can manually close the NETCONF session to **R2**.\n",
    "* **ncclient** has a **method** available named **close_session** which sends a NETCONF close session RPC.\n",
    "* No other XML data is necessary to send the **close_session** RPC."
   ]
  },
  {
   "cell_type": "code",
   "execution_count": 81,
   "metadata": {},
   "outputs": [],
   "source": [
    "# Create a <close-session> RPC message with ncclient to gracefully close the NETCONF session to R2\n",
    "response = conn.close_session()"
   ]
  },
  {
   "cell_type": "code",
   "execution_count": 82,
   "metadata": {},
   "outputs": [
    {
     "name": "stdout",
     "output_type": "stream",
     "text": [
      "['ERROR_CLS', 'error', 'errors', 'ok', 'parse', 'xml']\n"
     ]
    }
   ],
   "source": [
    "# Display the attributes and methods in the response object\n",
    "properties = [prop for prop in dir(response) if prop[0] != '_' ]\n",
    "print(properties)"
   ]
  },
  {
   "cell_type": "code",
   "execution_count": 83,
   "metadata": {},
   "outputs": [
    {
     "name": "stdout",
     "output_type": "stream",
     "text": [
      "('<?xml version=\"1.0\" encoding=\"UTF-8\"?>\\n'\n",
      " '<rpc-reply xmlns=\"urn:ietf:params:xml:ns:netconf:base:1.0\" '\n",
      " 'message-id=\"urn:uuid:30112032-c0ef-44f9-8812-c90853190c67\" '\n",
      " 'xmlns:nc=\"urn:ietf:params:xml:ns:netconf:base:1.0\"><ok/></rpc-reply>')\n"
     ]
    }
   ],
   "source": [
    "# Display the 'xml' attribute of the \"response\" object and notice the \"<ok/>\" tag in the RPC response\n",
    "pprint(response.xml)"
   ]
  },
  {
   "cell_type": "markdown",
   "metadata": {},
   "source": [
    "---\n",
    "#### Task 3s - Save Running Configurations to Startup Configurations\n",
    "\n",
    "Now that configuration changes are complete to both **R1** and **R2**, we can copy the contents of the **running** datastore to the **startup** datastore.\n",
    "* This is equivalent to the IOS-XE CLI command *copy running-config startup-config* and will preserve configuration changes across boot cycles.\n",
    "* This action requires a proprietary XML RPC payload which Cisco provides in [IOS-XE documentation](https://www.cisco.com/c/en/us/td/docs/ios-xml/ios/prog/configuration/166/b_166_programmability_cg/configuring_yang_datamodel.html#id_84436).\n",
    "\n",
    "\n",
    "**IOS-XE Save Configuration RPC Payload:**\n",
    "```xml\n",
    "<?xml version=\"1.0\" encoding=\"utf-8\"?>\n",
    "<rpc xmlns=\"urn:ietf:params:xml:ns:netconf:base:1.0\" message-id=\"\">\n",
    "    <cisco-ia:save-config xmlns:cisco-ia=\"http://cisco.com/yang/cisco-ia\"/>\n",
    "</rpc>\n",
    "```\n",
    "\n",
    "\n",
    "* **ncclient** has a **method** named **dispatch** which allows you to send a custom NETCONF RPC message.\n",
    "* The **dispatch** method requires that the RPC payload be in the format of an XML document (not a raw string).\n",
    "  * **lxml** is a Python module which can convert XML strings into an XML document.\n",
    "  * **lxml** is available on [PyPI](https://pypi.org/project/lxml/) and is pre-installed in this environment.\n",
    "  * The [**fromstring**](https://lxml.de/apidoc/lxml.etree.html?highlight=fromstring#lxml.etree.fromstring) method in the [**lxml.etree**](https://lxml.de/api.html#lxml-etree) class is the specific method we will use to perform the XML string to XML document conversion.\n",
    "\n",
    "\n",
    "The next series of steps will:\n",
    "* Create a **string** object with the Cisco IOS-XE-specific RPC to save configurations.\n",
    "* Import the **fromstring** method from the **lxml.etree** class.\n",
    "* Convert the **string** object into an **XML document**.\n",
    "* Use the **ncclient dispatch method** to send the **XML document** to **R1** and **R2** within a NETCONF RPC."
   ]
  },
  {
   "cell_type": "code",
   "execution_count": 84,
   "metadata": {},
   "outputs": [],
   "source": [
    "# Create an XML string with the required payload to save the configuration\n",
    "save_config_string = '<cisco-ia:save-config xmlns:cisco-ia=\"http://cisco.com/yang/cisco-ia\"/>'"
   ]
  },
  {
   "cell_type": "code",
   "execution_count": 85,
   "metadata": {},
   "outputs": [],
   "source": [
    "# Import the \"fromstring\" method from the lxml.etree class, to convert the payload string into an XML document\n",
    "from lxml.etree import fromstring"
   ]
  },
  {
   "cell_type": "code",
   "execution_count": 86,
   "metadata": {},
   "outputs": [],
   "source": [
    "# Use the \"fromstring\" method to convert the payload string into an XML document and assign the result to the variable \"payload\"\n",
    "payload = fromstring(save_config_string)"
   ]
  },
  {
   "cell_type": "code",
   "execution_count": 87,
   "metadata": {},
   "outputs": [
    {
     "name": "stdout",
     "output_type": "stream",
     "text": [
      "<class 'lxml.etree._Element'>\n",
      "<Element {http://cisco.com/yang/cisco-ia}save-config at 0x7f8a4cb74040>\n"
     ]
    }
   ],
   "source": [
    "# Print the type and contents of the \"payload\" variable\n",
    "print(type(payload))\n",
    "print(payload)"
   ]
  },
  {
   "cell_type": "code",
   "execution_count": 88,
   "metadata": {},
   "outputs": [],
   "source": [
    "# Create <copy-config> RPC messages with ncclient, to copy the \"running\" datastore contents to the \"startup\" datastore, for both R1 & R2\n",
    "with manager.connect(**r1) as conn:\n",
    "    # Use the \"dispatch\" method and pass the XML-formatted payload as an argument\n",
    "    r1_response = conn.dispatch(payload)\n",
    "\n",
    "with manager.connect(**r2) as conn:\n",
    "    # Use the \"dispatch\" method and pass the XML-formatted payload as an argument\n",
    "    r2_response = conn.dispatch(payload)"
   ]
  },
  {
   "cell_type": "code",
   "execution_count": 89,
   "metadata": {},
   "outputs": [
    {
     "name": "stdout",
     "output_type": "stream",
     "text": [
      "['ERROR_CLS', 'error', 'errors', 'ok', 'parse', 'xml']\n"
     ]
    }
   ],
   "source": [
    "# Display the attributes and methods in one of the response objects\n",
    "properties = [prop for prop in dir(r1_response) if prop[0] != '_' ]\n",
    "print(properties)"
   ]
  },
  {
   "cell_type": "code",
   "execution_count": 90,
   "metadata": {},
   "outputs": [
    {
     "name": "stdout",
     "output_type": "stream",
     "text": [
      "R1 Response XML:\n",
      "<?xml version=\"1.0\" encoding=\"UTF-8\"?>\n",
      "<rpc-reply xmlns=\"urn:ietf:params:xml:ns:netconf:base:1.0\" message-id=\"urn:uuid:89e92499-c243-42a5-bdf0-014a40318d46\" xmlns:nc=\"urn:ietf:params:xml:ns:netconf:base:1.0\"><result xmlns='http://cisco.com/yang/cisco-ia'>Save running-config successful</result>\n",
      "</rpc-reply>\n",
      "----------------------------------------------------------------------------------------------------\n",
      "R2 Response XML:\n",
      "<?xml version=\"1.0\" encoding=\"UTF-8\"?>\n",
      "<rpc-reply xmlns=\"urn:ietf:params:xml:ns:netconf:base:1.0\" message-id=\"urn:uuid:44bd86a8-ce30-4e0b-b853-8d7a68610482\" xmlns:nc=\"urn:ietf:params:xml:ns:netconf:base:1.0\"><result xmlns='http://cisco.com/yang/cisco-ia'>Save running-config successful</result>\n",
      "</rpc-reply>\n"
     ]
    }
   ],
   "source": [
    "# Display the 'xml' attribute of the \"r1_response\" and \"rw_response\" objects and notice the message in the <result> tag of each RPC response\n",
    "print(\"R1 Response XML:\")\n",
    "print(r1_response.xml)\n",
    "\n",
    "print(\"-\" * 100)\n",
    "\n",
    "print(\"R2 Response XML:\")\n",
    "print(r2_response.xml)"
   ]
  },
  {
   "cell_type": "code",
   "execution_count": 91,
   "metadata": {},
   "outputs": [
    {
     "name": "stdout",
     "output_type": "stream",
     "text": [
      "R1 Response Dictionary:\n",
      "{'rpc-reply': {'@message-id': 'urn:uuid:89e92499-c243-42a5-bdf0-014a40318d46',\n",
      "               '@xmlns': 'urn:ietf:params:xml:ns:netconf:base:1.0',\n",
      "               '@xmlns:nc': 'urn:ietf:params:xml:ns:netconf:base:1.0',\n",
      "               'result': {'#text': 'Save running-config successful',\n",
      "                          '@xmlns': 'http://cisco.com/yang/cisco-ia'}}}\n",
      "----------------------------------------------------------------------------------------------------\n",
      "R2 Response Dictionary:\n",
      "{'rpc-reply': {'@message-id': 'urn:uuid:44bd86a8-ce30-4e0b-b853-8d7a68610482',\n",
      "               '@xmlns': 'urn:ietf:params:xml:ns:netconf:base:1.0',\n",
      "               '@xmlns:nc': 'urn:ietf:params:xml:ns:netconf:base:1.0',\n",
      "               'result': {'#text': 'Save running-config successful',\n",
      "                          '@xmlns': 'http://cisco.com/yang/cisco-ia'}}}\n"
     ]
    }
   ],
   "source": [
    "# Convert the 'r1_response.xml' and 'r2_response.xml' attributes to Python dictionaries\n",
    "py_r1_response = xmltodict.parse(\n",
    "    r1_response.xml,\n",
    "    dict_constructor=dict\n",
    ")\n",
    "\n",
    "py_r2_response = xmltodict.parse(\n",
    "    r2_response.xml,\n",
    "    dict_constructor=dict\n",
    ")\n",
    "\n",
    "print(\"R1 Response Dictionary:\")\n",
    "pprint(py_r1_response)\n",
    "\n",
    "print(\"-\" * 100)\n",
    "\n",
    "print(\"R2 Response Dictionary:\")\n",
    "pprint(py_r2_response)"
   ]
  },
  {
   "cell_type": "code",
   "execution_count": 92,
   "metadata": {},
   "outputs": [
    {
     "name": "stdout",
     "output_type": "stream",
     "text": [
      "Response from R1: Save running-config successful\n",
      "--------------------------------------------------\n",
      "Response from R2: Save running-config successful\n"
     ]
    }
   ],
   "source": [
    "# Display the response information in a more readable format\n",
    "print(f'Response from R1: {py_r1_response[\"rpc-reply\"][\"result\"][\"#text\"]}')\n",
    "\n",
    "print(\"-\" * 50)\n",
    "\n",
    "print(f'Response from R2: {py_r2_response[\"rpc-reply\"][\"result\"][\"#text\"]}')"
   ]
  },
  {
   "cell_type": "markdown",
   "metadata": {},
   "source": [
    "---\n",
    "#### Lab Excersices Complete"
   ]
  },
  {
   "cell_type": "code",
   "execution_count": null,
   "metadata": {},
   "outputs": [],
   "source": []
  }
 ],
 "metadata": {
  "kernelspec": {
   "display_name": "Python 3 (ipykernel)",
   "language": "python",
   "name": "python3"
  },
  "language_info": {
   "codemirror_mode": {
    "name": "ipython",
    "version": 3
   },
   "file_extension": ".py",
   "mimetype": "text/x-python",
   "name": "python",
   "nbconvert_exporter": "python",
   "pygments_lexer": "ipython3",
   "version": "3.9.6"
  }
 },
 "nbformat": 4,
 "nbformat_minor": 4
}
